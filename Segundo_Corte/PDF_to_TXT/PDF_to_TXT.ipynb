{
  "nbformat": 4,
  "nbformat_minor": 0,
  "metadata": {
    "colab": {
      "name": "PDF_to_TXT.ipynb",
      "provenance": []
    },
    "kernelspec": {
      "name": "python3",
      "display_name": "Python 3"
    },
    "language_info": {
      "name": "python"
    }
  },
  "cells": [
    {
      "cell_type": "markdown",
      "metadata": {
        "id": "atxQPoOBPCte"
      },
      "source": [
        "# Convertir un archivo de tipo .pdf a .txt"
      ]
    },
    {
      "cell_type": "code",
      "metadata": {
        "colab": {
          "base_uri": "https://localhost:8080/"
        },
        "id": "fmhUj7P9Nm3L",
        "outputId": "fb9a11fe-5ba3-4dd7-b32c-1ea6361d6d6b"
      },
      "source": [
        "!pip install PyMuPDF"
      ],
      "execution_count": 1,
      "outputs": [
        {
          "output_type": "stream",
          "text": [
            "Collecting PyMuPDF\n",
            "\u001b[?25l  Downloading https://files.pythonhosted.org/packages/bf/e8/bfd971ed4515fcdc0f7eec374a515f4608b141c62a0fb6949ad8425fb80b/PyMuPDF-1.18.13-cp37-cp37m-manylinux2010_x86_64.whl (6.4MB)\n",
            "\u001b[K     |████████████████████████████████| 6.4MB 26.1MB/s \n",
            "\u001b[?25hInstalling collected packages: PyMuPDF\n",
            "Successfully installed PyMuPDF-1.18.13\n"
          ],
          "name": "stdout"
        }
      ]
    },
    {
      "cell_type": "code",
      "metadata": {
        "id": "f0C8RCDLNtrs"
      },
      "source": [
        "import fitz"
      ],
      "execution_count": 2,
      "outputs": []
    },
    {
      "cell_type": "code",
      "metadata": {
        "colab": {
          "base_uri": "https://localhost:8080/"
        },
        "id": "3jM8PBPeN4Ql",
        "outputId": "a4fe619c-01dd-4066-97d2-5f1ac16726ff"
      },
      "source": [
        "from google.colab import drive\n",
        "drive.mount('/content/drive')"
      ],
      "execution_count": 3,
      "outputs": [
        {
          "output_type": "stream",
          "text": [
            "Mounted at /content/drive\n"
          ],
          "name": "stdout"
        }
      ]
    },
    {
      "cell_type": "code",
      "metadata": {
        "colab": {
          "base_uri": "https://localhost:8080/"
        },
        "id": "SSj2eFSmNzMh",
        "outputId": "344e7625-fe06-4498-b57e-ce3a812359ca"
      },
      "source": [
        "file_pdf = '/content/drive/MyDrive/Colab Notebooks/LasMinasDelReySalomon.pdf'\n",
        "document = fitz.open(file_pdf)"
      ],
      "execution_count": 5,
      "outputs": [
        {
          "output_type": "stream",
          "text": [
            "mupdf: expected object number\n"
          ],
          "name": "stderr"
        }
      ]
    },
    {
      "cell_type": "markdown",
      "metadata": {
        "id": "A4Xxz2xfOfYL"
      },
      "source": [
        "## Extraer información básica del documento"
      ]
    },
    {
      "cell_type": "code",
      "metadata": {
        "colab": {
          "base_uri": "https://localhost:8080/"
        },
        "id": "1yoR-yhCOc3j",
        "outputId": "261d035e-cd4b-4168-d1cb-b2fbdccdad13"
      },
      "source": [
        "print('Número de páginas: ', document.pageCount)\n",
        "print('Metadatos: ', document.metadata)"
      ],
      "execution_count": 6,
      "outputs": [
        {
          "output_type": "stream",
          "text": [
            "Número de páginas:  139\n",
            "Metadatos:  {'format': 'PDF 1.4', 'title': '', 'author': '', 'subject': '', 'keywords': '', 'creator': 'PDFcamp (PDF Writer) v2.1 - Build: Jul 26 2006', 'producer': 'verypdf.com Inc (http://www.verypdf.com/)', 'creationDate': 'D:20070516191538', 'modDate': '', 'trapped': '', 'encryption': 'Standard V2 R3 128-bit RC4'}\n"
          ],
          "name": "stdout"
        }
      ]
    },
    {
      "cell_type": "markdown",
      "metadata": {
        "id": "IRf6DtWQOhhV"
      },
      "source": [
        "## Extraer el texto de una página en específico"
      ]
    },
    {
      "cell_type": "code",
      "metadata": {
        "colab": {
          "base_uri": "https://localhost:8080/"
        },
        "id": "qElNJ6H5Ojqs",
        "outputId": "13b9447c-db7c-415e-a76f-d91ec2d683ff"
      },
      "source": [
        "page = document.loadPage(5)\n",
        "text = page.getText('text')\n",
        "print(text)"
      ],
      "execution_count": 7,
      "outputs": [
        {
          "output_type": "stream",
          "text": [
            "Sir Henry envió al mayordomo a por una botella de whisky, y los tres nos sentamos y \n",
            "encendimos las pipas. \n",
            "    -Señor Quatermain -dijo sir Henry Curtis cuando el mayordomo hubo traído el \n",
            "whisky y encendido la lámpara-, hace dos años por estas fechas usted se encontraba, \n",
            "según tengo entendido, en un lugar llamado Bamangwato, al norte del Transvaal. \n",
            "    -En efecto -le respondí, sorprendido de que aquel caballero estuviese tan enterado de \n",
            "mis movimientos, que no se consideraban, al menos que yo supiera, de interés general. \n",
            "    -Estuvo comerciando allí, ¿no es cierto? -intervino el capitán Good, de la forma \n",
            "rápida que le caracterizaba. \n",
            "      -Así es. Compré un carro lleno de mercancías, acampé fuera del pueblo y me quedé \n",
            "allí hasta que las vendí. \n",
            "    Sir Henry estaba sentado frente a mí en una silla de Madeira, con los brazos apoyados \n",
            "sobre la mesa. Alzó la vista, clavándome sus grandes ojos grises. Pensé que había en \n",
            "ellos una curiosa ansiedad. \n",
            "    -¿No conocería allí, por casualidad, a un hombre llamado Neville? \n",
            "   -Pues sí; acampó conmigo durante quince días para dar descanso a sus bueyes antes de \n",
            "dirigirse hacia el interior. Hace unos meses recibí una carta de un abogado en la que me \n",
            "preguntaba si sabía qué había sido de él, a la que contesté lo mejor que supe. \n",
            " \n",
            "    -Sí -dijo sir Henry-, me remitieron su carta. Decía en ella que el caballero llamado \n",
            "Neville salió de Bamangwato a principios de mayo, en un carro, con un conductor, un \n",
            "voorlooper y un cazador cafre llamado Jim, tras anunciar su intención de llegar, si le era \n",
            "posible, hasta Inyati, donde vendería el carro y seguiría viaje a pie. También decía que \n",
            "vendió el carro, porque usted lo vio seis meses después en posesión de un comerciante \n",
            "portugués, quien le dijo que lo había comprado en Inyati a un hombre blanco cuyo \n",
            "nombre había olvidado, y que, según creía, el hombre blanco había iniciado una \n",
            "expedición de caza por el interior con un sirviente nativo. \n",
            "    -Sí. \n",
            "    Se hizo el silencio. \n",
            "    -Señor Quatermain -dijo sir Henry de pronto-, supongo que no conoce ni puede \n",
            "averiguar las razones del viaje de mi... del señor Neville hacia el norte, ni a qué lugar se \n",
            "dirigía. \n",
            "    -Algo oí decir -contesté, y me detuve. \n",
            "    Era un tema que no me interesaba discutir. \n",
            "    Sir Henry y el capitán Good se miraron, y el capitán Good asintió. \n",
            "    -Señor Quatermain -dijo el primero-, voy a contarle una historia y a pedirle consejo, y \n",
            "quizá ayuda. El agente que me remitió su carta me dijo que podía confiar sin reservas en \n",
            "ella, puesto que usted era, según me dijo, \"muy conocido y respetado en Natal, y que se \n",
            "destacaba por su discreción\". \n",
            "    Incliné la cabeza y bebí un poco de whisky con agua para ocultar mi confusión, \n",
            "porque soy un hombre modesto, y sir Henry continuó hablando. \n",
            "    -El señor Neville era mi hermano. \n",
            "    -Ah -exclamé sorprendido al comprender a quién me había recordado sir Henry al \n",
            "verle por primera vez. Su hermano era un hombre mucho más pequeño y tenía la barba \n",
            "oscura, pero, pensándolo bien, poseía unos ojos con el mismo tono gris y con la misma \n",
            "mirada penetrante, y los rasgos no eran muy diferentes. \n",
            "    -Era -prosiguió sir Henry- mi único hermano, más joven que yo, y, hasta hace cinco \n",
            "años, no creo que estuviéramos separados durante más de un mes. Pero hace unos cinco \n",
            "años nos sobrevino una desgracia, como ocurre a veces en las familias. Nos peleamos \n",
            "ferozmente y yo me comporté muy injustamente con mi hermano, llevado por la ira. \n",
            "\n"
          ],
          "name": "stdout"
        }
      ]
    },
    {
      "cell_type": "markdown",
      "metadata": {
        "id": "WxzXARAvO64m"
      },
      "source": [
        "## Extraer todo el texto del documento"
      ]
    },
    {
      "cell_type": "code",
      "metadata": {
        "colab": {
          "base_uri": "https://localhost:8080/"
        },
        "id": "wCos4MWPOtBS",
        "outputId": "1d27cd8b-f7e4-4dc1-ba48-7996d7117437"
      },
      "source": [
        "name_file = '/content/drive/MyDrive/Colab Notebooks/LasMinasDelReySalomon'\n",
        "doc = fitz.open(file_pdf)\n",
        "file_txt = open(name_file + '.txt', 'wb')\n",
        "for page in doc:\n",
        "    text = page.getText().encode('utf-8')\n",
        "    file_txt.write(text)\n",
        "    # Espacio entre las páginas\n",
        "    file_txt.write(b'\\n-----\\n')\n",
        "file_txt.close()"
      ],
      "execution_count": 8,
      "outputs": [
        {
          "output_type": "stream",
          "text": [
            "mupdf: expected object number\n"
          ],
          "name": "stderr"
        }
      ]
    }
  ]
}