{
  "nbformat": 4,
  "nbformat_minor": 0,
  "metadata": {
    "colab": {
      "name": "P2T3_S2_Sentiment_Analysis.ipynb",
      "provenance": [],
      "collapsed_sections": []
    },
    "kernelspec": {
      "display_name": "Python 3",
      "name": "python3"
    },
    "language_info": {
      "name": "python"
    }
  },
  "cells": [
    {
      "cell_type": "markdown",
      "metadata": {
        "id": "69LQs8ZRjfQV"
      },
      "source": [
        "# Procesamiento de Lenguaje Natural (PNL), Análisis de Sentimientos en Ingles"
      ]
    },
    {
      "cell_type": "markdown",
      "metadata": {
        "id": "kClm-8IFjsJh"
      },
      "source": [
        "El datateset del cúal se hara uso, se encuentra en el siguiente enlace:\n",
        "\n",
        "[Learning Word Vectors for Sentiment Analysis](https://ai.stanford.edu/~amaas/data/sentiment/)."
      ]
    },
    {
      "cell_type": "markdown",
      "metadata": {
        "id": "Bx8zj3bOlTD_"
      },
      "source": [
        "## Descargar y decomprimir archivos de internet con Python"
      ]
    },
    {
      "cell_type": "markdown",
      "metadata": {
        "id": "uLKrqvDylj_u"
      },
      "source": [
        "|Librería|Funcionalidad|\n",
        "|--------|-------------|\n",
        "|os|Trabajar con el sistema operativo|\n",
        "|sys|Manipular archivos (cortar, copiar, borrar, crear)|\n",
        "|tarfile|Manipular archivos comprimidos|\n",
        "|time|Calcular tiempo (en este caso de descarga)|"
      ]
    },
    {
      "cell_type": "code",
      "metadata": {
        "id": "VW_SKhcXjRb0"
      },
      "source": [
        "import os\n",
        "import sys\n",
        "import tarfile\n",
        "import time"
      ],
      "execution_count": null,
      "outputs": []
    },
    {
      "cell_type": "code",
      "metadata": {
        "id": "P9fKMpJVmB7t"
      },
      "source": [
        "source = 'https://ai.stanford.edu/~amaas/data/sentiment/aclImdb_v1.tar.gz'\n",
        "target = 'aclImdb_v1.tar.gz'"
      ],
      "execution_count": null,
      "outputs": []
    },
    {
      "cell_type": "markdown",
      "metadata": {
        "id": "IZCA0drfnDEp"
      },
      "source": [
        "### Función para mostrar el proceso de descarga"
      ]
    },
    {
      "cell_type": "code",
      "metadata": {
        "id": "P8wlg1i5mDqa"
      },
      "source": [
        "def reporthook(count, block_size, total_size):\n",
        "    global start_time\n",
        "    if count == 0:\n",
        "        start_time = time.time()\n",
        "        return\n",
        "    duration = time.time() - start_time\n",
        "    progress_size = int(count * block_size)\n",
        "    speed = progress_size / (1024.**2 * duration)\n",
        "    percent = count * block_size * 100. / total_size\n",
        "    sys.stdout.write(\"\\r%d%% | %d MB | %.2f MB/s | %d segundos transcurridos\" % \n",
        "                     (percent, progress_size /(1024.**2), speed, duration))\n",
        "    sys.stdout.flush()"
      ],
      "execution_count": null,
      "outputs": []
    },
    {
      "cell_type": "markdown",
      "metadata": {
        "id": "HfaFTYYOr4y0"
      },
      "source": [
        "### Descargar el archivo dentro de un directorio"
      ]
    },
    {
      "cell_type": "code",
      "metadata": {
        "colab": {
          "base_uri": "https://localhost:8080/"
        },
        "id": "sbcSp-zlokZb",
        "outputId": "71b84365-cce5-46f1-e875-3351cb97bb8f"
      },
      "source": [
        "if not os.path.isdir('aclImdb') and not os.path.isfile('aclImdb_v1.tar.gz'):\n",
        "    if (sys.version_info < (3,0)):\n",
        "        import urllib\n",
        "        urllib.urlretrieve(source, target, reporthook)\n",
        "    else:\n",
        "        import urllib.request\n",
        "        urllib.request.urlretrieve(source, target, reporthook)"
      ],
      "execution_count": null,
      "outputs": [
        {
          "output_type": "stream",
          "text": [
            "100% | 80 MB | 2.12 MB/s | 37 segundos transcurridos"
          ],
          "name": "stdout"
        }
      ]
    },
    {
      "cell_type": "markdown",
      "metadata": {
        "id": "H16uCld9reWT"
      },
      "source": [
        "En este caso hago uso de Colab de Google, el archivo se descarga de manera temporal, por lo que es recomendable enviarlo a Drive o a un equipo local.  \n",
        "\n",
        "![image.png](data:image/png;base64,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)"
      ]
    },
    {
      "cell_type": "markdown",
      "metadata": {
        "id": "fyHeBe6lr-c5"
      },
      "source": [
        "### Descomprimir el archivo"
      ]
    },
    {
      "cell_type": "code",
      "metadata": {
        "id": "o7zYpxzgq8Hd"
      },
      "source": [
        "if not os.path.isdir('aclImdb'):\n",
        "    with tarfile.open(target, 'r:gz') as tar:\n",
        "        tar.extractall()"
      ],
      "execution_count": null,
      "outputs": []
    },
    {
      "cell_type": "markdown",
      "metadata": {
        "id": "vnXb3ZYVsqMM"
      },
      "source": [
        "El anterior script permite descomprimir el archivo dentro de un directorio, y este es el resultado. Dentro de train y test, se encuentran archivos de texto que contienen una por una, las críticas de las personas. Los creadores del dataset, las clasificaron ya en positivas y negaticas.\n",
        "\n",
        "![image.png](data:image/png;base64,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)"
      ]
    },
    {
      "cell_type": "markdown",
      "metadata": {
        "id": "W1dua0beuHwb"
      },
      "source": [
        "## Convertir los archivos descargados en un dataframe"
      ]
    },
    {
      "cell_type": "markdown",
      "metadata": {
        "id": "S7TElsCcxDRD"
      },
      "source": [
        "### Librerías importante"
      ]
    },
    {
      "cell_type": "markdown",
      "metadata": {
        "id": "huPHzxFwua_1"
      },
      "source": [
        "Para poder visualizar el progreso de la tarea en ejucución en background, hacemos uso de la librería pyprind. Para instarla en un ordenador, ingresamos el siguiente comando por consola:\n",
        "```\n",
        "pip install pyprind\n",
        "```\n",
        "O en caso de que el entorno de colab no cuente con dicha librería, ingresamos el siguiente script:"
      ]
    },
    {
      "cell_type": "code",
      "metadata": {
        "colab": {
          "base_uri": "https://localhost:8080/"
        },
        "id": "GiJK8dots47K",
        "outputId": "534f2b26-ef36-4e5d-f78e-e00522675712"
      },
      "source": [
        "!pip install pyprind"
      ],
      "execution_count": null,
      "outputs": [
        {
          "output_type": "stream",
          "text": [
            "Collecting pyprind\n",
            "  Downloading https://files.pythonhosted.org/packages/ab/b3/1f12ebc5009c65b607509393ad98240728b4401bc3593868fb161fdd3760/PyPrind-2.11.3-py2.py3-none-any.whl\n",
            "Installing collected packages: pyprind\n",
            "Successfully installed pyprind-2.11.3\n"
          ],
          "name": "stdout"
        }
      ]
    },
    {
      "cell_type": "code",
      "metadata": {
        "id": "KKGx__bZvNmr"
      },
      "source": [
        "import pyprind\n",
        "import pandas as pd"
      ],
      "execution_count": null,
      "outputs": []
    },
    {
      "cell_type": "markdown",
      "metadata": {
        "id": "J6b1p6uCva9L"
      },
      "source": [
        "Es importante cambiar el directorio base a la carpeta que almacena nuestros datos. Con el siguiente script, permitimos que Python tome un path temporal que no afecte las variables de entorno del sistema operativo."
      ]
    },
    {
      "cell_type": "code",
      "metadata": {
        "id": "T_RXN5XMvWeR"
      },
      "source": [
        "basepath = 'aclImdb'"
      ],
      "execution_count": null,
      "outputs": []
    },
    {
      "cell_type": "markdown",
      "metadata": {
        "id": "yx5E4SZ_xG4i"
      },
      "source": [
        "### Conversión en un dataset pandas"
      ]
    },
    {
      "cell_type": "markdown",
      "metadata": {
        "id": "WhTIDgFoywXr"
      },
      "source": [
        "Creamos un diccionario, asignadole un valor a las carpetas pos y neg. Posteriormente, recorremos los directorios de test y train, en los cuales de encuentran los archivos, extrae las reviews, y las añade al dataframe asignandole al frente, el valor del sentimiento."
      ]
    },
    {
      "cell_type": "code",
      "metadata": {
        "colab": {
          "base_uri": "https://localhost:8080/"
        },
        "id": "43wmk_sfxALy",
        "outputId": "707a591c-af70-4d81-991e-cbc0f6262433"
      },
      "source": [
        "labels = {'pos':1, 'neg':0}\n",
        "pbar = pyprind.ProgBar(50000)\n",
        "\n",
        "df = pd.DataFrame()\n",
        "\n",
        "for s in ('test', 'train'):\n",
        "    for l in ('pos', 'neg'):\n",
        "        path = os.path.join(basepath, s, l)\n",
        "        for file in os.listdir(path):\n",
        "            with open(os.path.join(path, file), 'r', encoding='utf-8') as infile:\n",
        "                txt = infile.read()\n",
        "            df = df.append([[txt, labels[l]]], ignore_index=True)\n",
        "            pbar.update()\n",
        "\n",
        "df.columns = ['review', 'sentiment']"
      ],
      "execution_count": null,
      "outputs": [
        {
          "output_type": "stream",
          "text": [
            "0% [##############################] 100% | ETA: 00:00:00\n",
            "Total time elapsed: 00:01:51\n"
          ],
          "name": "stderr"
        }
      ]
    },
    {
      "cell_type": "markdown",
      "metadata": {
        "id": "XAwSu1Ngbo1M"
      },
      "source": [
        "Se realizan 50000 iteraciones(documentos), mediante bucles FOR interactuamos con los subdirectorios TRAIN y TEST y leemos los archivos de texto de forma individual de los subdirectorios POS y NEG y añadimos el dataframe de pandas una etiqueta de clase (1: Positivo, 0: Negativo)"
      ]
    },
    {
      "cell_type": "code",
      "metadata": {
        "colab": {
          "base_uri": "https://localhost:8080/"
        },
        "id": "IXxOAlf6zYzE",
        "outputId": "faaf259d-b339-4115-b912-4f70bd9dbc3a"
      },
      "source": [
        "df.info()"
      ],
      "execution_count": null,
      "outputs": [
        {
          "output_type": "stream",
          "text": [
            "<class 'pandas.core.frame.DataFrame'>\n",
            "RangeIndex: 50000 entries, 0 to 49999\n",
            "Data columns (total 2 columns):\n",
            " #   Column     Non-Null Count  Dtype \n",
            "---  ------     --------------  ----- \n",
            " 0   review     50000 non-null  object\n",
            " 1   sentiment  50000 non-null  int64 \n",
            "dtypes: int64(1), object(1)\n",
            "memory usage: 781.4+ KB\n"
          ],
          "name": "stdout"
        }
      ]
    },
    {
      "cell_type": "markdown",
      "metadata": {
        "id": "di1vItvh0lTw"
      },
      "source": [
        "### Permutar los datos"
      ]
    },
    {
      "cell_type": "markdown",
      "metadata": {
        "id": "FldXAEFV0o-f"
      },
      "source": [
        "Los datos quedan divididos, la primera mitad, son los datos positivos, el resto son los datos negativos. Para barajar los datos, hacemos uso de la librería numpy"
      ]
    },
    {
      "cell_type": "code",
      "metadata": {
        "id": "No2tR3VV0QFA"
      },
      "source": [
        "import numpy as np"
      ],
      "execution_count": null,
      "outputs": []
    },
    {
      "cell_type": "code",
      "metadata": {
        "id": "qOVzIIhw06XM"
      },
      "source": [
        "np.random.seed(0)\n",
        "df = df.reindex(np.random.permutation(df.index))"
      ],
      "execution_count": null,
      "outputs": []
    },
    {
      "cell_type": "markdown",
      "metadata": {
        "id": "BIHgWcEo1QLZ"
      },
      "source": [
        "### Guardar los datos en un unico archivo CSV"
      ]
    },
    {
      "cell_type": "markdown",
      "metadata": {
        "id": "v0bD0yFb1WkF"
      },
      "source": [
        "Este paso es opcional, pero puede llegar a ser muy útil"
      ]
    },
    {
      "cell_type": "code",
      "metadata": {
        "colab": {
          "base_uri": "https://localhost:8080/"
        },
        "id": "bYK3ciSl11KF",
        "outputId": "2a089a25-9a6f-4174-bc9b-bc1ce9421699"
      },
      "source": [
        "from google.colab import drive\n",
        "drive.mount('/content/drive')"
      ],
      "execution_count": null,
      "outputs": [
        {
          "output_type": "stream",
          "text": [
            "Mounted at /content/drive\n"
          ],
          "name": "stdout"
        }
      ]
    },
    {
      "cell_type": "code",
      "metadata": {
        "id": "Kph9o_qB1VMg"
      },
      "source": [
        "df.to_csv('/content/drive/MyDrive/Colab Notebooks/PLN_movie_data.csv', index=False, encoding='utf-8')"
      ],
      "execution_count": null,
      "outputs": []
    },
    {
      "cell_type": "markdown",
      "metadata": {
        "id": "fEtoRizY2n5e"
      },
      "source": [
        "Lo siguiente es para comprobar si esta bien guardado"
      ]
    },
    {
      "cell_type": "code",
      "metadata": {
        "id": "-wFOty6l2GhE"
      },
      "source": [
        "df = pd.read_csv('/content/drive/MyDrive/Colab Notebooks/PLN_movie_data.csv', encoding='utf-8')"
      ],
      "execution_count": null,
      "outputs": []
    },
    {
      "cell_type": "code",
      "metadata": {
        "colab": {
          "base_uri": "https://localhost:8080/",
          "height": 419
        },
        "id": "Y5NS4z-42XWQ",
        "outputId": "bd6a59d4-8e66-4060-c812-af644a5bdfda"
      },
      "source": [
        "df.head(50000)"
      ],
      "execution_count": null,
      "outputs": [
        {
          "output_type": "execute_result",
          "data": {
            "text/html": [
              "<div>\n",
              "<style scoped>\n",
              "    .dataframe tbody tr th:only-of-type {\n",
              "        vertical-align: middle;\n",
              "    }\n",
              "\n",
              "    .dataframe tbody tr th {\n",
              "        vertical-align: top;\n",
              "    }\n",
              "\n",
              "    .dataframe thead th {\n",
              "        text-align: right;\n",
              "    }\n",
              "</style>\n",
              "<table border=\"1\" class=\"dataframe\">\n",
              "  <thead>\n",
              "    <tr style=\"text-align: right;\">\n",
              "      <th></th>\n",
              "      <th>review</th>\n",
              "      <th>sentiment</th>\n",
              "    </tr>\n",
              "  </thead>\n",
              "  <tbody>\n",
              "    <tr>\n",
              "      <th>0</th>\n",
              "      <td>John Carpenter's \"The Thing\" is undoubtedly on...</td>\n",
              "      <td>1</td>\n",
              "    </tr>\n",
              "    <tr>\n",
              "      <th>1</th>\n",
              "      <td>This movie attempts many things but never real...</td>\n",
              "      <td>0</td>\n",
              "    </tr>\n",
              "    <tr>\n",
              "      <th>2</th>\n",
              "      <td>being a NI supporter, it's hard to objectively...</td>\n",
              "      <td>0</td>\n",
              "    </tr>\n",
              "    <tr>\n",
              "      <th>3</th>\n",
              "      <td>This film has a rotting core of flexible moral...</td>\n",
              "      <td>1</td>\n",
              "    </tr>\n",
              "    <tr>\n",
              "      <th>4</th>\n",
              "      <td>\"Indian burial ground\": If those three words a...</td>\n",
              "      <td>0</td>\n",
              "    </tr>\n",
              "    <tr>\n",
              "      <th>...</th>\n",
              "      <td>...</td>\n",
              "      <td>...</td>\n",
              "    </tr>\n",
              "    <tr>\n",
              "      <th>49995</th>\n",
              "      <td>Movies about U.F.O.'s are always a nice way to...</td>\n",
              "      <td>0</td>\n",
              "    </tr>\n",
              "    <tr>\n",
              "      <th>49996</th>\n",
              "      <td>(aka: DEMONS III)&lt;br /&gt;&lt;br /&gt;Made for Italian ...</td>\n",
              "      <td>0</td>\n",
              "    </tr>\n",
              "    <tr>\n",
              "      <th>49997</th>\n",
              "      <td>I saw \"Myra Breckinridge\" when it first came o...</td>\n",
              "      <td>0</td>\n",
              "    </tr>\n",
              "    <tr>\n",
              "      <th>49998</th>\n",
              "      <td>Whatever happened to Keaton is what I want to ...</td>\n",
              "      <td>0</td>\n",
              "    </tr>\n",
              "    <tr>\n",
              "      <th>49999</th>\n",
              "      <td>hello. hello and goodbye. but, before i go, i ...</td>\n",
              "      <td>1</td>\n",
              "    </tr>\n",
              "  </tbody>\n",
              "</table>\n",
              "<p>50000 rows × 2 columns</p>\n",
              "</div>"
            ],
            "text/plain": [
              "                                                  review  sentiment\n",
              "0      John Carpenter's \"The Thing\" is undoubtedly on...          1\n",
              "1      This movie attempts many things but never real...          0\n",
              "2      being a NI supporter, it's hard to objectively...          0\n",
              "3      This film has a rotting core of flexible moral...          1\n",
              "4      \"Indian burial ground\": If those three words a...          0\n",
              "...                                                  ...        ...\n",
              "49995  Movies about U.F.O.'s are always a nice way to...          0\n",
              "49996  (aka: DEMONS III)<br /><br />Made for Italian ...          0\n",
              "49997  I saw \"Myra Breckinridge\" when it first came o...          0\n",
              "49998  Whatever happened to Keaton is what I want to ...          0\n",
              "49999  hello. hello and goodbye. but, before i go, i ...          1\n",
              "\n",
              "[50000 rows x 2 columns]"
            ]
          },
          "metadata": {
            "tags": []
          },
          "execution_count": 16
        }
      ]
    },
    {
      "cell_type": "markdown",
      "metadata": {
        "id": "r4QW2Z1Ncpi8"
      },
      "source": [
        "## Usar el modelo de bag-of-words"
      ]
    },
    {
      "cell_type": "markdown",
      "metadata": {
        "id": "kuLDgJTnctUf"
      },
      "source": [
        "Primero se crea un vocabulario de componentes léxicos únicos (palabras únicas a partir de un conjunto de textos). \n",
        "\n",
        "\n",
        "Posteriormente se construye un vector de características a partir de cada documento que contiene el recuento de la frecuencia en que cada palabra aparece en el documento."
      ]
    },
    {
      "cell_type": "markdown",
      "metadata": {
        "id": "_lDiWakeArOX"
      },
      "source": [
        "## Ejemplos de Vectorización"
      ]
    },
    {
      "cell_type": "markdown",
      "metadata": {
        "id": "hem-YUENEOYe"
      },
      "source": [
        "### Vectorización para un solo texto"
      ]
    },
    {
      "cell_type": "code",
      "metadata": {
        "id": "Px_VTUu7Aulc"
      },
      "source": [
        "from sklearn.feature_extraction.text import CountVectorizer"
      ],
      "execution_count": null,
      "outputs": []
    },
    {
      "cell_type": "code",
      "metadata": {
        "colab": {
          "base_uri": "https://localhost:8080/"
        },
        "id": "6GmPwhybA3Wq",
        "outputId": "1872ab32-16f9-4d08-e4e1-db7dcd65bbbf"
      },
      "source": [
        "new_text = ['Probando el CountVectorizer junto con un número: 123']\n",
        "vector = CountVectorizer(stop_words=None)\n",
        "vector.fit(new_text)"
      ],
      "execution_count": null,
      "outputs": [
        {
          "output_type": "execute_result",
          "data": {
            "text/plain": [
              "CountVectorizer(analyzer='word', binary=False, decode_error='strict',\n",
              "                dtype=<class 'numpy.int64'>, encoding='utf-8', input='content',\n",
              "                lowercase=True, max_df=1.0, max_features=None, min_df=1,\n",
              "                ngram_range=(1, 1), preprocessor=None, stop_words=None,\n",
              "                strip_accents=None, token_pattern='(?u)\\\\b\\\\w\\\\w+\\\\b',\n",
              "                tokenizer=None, vocabulary=None)"
            ]
          },
          "metadata": {
            "tags": []
          },
          "execution_count": 18
        }
      ]
    },
    {
      "cell_type": "code",
      "metadata": {
        "colab": {
          "base_uri": "https://localhost:8080/"
        },
        "id": "960-yA56BI4U",
        "outputId": "2b542397-31cb-437c-c251-e1e7602650c6"
      },
      "source": [
        "print(vector.vocabulary_)"
      ],
      "execution_count": null,
      "outputs": [
        {
          "output_type": "stream",
          "text": [
            "{'probando': 6, 'el': 3, 'countvectorizer': 2, 'junto': 4, 'con': 1, 'un': 7, 'número': 5, '123': 0}\n"
          ],
          "name": "stdout"
        }
      ]
    },
    {
      "cell_type": "markdown",
      "metadata": {
        "id": "df5nJugYBc95"
      },
      "source": [
        "Por medio de CountVectorizer, podemos optener un diccionario en el que se le asigna a cada palabra un índice según su orden en el abecedario."
      ]
    },
    {
      "cell_type": "markdown",
      "metadata": {
        "id": "N2XftruxERyM"
      },
      "source": [
        "### Vectorización para múltiples textos"
      ]
    },
    {
      "cell_type": "code",
      "metadata": {
        "id": "vq756JdVCCJP"
      },
      "source": [
        "import numpy as np\n",
        "\n",
        "count  = CountVectorizer()\n",
        "docs = np.array(['The sun is shining', \n",
        "                 'The weather is sweet',\n",
        "                 'The sun is shining, the weather is sweet, and one and one is two'])\n",
        "bag = count.fit_transform(docs)"
      ],
      "execution_count": null,
      "outputs": []
    },
    {
      "cell_type": "code",
      "metadata": {
        "colab": {
          "base_uri": "https://localhost:8080/"
        },
        "id": "P1djBlsmCgfc",
        "outputId": "36029839-d808-4ac9-ce48-58134e354089"
      },
      "source": [
        "print(count.vocabulary_)"
      ],
      "execution_count": null,
      "outputs": [
        {
          "output_type": "stream",
          "text": [
            "{'the': 6, 'sun': 4, 'is': 1, 'shining': 3, 'weather': 8, 'sweet': 5, 'and': 0, 'one': 2, 'two': 7}\n"
          ],
          "name": "stdout"
        }
      ]
    },
    {
      "cell_type": "code",
      "metadata": {
        "colab": {
          "base_uri": "https://localhost:8080/"
        },
        "id": "WPCcJEqKDLH-",
        "outputId": "601e5fce-d021-47f2-a6ff-a053021b8b1b"
      },
      "source": [
        "import operator\n",
        "\n",
        "count_dict = count.vocabulary_\n",
        "count_sort = sorted(count_dict.items(), key=operator.itemgetter(1), reverse=False)\n",
        "\n",
        "for name in enumerate(count_sort):\n",
        "    print(name[1][0], count_dict[name[1][0]])"
      ],
      "execution_count": null,
      "outputs": [
        {
          "output_type": "stream",
          "text": [
            "and 0\n",
            "is 1\n",
            "one 2\n",
            "shining 3\n",
            "sun 4\n",
            "sweet 5\n",
            "the 6\n",
            "two 7\n",
            "weather 8\n"
          ],
          "name": "stdout"
        }
      ]
    },
    {
      "cell_type": "markdown",
      "metadata": {
        "id": "sug-rv8-Cnhh"
      },
      "source": [
        "El método fit_transform construye el vocabulario del modelo y transforma en vectores los 3 elementos pasados en docs. Las palabras repetidas, solo se determinan una vez dentro del diccionario."
      ]
    },
    {
      "cell_type": "code",
      "metadata": {
        "colab": {
          "base_uri": "https://localhost:8080/"
        },
        "id": "72sX-uM2F4vH",
        "outputId": "a1dd245b-c2c5-4fc5-d572-8caa933dae3c"
      },
      "source": [
        "print(bag.toarray())"
      ],
      "execution_count": null,
      "outputs": [
        {
          "output_type": "stream",
          "text": [
            "[[0 1 0 1 1 0 1 0 0]\n",
            " [0 1 0 0 0 1 1 0 1]\n",
            " [2 3 2 1 1 1 2 1 1]]\n"
          ],
          "name": "stdout"
        }
      ]
    },
    {
      "cell_type": "markdown",
      "metadata": {
        "id": "BeKPtoSbGJFD"
      },
      "source": [
        "![image.png](data:image/png;base64,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)"
      ]
    },
    {
      "cell_type": "markdown",
      "metadata": {
        "id": "v6QMeftDGN6M"
      },
      "source": [
        "Cada posición de índice en los vecotes de características que se muestran aquí corresponde a los valores enteros que se almacenan como elementos de diccionario en el vocabulario CountVectorizer.\n",
        "\n",
        "Esos valores en los vectores de características también se denominan *Frecuencias de terminos sin procesar* tf(t,d): El número de veces (d) que aparece un término (t) en cada posición de índice en los vectores de características."
      ]
    },
    {
      "cell_type": "markdown",
      "metadata": {
        "id": "T2M2mey0Hd9B"
      },
      "source": [
        "Cuando analizamos datos textuales, a menudo encontramos palabras que aparecen en múltiples documentos. Normalmente estas palabras no contienen información útil o discriminatoria. Usaremos la técnica de termino-frecuencia inversa de documento *(TD-IDF frequency-inverse document frecuency)*, el cual se usa para bajar de peso a dichas palabras. \n",
        "\n",
        "$$ tf-idf(t,d) = td(t,d)*idf(t,d) $$\n",
        "\n",
        "Donce, $tf(t,d)$ es la frecuencia de término y $idf(t,d)$ es la frecuencia inversa de documento y se calcula así:\n",
        "\n",
        "$$ idf(t,d) = log \\frac{n_d}{1+df(d,t)} $$\n",
        "\n",
        "Donce, $n_d$ es el número total de documentos y $df(d,t)$ es el número de documentos $d$ que contiene el termino $t$. "
      ]
    },
    {
      "cell_type": "markdown",
      "metadata": {
        "id": "8U5hxbBpJC7j"
      },
      "source": [
        "Scikit-learn implementa otro transformador, el *TfidfTransformer*, que toma las frecuencuas de término bruto de CounterVectorizer como entrada y las transforma en *tf-idfs*:"
      ]
    },
    {
      "cell_type": "code",
      "metadata": {
        "id": "usUUjTDCGKXp"
      },
      "source": [
        "from sklearn.feature_extraction.text import TfidfTransformer"
      ],
      "execution_count": null,
      "outputs": []
    },
    {
      "cell_type": "code",
      "metadata": {
        "id": "t7uTndQMJeTY"
      },
      "source": [
        "tfidf = TfidfTransformer(use_idf=True, norm='l2', smooth_idf=True)\n",
        "np.set_printoptions(precision=2)"
      ],
      "execution_count": null,
      "outputs": []
    },
    {
      "cell_type": "code",
      "metadata": {
        "colab": {
          "base_uri": "https://localhost:8080/"
        },
        "id": "48_JXAmsJxo2",
        "outputId": "105904b4-8458-4e1b-ab9f-33629ffa9928"
      },
      "source": [
        "print(tfidf.fit_transform(count.fit_transform(docs)).toarray())"
      ],
      "execution_count": null,
      "outputs": [
        {
          "output_type": "stream",
          "text": [
            "[[0.   0.43 0.   0.56 0.56 0.   0.43 0.   0.  ]\n",
            " [0.   0.43 0.   0.   0.   0.56 0.43 0.   0.56]\n",
            " [0.5  0.45 0.5  0.19 0.19 0.19 0.3  0.25 0.19]]\n"
          ],
          "name": "stdout"
        }
      ]
    },
    {
      "cell_type": "markdown",
      "metadata": {
        "id": "4HENa235KMKg"
      },
      "source": [
        "![image.png](data:image/png;base64,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)"
      ]
    },
    {
      "cell_type": "markdown",
      "metadata": {
        "id": "uskZ24_nKNOl"
      },
      "source": [
        "La palabra '***is***' tiene la frecuencia de término más grande en el tercer documento, siendo la palabra más frecuente. Sin embargo, después de transfomar el mismo vector de características en tf-idfs, vemos que la palabra 'is' ahora está asociada con un tf-idf relativamente pequeño (0.45) en el documento 3, ya que también está contenido en los documentos 1 y 2, por lo tanto, es poco probable que pueda contener infomación útil y discriminatoria. "
      ]
    },
    {
      "cell_type": "markdown",
      "metadata": {
        "id": "aGb_TkJxLt0a"
      },
      "source": [
        "## Limpiar datos textuales."
      ]
    },
    {
      "cell_type": "markdown",
      "metadata": {
        "id": "76DiPqvQUZOy"
      },
      "source": [
        "### Preprocesamiento"
      ]
    },
    {
      "cell_type": "code",
      "metadata": {
        "id": "ZIjwI7QpL7sK"
      },
      "source": [
        "df = pd.read_csv('/content/drive/MyDrive/Colab Notebooks/PLN_movie_data.csv', encoding='utf-8')"
      ],
      "execution_count": null,
      "outputs": []
    },
    {
      "cell_type": "markdown",
      "metadata": {
        "id": "rmC5tDQhLz5C"
      },
      "source": [
        "El texto contiene marcadores HTML, signos de puntación y otros marcadores alfabéticos. Procedemos a limpiar los marcadores HTML, pero dejamos los puntos, puesto que pueden representar información semántica útil."
      ]
    },
    {
      "cell_type": "code",
      "metadata": {
        "id": "WmJP5OHFMi-t"
      },
      "source": [
        "import re"
      ],
      "execution_count": null,
      "outputs": []
    },
    {
      "cell_type": "code",
      "metadata": {
        "id": "90gRQtKZMm9v"
      },
      "source": [
        "def preprocessor(text):\n",
        "    text = re.sub('<[^>]*>', '', text)\n",
        "    emoticons = re.findall('(?::|;|=)(?:-)?(?:\\)|\\(|D|P)', text)\n",
        "    text = (re.sub('[\\W]+', ' ', text.lower()) + ''.join(emoticons).replace('-', ''))\n",
        "    return text"
      ],
      "execution_count": null,
      "outputs": []
    },
    {
      "cell_type": "markdown",
      "metadata": {
        "id": "4TPdJx-VUGiR"
      },
      "source": [
        "Este es un ejemplo de como queda cambiado"
      ]
    },
    {
      "cell_type": "code",
      "metadata": {
        "colab": {
          "base_uri": "https://localhost:8080/"
        },
        "id": "iWpz880-L_i4",
        "outputId": "e7cb3d22-786f-4ae6-9d21-b2102b66b4ff"
      },
      "source": [
        "print(df.loc[0, 'review'][-50:])"
      ],
      "execution_count": null,
      "outputs": [
        {
          "output_type": "stream",
          "text": [
            "asterpiece of terror that will never be forgotten.\n"
          ],
          "name": "stdout"
        }
      ]
    },
    {
      "cell_type": "code",
      "metadata": {
        "colab": {
          "base_uri": "https://localhost:8080/"
        },
        "id": "Mqxh8VHLNuTT",
        "outputId": "c7def097-0daf-4dbb-bbd9-98fcc679a99b"
      },
      "source": [
        "print(preprocessor(df.loc[0, 'review'][-50:]))"
      ],
      "execution_count": null,
      "outputs": [
        {
          "output_type": "stream",
          "text": [
            "asterpiece of terror that will never be forgotten \n"
          ],
          "name": "stdout"
        }
      ]
    },
    {
      "cell_type": "markdown",
      "metadata": {
        "id": "96jtbbD2UJS8"
      },
      "source": [
        "Ahora aplicamos el preprocesador a todo el dataset"
      ]
    },
    {
      "cell_type": "code",
      "metadata": {
        "id": "JcNeauIOUBo1"
      },
      "source": [
        "df['review'] = df['review'].apply(preprocessor)"
      ],
      "execution_count": null,
      "outputs": []
    },
    {
      "cell_type": "markdown",
      "metadata": {
        "id": "Np4qokJcUdX3"
      },
      "source": [
        "### Tokenizar"
      ]
    },
    {
      "cell_type": "markdown",
      "metadata": {
        "id": "TOgNbwb9UfTi"
      },
      "source": [
        "Una vez se teng la seguridad de que los datos están limpios, se procede a convertir el dataset en palabras individuales, tomando como método los espacios entre las palabras."
      ]
    },
    {
      "cell_type": "code",
      "metadata": {
        "id": "a9W73AesV1CN"
      },
      "source": [
        "def tokenizer(text):\n",
        "    return text.split()"
      ],
      "execution_count": null,
      "outputs": []
    },
    {
      "cell_type": "code",
      "metadata": {
        "colab": {
          "base_uri": "https://localhost:8080/"
        },
        "id": "dD2f1EStV8HH",
        "outputId": "4f6b12b0-3b92-49c5-a6ef-e4cc5d6cbc1b"
      },
      "source": [
        "tokenizer('runners like running and thus they run')"
      ],
      "execution_count": null,
      "outputs": [
        {
          "output_type": "execute_result",
          "data": {
            "text/plain": [
              "['runners', 'like', 'running', 'and', 'thus', 'they', 'run']"
            ]
          },
          "metadata": {
            "tags": []
          },
          "execution_count": 34
        }
      ]
    },
    {
      "cell_type": "markdown",
      "metadata": {
        "id": "qrd4MPddWnrE"
      },
      "source": [
        "Existe una técnica llamada 'declinación de palabras' o 'algortimo de Porter' que permite mapear las palabras, pero tomando la raíz de la palabra"
      ]
    },
    {
      "cell_type": "code",
      "metadata": {
        "id": "IgnX__VIW3YS"
      },
      "source": [
        "from nltk.stem.porter import PorterStemmer\n",
        "\n",
        "porter = PorterStemmer()\n",
        "\n",
        "def tokenizer_porter(text):\n",
        "    return [porter.stem(word) for word in text.split()]"
      ],
      "execution_count": null,
      "outputs": []
    },
    {
      "cell_type": "code",
      "metadata": {
        "colab": {
          "base_uri": "https://localhost:8080/"
        },
        "id": "6EWez-_YXRJW",
        "outputId": "a6efdc42-9195-4b12-9546-404dfbbc0911"
      },
      "source": [
        "tokenizer_porter('runners like running and thus they run')"
      ],
      "execution_count": null,
      "outputs": [
        {
          "output_type": "execute_result",
          "data": {
            "text/plain": [
              "['runner', 'like', 'run', 'and', 'thu', 'they', 'run']"
            ]
          },
          "metadata": {
            "tags": []
          },
          "execution_count": 36
        }
      ]
    },
    {
      "cell_type": "markdown",
      "metadata": {
        "id": "FkoIv5CvXwzm"
      },
      "source": [
        "En cuanto a algoritmos de declinación el \"algoritmo Porter\" es uno de los más antiguos y más sencillos, pero no el más eficiente. Existen unos mejores como Snowball (porter2 o en ingles, stemmer) y el Lancaster (paice/ husk stemmer). Para usarlos es necesario instalar el paquete nltk con el comando:\n",
        "\n",
        "```\n",
        "pip install nltk\n",
        "```\n",
        "\n",
        "Una vez instalado, se debe descargar los componentes necesarios para trabajar con NLTK"
      ]
    },
    {
      "cell_type": "code",
      "metadata": {
        "id": "eRGB-dqaY78K"
      },
      "source": [
        "import nltk"
      ],
      "execution_count": null,
      "outputs": []
    },
    {
      "cell_type": "code",
      "metadata": {
        "id": "jIpt8W7SZADn",
        "colab": {
          "base_uri": "https://localhost:8080/"
        },
        "outputId": "d0338f6a-bda4-4c5d-9aaa-0b91b80a6efe"
      },
      "source": [
        "nltk.download('all')\n",
        "nltk.download('popular')\n",
        "nltk.download('stopwords')"
      ],
      "execution_count": null,
      "outputs": [
        {
          "output_type": "stream",
          "text": [
            "[nltk_data] Downloading collection 'all'\n",
            "[nltk_data]    | \n",
            "[nltk_data]    | Downloading package abc to /root/nltk_data...\n",
            "[nltk_data]    |   Unzipping corpora/abc.zip.\n",
            "[nltk_data]    | Downloading package alpino to /root/nltk_data...\n",
            "[nltk_data]    |   Unzipping corpora/alpino.zip.\n",
            "[nltk_data]    | Downloading package biocreative_ppi to\n",
            "[nltk_data]    |     /root/nltk_data...\n",
            "[nltk_data]    |   Unzipping corpora/biocreative_ppi.zip.\n",
            "[nltk_data]    | Downloading package brown to /root/nltk_data...\n",
            "[nltk_data]    |   Unzipping corpora/brown.zip.\n",
            "[nltk_data]    | Downloading package brown_tei to /root/nltk_data...\n",
            "[nltk_data]    |   Unzipping corpora/brown_tei.zip.\n",
            "[nltk_data]    | Downloading package cess_cat to /root/nltk_data...\n",
            "[nltk_data]    |   Unzipping corpora/cess_cat.zip.\n",
            "[nltk_data]    | Downloading package cess_esp to /root/nltk_data...\n",
            "[nltk_data]    |   Unzipping corpora/cess_esp.zip.\n",
            "[nltk_data]    | Downloading package chat80 to /root/nltk_data...\n",
            "[nltk_data]    |   Unzipping corpora/chat80.zip.\n",
            "[nltk_data]    | Downloading package city_database to\n",
            "[nltk_data]    |     /root/nltk_data...\n",
            "[nltk_data]    |   Unzipping corpora/city_database.zip.\n",
            "[nltk_data]    | Downloading package cmudict to /root/nltk_data...\n",
            "[nltk_data]    |   Unzipping corpora/cmudict.zip.\n",
            "[nltk_data]    | Downloading package comparative_sentences to\n",
            "[nltk_data]    |     /root/nltk_data...\n",
            "[nltk_data]    |   Unzipping corpora/comparative_sentences.zip.\n",
            "[nltk_data]    | Downloading package comtrans to /root/nltk_data...\n",
            "[nltk_data]    | Downloading package conll2000 to /root/nltk_data...\n",
            "[nltk_data]    |   Unzipping corpora/conll2000.zip.\n",
            "[nltk_data]    | Downloading package conll2002 to /root/nltk_data...\n",
            "[nltk_data]    |   Unzipping corpora/conll2002.zip.\n",
            "[nltk_data]    | Downloading package conll2007 to /root/nltk_data...\n",
            "[nltk_data]    | Downloading package crubadan to /root/nltk_data...\n",
            "[nltk_data]    |   Unzipping corpora/crubadan.zip.\n",
            "[nltk_data]    | Downloading package dependency_treebank to\n",
            "[nltk_data]    |     /root/nltk_data...\n",
            "[nltk_data]    |   Unzipping corpora/dependency_treebank.zip.\n",
            "[nltk_data]    | Downloading package dolch to /root/nltk_data...\n",
            "[nltk_data]    |   Unzipping corpora/dolch.zip.\n",
            "[nltk_data]    | Downloading package europarl_raw to\n",
            "[nltk_data]    |     /root/nltk_data...\n",
            "[nltk_data]    |   Unzipping corpora/europarl_raw.zip.\n",
            "[nltk_data]    | Downloading package floresta to /root/nltk_data...\n",
            "[nltk_data]    |   Unzipping corpora/floresta.zip.\n",
            "[nltk_data]    | Downloading package framenet_v15 to\n",
            "[nltk_data]    |     /root/nltk_data...\n",
            "[nltk_data]    |   Unzipping corpora/framenet_v15.zip.\n",
            "[nltk_data]    | Downloading package framenet_v17 to\n",
            "[nltk_data]    |     /root/nltk_data...\n",
            "[nltk_data]    |   Unzipping corpora/framenet_v17.zip.\n",
            "[nltk_data]    | Downloading package gazetteers to /root/nltk_data...\n",
            "[nltk_data]    |   Unzipping corpora/gazetteers.zip.\n",
            "[nltk_data]    | Downloading package genesis to /root/nltk_data...\n",
            "[nltk_data]    |   Unzipping corpora/genesis.zip.\n",
            "[nltk_data]    | Downloading package gutenberg to /root/nltk_data...\n",
            "[nltk_data]    |   Unzipping corpora/gutenberg.zip.\n",
            "[nltk_data]    | Downloading package ieer to /root/nltk_data...\n",
            "[nltk_data]    |   Unzipping corpora/ieer.zip.\n",
            "[nltk_data]    | Downloading package inaugural to /root/nltk_data...\n",
            "[nltk_data]    |   Unzipping corpora/inaugural.zip.\n",
            "[nltk_data]    | Downloading package indian to /root/nltk_data...\n",
            "[nltk_data]    |   Unzipping corpora/indian.zip.\n",
            "[nltk_data]    | Downloading package jeita to /root/nltk_data...\n",
            "[nltk_data]    | Downloading package kimmo to /root/nltk_data...\n",
            "[nltk_data]    |   Unzipping corpora/kimmo.zip.\n",
            "[nltk_data]    | Downloading package knbc to /root/nltk_data...\n",
            "[nltk_data]    | Downloading package lin_thesaurus to\n",
            "[nltk_data]    |     /root/nltk_data...\n",
            "[nltk_data]    |   Unzipping corpora/lin_thesaurus.zip.\n",
            "[nltk_data]    | Downloading package mac_morpho to /root/nltk_data...\n",
            "[nltk_data]    |   Unzipping corpora/mac_morpho.zip.\n",
            "[nltk_data]    | Downloading package machado to /root/nltk_data...\n",
            "[nltk_data]    | Downloading package masc_tagged to /root/nltk_data...\n",
            "[nltk_data]    | Downloading package moses_sample to\n",
            "[nltk_data]    |     /root/nltk_data...\n",
            "[nltk_data]    |   Unzipping models/moses_sample.zip.\n",
            "[nltk_data]    | Downloading package movie_reviews to\n",
            "[nltk_data]    |     /root/nltk_data...\n",
            "[nltk_data]    |   Unzipping corpora/movie_reviews.zip.\n",
            "[nltk_data]    | Downloading package names to /root/nltk_data...\n",
            "[nltk_data]    |   Unzipping corpora/names.zip.\n",
            "[nltk_data]    | Downloading package nombank.1.0 to /root/nltk_data...\n",
            "[nltk_data]    | Downloading package nps_chat to /root/nltk_data...\n",
            "[nltk_data]    |   Unzipping corpora/nps_chat.zip.\n",
            "[nltk_data]    | Downloading package omw to /root/nltk_data...\n",
            "[nltk_data]    |   Unzipping corpora/omw.zip.\n",
            "[nltk_data]    | Downloading package opinion_lexicon to\n",
            "[nltk_data]    |     /root/nltk_data...\n",
            "[nltk_data]    |   Unzipping corpora/opinion_lexicon.zip.\n",
            "[nltk_data]    | Downloading package paradigms to /root/nltk_data...\n",
            "[nltk_data]    |   Unzipping corpora/paradigms.zip.\n",
            "[nltk_data]    | Downloading package pil to /root/nltk_data...\n",
            "[nltk_data]    |   Unzipping corpora/pil.zip.\n",
            "[nltk_data]    | Downloading package pl196x to /root/nltk_data...\n",
            "[nltk_data]    |   Unzipping corpora/pl196x.zip.\n",
            "[nltk_data]    | Downloading package ppattach to /root/nltk_data...\n",
            "[nltk_data]    |   Unzipping corpora/ppattach.zip.\n",
            "[nltk_data]    | Downloading package problem_reports to\n",
            "[nltk_data]    |     /root/nltk_data...\n",
            "[nltk_data]    |   Unzipping corpora/problem_reports.zip.\n",
            "[nltk_data]    | Downloading package propbank to /root/nltk_data...\n",
            "[nltk_data]    | Downloading package ptb to /root/nltk_data...\n",
            "[nltk_data]    |   Unzipping corpora/ptb.zip.\n",
            "[nltk_data]    | Downloading package product_reviews_1 to\n",
            "[nltk_data]    |     /root/nltk_data...\n",
            "[nltk_data]    |   Unzipping corpora/product_reviews_1.zip.\n",
            "[nltk_data]    | Downloading package product_reviews_2 to\n",
            "[nltk_data]    |     /root/nltk_data...\n",
            "[nltk_data]    |   Unzipping corpora/product_reviews_2.zip.\n",
            "[nltk_data]    | Downloading package pros_cons to /root/nltk_data...\n",
            "[nltk_data]    |   Unzipping corpora/pros_cons.zip.\n",
            "[nltk_data]    | Downloading package qc to /root/nltk_data...\n",
            "[nltk_data]    |   Unzipping corpora/qc.zip.\n",
            "[nltk_data]    | Downloading package reuters to /root/nltk_data...\n",
            "[nltk_data]    | Downloading package rte to /root/nltk_data...\n",
            "[nltk_data]    |   Unzipping corpora/rte.zip.\n",
            "[nltk_data]    | Downloading package semcor to /root/nltk_data...\n",
            "[nltk_data]    | Downloading package senseval to /root/nltk_data...\n",
            "[nltk_data]    |   Unzipping corpora/senseval.zip.\n",
            "[nltk_data]    | Downloading package sentiwordnet to\n",
            "[nltk_data]    |     /root/nltk_data...\n",
            "[nltk_data]    |   Unzipping corpora/sentiwordnet.zip.\n",
            "[nltk_data]    | Downloading package sentence_polarity to\n",
            "[nltk_data]    |     /root/nltk_data...\n",
            "[nltk_data]    |   Unzipping corpora/sentence_polarity.zip.\n",
            "[nltk_data]    | Downloading package shakespeare to /root/nltk_data...\n",
            "[nltk_data]    |   Unzipping corpora/shakespeare.zip.\n",
            "[nltk_data]    | Downloading package sinica_treebank to\n",
            "[nltk_data]    |     /root/nltk_data...\n",
            "[nltk_data]    |   Unzipping corpora/sinica_treebank.zip.\n",
            "[nltk_data]    | Downloading package smultron to /root/nltk_data...\n",
            "[nltk_data]    |   Unzipping corpora/smultron.zip.\n",
            "[nltk_data]    | Downloading package state_union to /root/nltk_data...\n",
            "[nltk_data]    |   Unzipping corpora/state_union.zip.\n",
            "[nltk_data]    | Downloading package stopwords to /root/nltk_data...\n",
            "[nltk_data]    |   Unzipping corpora/stopwords.zip.\n",
            "[nltk_data]    | Downloading package subjectivity to\n",
            "[nltk_data]    |     /root/nltk_data...\n",
            "[nltk_data]    |   Unzipping corpora/subjectivity.zip.\n",
            "[nltk_data]    | Downloading package swadesh to /root/nltk_data...\n",
            "[nltk_data]    |   Unzipping corpora/swadesh.zip.\n",
            "[nltk_data]    | Downloading package switchboard to /root/nltk_data...\n",
            "[nltk_data]    |   Unzipping corpora/switchboard.zip.\n",
            "[nltk_data]    | Downloading package timit to /root/nltk_data...\n",
            "[nltk_data]    |   Unzipping corpora/timit.zip.\n",
            "[nltk_data]    | Downloading package toolbox to /root/nltk_data...\n",
            "[nltk_data]    |   Unzipping corpora/toolbox.zip.\n",
            "[nltk_data]    | Downloading package treebank to /root/nltk_data...\n",
            "[nltk_data]    |   Unzipping corpora/treebank.zip.\n",
            "[nltk_data]    | Downloading package twitter_samples to\n",
            "[nltk_data]    |     /root/nltk_data...\n",
            "[nltk_data]    |   Unzipping corpora/twitter_samples.zip.\n",
            "[nltk_data]    | Downloading package udhr to /root/nltk_data...\n",
            "[nltk_data]    |   Unzipping corpora/udhr.zip.\n",
            "[nltk_data]    | Downloading package udhr2 to /root/nltk_data...\n",
            "[nltk_data]    |   Unzipping corpora/udhr2.zip.\n",
            "[nltk_data]    | Downloading package unicode_samples to\n",
            "[nltk_data]    |     /root/nltk_data...\n",
            "[nltk_data]    |   Unzipping corpora/unicode_samples.zip.\n",
            "[nltk_data]    | Downloading package universal_treebanks_v20 to\n",
            "[nltk_data]    |     /root/nltk_data...\n",
            "[nltk_data]    | Downloading package verbnet to /root/nltk_data...\n",
            "[nltk_data]    |   Unzipping corpora/verbnet.zip.\n",
            "[nltk_data]    | Downloading package verbnet3 to /root/nltk_data...\n",
            "[nltk_data]    |   Unzipping corpora/verbnet3.zip.\n",
            "[nltk_data]    | Downloading package webtext to /root/nltk_data...\n",
            "[nltk_data]    |   Unzipping corpora/webtext.zip.\n",
            "[nltk_data]    | Downloading package wordnet to /root/nltk_data...\n",
            "[nltk_data]    |   Unzipping corpora/wordnet.zip.\n",
            "[nltk_data]    | Downloading package wordnet_ic to /root/nltk_data...\n",
            "[nltk_data]    |   Unzipping corpora/wordnet_ic.zip.\n",
            "[nltk_data]    | Downloading package words to /root/nltk_data...\n",
            "[nltk_data]    |   Unzipping corpora/words.zip.\n",
            "[nltk_data]    | Downloading package ycoe to /root/nltk_data...\n",
            "[nltk_data]    |   Unzipping corpora/ycoe.zip.\n",
            "[nltk_data]    | Downloading package rslp to /root/nltk_data...\n",
            "[nltk_data]    |   Unzipping stemmers/rslp.zip.\n",
            "[nltk_data]    | Downloading package maxent_treebank_pos_tagger to\n",
            "[nltk_data]    |     /root/nltk_data...\n",
            "[nltk_data]    |   Unzipping taggers/maxent_treebank_pos_tagger.zip.\n",
            "[nltk_data]    | Downloading package universal_tagset to\n",
            "[nltk_data]    |     /root/nltk_data...\n",
            "[nltk_data]    |   Unzipping taggers/universal_tagset.zip.\n",
            "[nltk_data]    | Downloading package maxent_ne_chunker to\n",
            "[nltk_data]    |     /root/nltk_data...\n",
            "[nltk_data]    |   Unzipping chunkers/maxent_ne_chunker.zip.\n",
            "[nltk_data]    | Downloading package punkt to /root/nltk_data...\n",
            "[nltk_data]    |   Unzipping tokenizers/punkt.zip.\n",
            "[nltk_data]    | Downloading package book_grammars to\n",
            "[nltk_data]    |     /root/nltk_data...\n",
            "[nltk_data]    |   Unzipping grammars/book_grammars.zip.\n",
            "[nltk_data]    | Downloading package sample_grammars to\n",
            "[nltk_data]    |     /root/nltk_data...\n",
            "[nltk_data]    |   Unzipping grammars/sample_grammars.zip.\n",
            "[nltk_data]    | Downloading package spanish_grammars to\n",
            "[nltk_data]    |     /root/nltk_data...\n",
            "[nltk_data]    |   Unzipping grammars/spanish_grammars.zip.\n",
            "[nltk_data]    | Downloading package basque_grammars to\n",
            "[nltk_data]    |     /root/nltk_data...\n",
            "[nltk_data]    |   Unzipping grammars/basque_grammars.zip.\n",
            "[nltk_data]    | Downloading package large_grammars to\n",
            "[nltk_data]    |     /root/nltk_data...\n",
            "[nltk_data]    |   Unzipping grammars/large_grammars.zip.\n",
            "[nltk_data]    | Downloading package tagsets to /root/nltk_data...\n",
            "[nltk_data]    |   Unzipping help/tagsets.zip.\n",
            "[nltk_data]    | Downloading package snowball_data to\n",
            "[nltk_data]    |     /root/nltk_data...\n",
            "[nltk_data]    | Downloading package bllip_wsj_no_aux to\n",
            "[nltk_data]    |     /root/nltk_data...\n",
            "[nltk_data]    |   Unzipping models/bllip_wsj_no_aux.zip.\n",
            "[nltk_data]    | Downloading package word2vec_sample to\n",
            "[nltk_data]    |     /root/nltk_data...\n",
            "[nltk_data]    |   Unzipping models/word2vec_sample.zip.\n",
            "[nltk_data]    | Downloading package panlex_swadesh to\n",
            "[nltk_data]    |     /root/nltk_data...\n",
            "[nltk_data]    | Downloading package mte_teip5 to /root/nltk_data...\n",
            "[nltk_data]    |   Unzipping corpora/mte_teip5.zip.\n",
            "[nltk_data]    | Downloading package averaged_perceptron_tagger to\n",
            "[nltk_data]    |     /root/nltk_data...\n",
            "[nltk_data]    |   Unzipping taggers/averaged_perceptron_tagger.zip.\n",
            "[nltk_data]    | Downloading package averaged_perceptron_tagger_ru to\n",
            "[nltk_data]    |     /root/nltk_data...\n",
            "[nltk_data]    |   Unzipping\n",
            "[nltk_data]    |       taggers/averaged_perceptron_tagger_ru.zip.\n",
            "[nltk_data]    | Downloading package perluniprops to\n",
            "[nltk_data]    |     /root/nltk_data...\n",
            "[nltk_data]    |   Unzipping misc/perluniprops.zip.\n",
            "[nltk_data]    | Downloading package nonbreaking_prefixes to\n",
            "[nltk_data]    |     /root/nltk_data...\n",
            "[nltk_data]    |   Unzipping corpora/nonbreaking_prefixes.zip.\n",
            "[nltk_data]    | Downloading package vader_lexicon to\n",
            "[nltk_data]    |     /root/nltk_data...\n",
            "[nltk_data]    | Downloading package porter_test to /root/nltk_data...\n",
            "[nltk_data]    |   Unzipping stemmers/porter_test.zip.\n",
            "[nltk_data]    | Downloading package wmt15_eval to /root/nltk_data...\n",
            "[nltk_data]    |   Unzipping models/wmt15_eval.zip.\n",
            "[nltk_data]    | Downloading package mwa_ppdb to /root/nltk_data...\n",
            "[nltk_data]    |   Unzipping misc/mwa_ppdb.zip.\n",
            "[nltk_data]    | \n",
            "[nltk_data]  Done downloading collection all\n",
            "[nltk_data] Downloading collection 'popular'\n",
            "[nltk_data]    | \n",
            "[nltk_data]    | Downloading package cmudict to /root/nltk_data...\n",
            "[nltk_data]    |   Package cmudict is already up-to-date!\n",
            "[nltk_data]    | Downloading package gazetteers to /root/nltk_data...\n",
            "[nltk_data]    |   Package gazetteers is already up-to-date!\n",
            "[nltk_data]    | Downloading package genesis to /root/nltk_data...\n",
            "[nltk_data]    |   Package genesis is already up-to-date!\n",
            "[nltk_data]    | Downloading package gutenberg to /root/nltk_data...\n",
            "[nltk_data]    |   Package gutenberg is already up-to-date!\n",
            "[nltk_data]    | Downloading package inaugural to /root/nltk_data...\n",
            "[nltk_data]    |   Package inaugural is already up-to-date!\n",
            "[nltk_data]    | Downloading package movie_reviews to\n",
            "[nltk_data]    |     /root/nltk_data...\n",
            "[nltk_data]    |   Package movie_reviews is already up-to-date!\n",
            "[nltk_data]    | Downloading package names to /root/nltk_data...\n",
            "[nltk_data]    |   Package names is already up-to-date!\n",
            "[nltk_data]    | Downloading package shakespeare to /root/nltk_data...\n",
            "[nltk_data]    |   Package shakespeare is already up-to-date!\n",
            "[nltk_data]    | Downloading package stopwords to /root/nltk_data...\n",
            "[nltk_data]    |   Package stopwords is already up-to-date!\n",
            "[nltk_data]    | Downloading package treebank to /root/nltk_data...\n",
            "[nltk_data]    |   Package treebank is already up-to-date!\n",
            "[nltk_data]    | Downloading package twitter_samples to\n",
            "[nltk_data]    |     /root/nltk_data...\n",
            "[nltk_data]    |   Package twitter_samples is already up-to-date!\n",
            "[nltk_data]    | Downloading package omw to /root/nltk_data...\n",
            "[nltk_data]    |   Package omw is already up-to-date!\n",
            "[nltk_data]    | Downloading package wordnet to /root/nltk_data...\n",
            "[nltk_data]    |   Package wordnet is already up-to-date!\n",
            "[nltk_data]    | Downloading package wordnet_ic to /root/nltk_data...\n",
            "[nltk_data]    |   Package wordnet_ic is already up-to-date!\n",
            "[nltk_data]    | Downloading package words to /root/nltk_data...\n",
            "[nltk_data]    |   Package words is already up-to-date!\n",
            "[nltk_data]    | Downloading package maxent_ne_chunker to\n",
            "[nltk_data]    |     /root/nltk_data...\n",
            "[nltk_data]    |   Package maxent_ne_chunker is already up-to-date!\n",
            "[nltk_data]    | Downloading package punkt to /root/nltk_data...\n",
            "[nltk_data]    |   Package punkt is already up-to-date!\n",
            "[nltk_data]    | Downloading package snowball_data to\n",
            "[nltk_data]    |     /root/nltk_data...\n",
            "[nltk_data]    |   Package snowball_data is already up-to-date!\n",
            "[nltk_data]    | Downloading package averaged_perceptron_tagger to\n",
            "[nltk_data]    |     /root/nltk_data...\n",
            "[nltk_data]    |   Package averaged_perceptron_tagger is already up-\n",
            "[nltk_data]    |       to-date!\n",
            "[nltk_data]    | \n",
            "[nltk_data]  Done downloading collection popular\n",
            "[nltk_data] Downloading package stopwords to /root/nltk_data...\n",
            "[nltk_data]   Package stopwords is already up-to-date!\n"
          ],
          "name": "stdout"
        },
        {
          "output_type": "execute_result",
          "data": {
            "text/plain": [
              "True"
            ]
          },
          "metadata": {
            "tags": []
          },
          "execution_count": 38
        }
      ]
    },
    {
      "cell_type": "markdown",
      "metadata": {
        "id": "MGPhHUA0ZrW2"
      },
      "source": [
        "Una vez descargado los paquetes necesarios, podremos eliminar palabras vacías para el idioma ingles. "
      ]
    },
    {
      "cell_type": "code",
      "metadata": {
        "id": "g8GajNxOZ0Zk"
      },
      "source": [
        "from nltk.corpus import stopwords"
      ],
      "execution_count": null,
      "outputs": []
    },
    {
      "cell_type": "code",
      "metadata": {
        "colab": {
          "base_uri": "https://localhost:8080/"
        },
        "id": "o244p0-UZ5hQ",
        "outputId": "0443d5b9-06d8-456a-ff50-6e80c34bda92"
      },
      "source": [
        "stop = stopwords.words('english')\n",
        "\n",
        "[w for w in tokenizer_porter('a runner likes running and runs a lot') if w not in stop]"
      ],
      "execution_count": null,
      "outputs": [
        {
          "output_type": "execute_result",
          "data": {
            "text/plain": [
              "['runner', 'like', 'run', 'run', 'lot']"
            ]
          },
          "metadata": {
            "tags": []
          },
          "execution_count": 40
        }
      ]
    },
    {
      "cell_type": "markdown",
      "metadata": {
        "id": "Wp3eOondaUoc"
      },
      "source": [
        "Como se puede observar, se ejecutan dos procesos:\n",
        "\n",
        "- Tomar la raíz de las palabras\n",
        "- Eliminar palabras que no son relevantes para el idioma ingles ('a' y 'and')"
      ]
    },
    {
      "cell_type": "markdown",
      "metadata": {
        "id": "V7N4C-uxdtJl"
      },
      "source": [
        "## Definir y entrenar un modelo de Regresión Logística. "
      ]
    },
    {
      "cell_type": "markdown",
      "metadata": {
        "id": "81XfL5HzdzvN"
      },
      "source": [
        "Definimos las librerías y paquetes que necesitaremos, en este caso usaremos la librería llamada GridSearchSV para encontrar el conjunto de parámetros óptimo para nuestro modelo de regresión logística mediante una validación cruzada de 5 iteraciones. "
      ]
    },
    {
      "cell_type": "code",
      "metadata": {
        "id": "jwBV6NkXeLL4"
      },
      "source": [
        "from sklearn.pipeline import Pipeline\n",
        "from sklearn.linear_model import LogisticRegression\n",
        "from sklearn.feature_extraction.text import TfidfVectorizer\n",
        "from sklearn.model_selection import GridSearchCV"
      ],
      "execution_count": null,
      "outputs": []
    },
    {
      "cell_type": "markdown",
      "metadata": {
        "id": "UyZ3WWI5efrQ"
      },
      "source": [
        "|Librería|Uso|\n",
        "|--------|---|\n",
        "|Pipeline|Permite implementar métodos de ajuste y transformación|\n",
        "|LogisitcRegression|Modelo de Regresión Logística|\n",
        "|TfidfVectorizer|Conversor de texto a vector|\n",
        "|GridSearchCV|Búsqueda de cuadrícula con validación cruzada (para usar con regresión logística)|"
      ]
    },
    {
      "cell_type": "markdown",
      "metadata": {
        "id": "4lMyvA0XfEWz"
      },
      "source": [
        "Dividiremos el dataset en 25000 para entrenar y 25000 para testear."
      ]
    },
    {
      "cell_type": "code",
      "metadata": {
        "id": "TAvK1dgNfLCU"
      },
      "source": [
        "x_train = df.loc[:25000, 'review'].values\n",
        "y_train = df.loc[:25000, 'sentiment'].values"
      ],
      "execution_count": null,
      "outputs": []
    },
    {
      "cell_type": "code",
      "metadata": {
        "id": "GSLLNH9Tfq8q"
      },
      "source": [
        "x_test = df.loc[25000:, 'review'].values\n",
        "y_test = df.loc[25000:, 'sentiment']"
      ],
      "execution_count": null,
      "outputs": []
    },
    {
      "cell_type": "markdown",
      "metadata": {
        "id": "Pgp4LXUugFvJ"
      },
      "source": [
        "Le definimos los parámetros globales para hacer la regresión logística, primero que convierta una colección de documentos en bruto en una matriz de características TF-IDF.\n",
        "\n",
        "***TfidfVectorizer*** hace lo mismo que ***CountVectorizer*** y ***Tfidftransformer***"
      ]
    },
    {
      "cell_type": "code",
      "metadata": {
        "id": "YPx14bZpgnVX"
      },
      "source": [
        "from sklearn.feature_extraction.text import TfidfVectorizer"
      ],
      "execution_count": null,
      "outputs": []
    },
    {
      "cell_type": "markdown",
      "metadata": {
        "id": "hXXePJSJgtwg"
      },
      "source": [
        "Propiedades del conversor de texto a vectores"
      ]
    },
    {
      "cell_type": "code",
      "metadata": {
        "id": "dRAIooHQg-W4"
      },
      "source": [
        "tfidf = TfidfVectorizer(strip_accents=None, lowercase=False, preprocessor=None)"
      ],
      "execution_count": null,
      "outputs": []
    },
    {
      "cell_type": "markdown",
      "metadata": {
        "id": "MC53dCE2hJTh"
      },
      "source": [
        "Lo anterior nos permite tener una base de como queremos que realice la vectorización del texto:\n",
        "\n",
        "- No definir un preprocesador -> preprocessor=None (none, ya que usamos uno atras)\n",
        "- No poner todas las letras en minúscula -> lowercase=False\n",
        "- No eliminar los acentos -> strip_accents=None\n",
        "\n",
        "La eliminación de los acentos se usa en idiomas como el español donde los acentos son muy frecuentes. Para la eliminación y normalización de caracteres durante el preprocesamiento. Existen varias opciones: \n",
        "\n",
        "- 'ascii' es un método rápido que solo funciona en caracteres que contienen un mapeo ASCII directo.\n",
        "- 'unicode' es un método un poco más lento que funciona en cualquier personaje.\n",
        "- 'None', Ninguno(predeterminado) no hace nada."
      ]
    },
    {
      "cell_type": "markdown",
      "metadata": {
        "id": "C6sif3QUIXKC"
      },
      "source": [
        "### Cuadrícula de validaciones (Hyperparameters)"
      ]
    },
    {
      "cell_type": "markdown",
      "metadata": {
        "id": "kQlKa82NjB3r"
      },
      "source": [
        "Creamos 2 diccionarios:\n",
        "\n",
        "- El primero: *use_idf=True*, *smoth_idf=True* y *norm='l2'*, que se usarán para calcualar los tf-idf\n",
        "\n",
        "- El segundo: *use_idf=False*, *smoth_idf=False* y *norm=None*, para entrenar un modelo basado en frecuencias de términos sin procesar. Para usar la regresión logística debemos usar L1 y L2 mediante parámetros de penalización y adicionalmente comparamos diferentes fuerzas de regulación definiendo un rango de valores para el parámetro de regulación inversa C."
      ]
    },
    {
      "cell_type": "code",
      "metadata": {
        "id": "E4-zoudRkYgD"
      },
      "source": [
        "param_grid = [\n",
        "              {'vect__ngram_range': [(1, 1)],\n",
        "               'vect__stop_words': [stop, None],\n",
        "               'vect__tokenizer': [tokenizer, tokenizer_porter],\n",
        "               'clf__penalty': ['l1', 'l2'],\n",
        "               'clf__C': [1.0, 10.0, 100.0]},\n",
        "               \n",
        "              {'vect__ngram_range': [(1, 1)],\n",
        "               'vect__stop_words': [stop, None],\n",
        "               'vect__tokenizer': [tokenizer, tokenizer_porter],\n",
        "               'vect__use_idf': [False],\n",
        "               'vect__norm': [None],\n",
        "               'clf__penalty': ['l1', 'l2'],\n",
        "               'clf__C': [1.0, 10.0, 100.0]}\n",
        "]"
      ],
      "execution_count": null,
      "outputs": []
    },
    {
      "cell_type": "markdown",
      "metadata": {
        "id": "HUwOqO_SRiEi"
      },
      "source": [
        "### Pipeline"
      ]
    },
    {
      "cell_type": "markdown",
      "metadata": {
        "id": "X_HVS9zkRsiu"
      },
      "source": [
        "Creamos un Pipeline, que es lo que encadena varios pasos juntos, una vez que se realiza la exploración inicial. Por ejemplo: \n",
        "\n",
        "- Puede transformar características: normalizar números, convertir texto en vectores o completar datos faltantes(nuestro caso), son transformadores.\n",
        "- Predecir variables ajustando un algoritmo, como \"Random Forest\" o \"Support Vector Machine\", son estimadores. \n",
        "\n",
        "Mezclamos regresión lineal y vectores de textos en un solo proceso"
      ]
    },
    {
      "cell_type": "code",
      "metadata": {
        "id": "tGI13SLUSWrA"
      },
      "source": [
        "lr_tfidf = Pipeline([('vect', tfidf), ('clf', LogisticRegression(random_state=0))])"
      ],
      "execution_count": null,
      "outputs": []
    },
    {
      "cell_type": "markdown",
      "metadata": {
        "id": "LrB0MeT2S9Ug"
      },
      "source": [
        "Creamos la búsqueda de cuadrícula (GridSearchCV), cuyo propósito es un enfoque para el ajuste de parámetros que construirá y evaluará metódicamente un modelo para cada combinación de parámetros de algoritmo especificados en una cuadrícula."
      ]
    },
    {
      "cell_type": "code",
      "metadata": {
        "id": "ia_kOtouTeeD"
      },
      "source": [
        "gs_lr_tfidf = GridSearchCV(\n",
        "    lr_tfidf, \n",
        "    param_grid, \n",
        "    scoring='accuracy', \n",
        "    cv=5, \n",
        "    verbose=1,\n",
        "    n_jobs=-1\n",
        ")"
      ],
      "execution_count": null,
      "outputs": []
    },
    {
      "cell_type": "markdown",
      "metadata": {
        "id": "3OQNJl4YT5Tu"
      },
      "source": [
        "El parámetro *n_jobs=-1* permite que el interprete de Python utilice todos los procesadores disponibles en el sistema. Es importante hacer la aclaración de que no es recomendable hacer este proceso directamente en Windows, pues puede generar errores en la declinación de palabras, además de presentar fallos en el sistema. Es preferible hacer la ejecución en un entorno virtual como Colab, o en sistemas operativos como Linux o MacOS."
      ]
    },
    {
      "cell_type": "markdown",
      "metadata": {
        "id": "Qe5hTNjNU4nC"
      },
      "source": [
        "### Entrenamiento"
      ]
    },
    {
      "cell_type": "markdown",
      "metadata": {
        "id": "uwkEbegOU-cr"
      },
      "source": [
        "Una vez terminamos de definir todos los parámetros necesarios, procedemos a entrenar nuestros modelos. "
      ]
    },
    {
      "cell_type": "code",
      "metadata": {
        "colab": {
          "base_uri": "https://localhost:8080/"
        },
        "id": "pIVeSy1QVIfm",
        "outputId": "d952a730-e5b8-4d9c-b62c-fd7fc93d3579"
      },
      "source": [
        "gs_lr_tfidf.fit(x_train, y_train)"
      ],
      "execution_count": null,
      "outputs": [
        {
          "output_type": "stream",
          "text": [
            "Fitting 5 folds for each of 48 candidates, totalling 240 fits\n"
          ],
          "name": "stdout"
        },
        {
          "output_type": "stream",
          "text": [
            "[Parallel(n_jobs=-1)]: Using backend LokyBackend with 2 concurrent workers.\n",
            "[Parallel(n_jobs=-1)]: Done  46 tasks      | elapsed: 39.8min\n"
          ],
          "name": "stderr"
        }
      ]
    },
    {
      "cell_type": "markdown",
      "metadata": {
        "id": "t1yyF25NXDEJ"
      },
      "source": [
        "En caso de que queramos reducir el tiempo de ejecución podemos cambiar unos Hyperparametros, pero esto afectara en la precisión del mismo. Entonces, si así lo queremos, eliminamos el segundo diccionario de param_grid, dejando solo de la siguiente manera:\n",
        "\n",
        "```python\n",
        "param_grid = [\n",
        "              {'vect__ngram_range': [(1, 1)],\n",
        "               'vect__stop_words': [stop, None],\n",
        "               'vect__tokenizer': [tokenizer, tokenizer_porter],\n",
        "               'clf__penalty': ['l1', 'l2'],\n",
        "               'clf__C': [1.0, 10.0, 100.0]}\n",
        "]\n",
        "```"
      ]
    },
    {
      "cell_type": "markdown",
      "metadata": {
        "id": "Kw0EDI7lZHid"
      },
      "source": [
        "### Ver resultados"
      ]
    },
    {
      "cell_type": "markdown",
      "metadata": {
        "id": "v8we6Qp6ZJ4G"
      },
      "source": [
        "Una vez terminada la búsqueda de cuadrícula, imprimimos el mejor conjunto de parámetros:"
      ]
    },
    {
      "cell_type": "code",
      "metadata": {
        "id": "C07F3Cn3ZVb0"
      },
      "source": [
        "print('Mejores set de parametros: %s' % gs_lr_tfidf.best_params_)"
      ],
      "execution_count": null,
      "outputs": []
    },
    {
      "cell_type": "code",
      "metadata": {
        "id": "XlHfnB1rZh2H"
      },
      "source": [
        "print('CV exactitud: %.3f' % gs_lr_tfidf.best_score_)"
      ],
      "execution_count": null,
      "outputs": []
    },
    {
      "cell_type": "markdown",
      "metadata": {
        "id": "CuR-vTHJZsk_"
      },
      "source": [
        "Una vez terminada la búsqueda de cuadrícula, imprimimos el mejor conjunto de parámetros:"
      ]
    },
    {
      "cell_type": "code",
      "metadata": {
        "id": "5ihSpUE3Z1Gw"
      },
      "source": [
        "clf = gs_lr_tfidf.best_estimator_\n",
        "print('Test exactitud: %.3f' % clf.score(x_test, y_test))"
      ],
      "execution_count": null,
      "outputs": []
    },
    {
      "cell_type": "markdown",
      "metadata": {
        "id": "Be5M_77HkRXJ"
      },
      "source": [
        "## Serialización del modelo de IA"
      ]
    },
    {
      "cell_type": "code",
      "metadata": {
        "id": "T4UPxmi2mvMj"
      },
      "source": [
        "import pickle\n",
        "import os"
      ],
      "execution_count": null,
      "outputs": []
    },
    {
      "cell_type": "markdown",
      "metadata": {
        "id": "pqn0Fya5m0Ky"
      },
      "source": [
        "Para guardar los archivos serializados, se crea una nueva carpeta"
      ]
    },
    {
      "cell_type": "code",
      "metadata": {
        "id": "cKU5ghR0my1Z"
      },
      "source": [
        "dest = os.path.join('/content/drive/MyDrive/Colab Notebooks/PLN/moviesclassifier', 'pkl_objects')\n",
        "if not os.path.exists(dest):\n",
        "    os.makedirs(dest)"
      ],
      "execution_count": null,
      "outputs": []
    },
    {
      "cell_type": "markdown",
      "metadata": {
        "id": "w_yua7Hvka9-"
      },
      "source": [
        "Convertimos el clasificador y el stopword en archivo/objetos_pkl"
      ]
    },
    {
      "cell_type": "code",
      "metadata": {
        "id": "PZDJQ6AwD1mF"
      },
      "source": [
        "pickle.dump(stop, open(os.path.join(dest, 'stopwords.pkl'), 'wb'), protocol=4)   \n",
        "pickle.dump(clf, open(os.path.join(dest, 'classifier.pkl'), 'wb'), protocol=4)"
      ],
      "execution_count": null,
      "outputs": []
    },
    {
      "cell_type": "markdown",
      "metadata": {
        "id": "Du2poQJtEAPx"
      },
      "source": [
        "Los serializables los podemos usar por ejemplo, para ser publicados y usados en una página web, tal es el caso de uso que se dio en github. "
      ]
    }
  ]
}