{
  "nbformat": 4,
  "nbformat_minor": 0,
  "metadata": {
    "colab": {
      "name": "P1T1_python_basic_concepts.ipynb",
      "provenance": [],
      "collapsed_sections": [
        "_PyKE1iwOgcU",
        "BeyH8OBUQQBN",
        "b-3stX2-bnN_",
        "s46461BwaidY",
        "r1yUGiwrcQW7",
        "vMHAI1H1kT09",
        "Zqp7_N3monv4",
        "lT7s6SCqtfwu"
      ]
    },
    "kernelspec": {
      "name": "python3",
      "display_name": "Python 3"
    }
  },
  "cells": [
    {
      "cell_type": "markdown",
      "metadata": {
        "id": "WRJoPuirLNja"
      },
      "source": [
        "# Jupyter Notebook en Google Colaboraty\r\n",
        "## Uso de Markdown\r\n",
        "Los textos generados hacen uso de lenguaje Markdown (.md)"
      ]
    },
    {
      "cell_type": "code",
      "metadata": {
        "colab": {
          "base_uri": "https://localhost:8080/"
        },
        "id": "qi37xFxVK-Wk",
        "outputId": "a710ef8c-6a4e-40d2-ecb8-e9132ba21ea7"
      },
      "source": [
        "print(\"Hello World\")"
      ],
      "execution_count": null,
      "outputs": [
        {
          "output_type": "stream",
          "text": [
            "Hello World\n"
          ],
          "name": "stdout"
        }
      ]
    },
    {
      "cell_type": "markdown",
      "metadata": {
        "id": "1GH2xZhvMliI"
      },
      "source": [
        "## Repaso de Python\r\n",
        "Los siguientes ejercicios son para comparar conceptos tradicionales vs las Buenas Prácticas propuestas por Python. \r\n",
        "\r\n",
        "\r\n",
        "Teoria y Ejercicios tomados de: [P1_MACHINE_LEARNING-Introduction Python.pdf](https://github.com/luisFernandoCastellanosG/Machine_learning/blob/master/presentations_ppt/P1_MACHINE_LEARNING-Introduction%20Python.pdf)\r\n",
        "\r\n"
      ]
    },
    {
      "cell_type": "markdown",
      "metadata": {
        "id": "SCaf858HaOTs"
      },
      "source": [
        "### Simplicidad en el proceso"
      ]
    },
    {
      "cell_type": "markdown",
      "metadata": {
        "id": "biZy3kg3RCmQ"
      },
      "source": [
        "#### Ejercicio 1\r\n",
        "Diseñar un programa para sumar N numeros"
      ]
    },
    {
      "cell_type": "code",
      "metadata": {
        "colab": {
          "base_uri": "https://localhost:8080/"
        },
        "id": "CuOQxhTxMs47",
        "outputId": "1a8889f7-c7dc-4014-daf5-6ccb57fc1bd3"
      },
      "source": [
        "# Método Clásico\r\n",
        "tot = int(input(\"Ingrese la cantidad N de números: \"))\r\n",
        "suma = 0\r\n",
        "for i in range(0, tot):\r\n",
        "  suma += int(input(\"Ingrese el valor del num \" + str(i) + \": \"))\r\n",
        "print(\" El total es: \" + str(suma))"
      ],
      "execution_count": null,
      "outputs": [
        {
          "output_type": "stream",
          "text": [
            "Ingrese la cantidad N de números: 3\n",
            "Ingrese el valor del num 0: 4\n",
            "Ingrese el valor del num 1: 3\n",
            "Ingrese el valor del num 2: 5\n",
            " El total es: 12\n"
          ],
          "name": "stdout"
        }
      ]
    },
    {
      "cell_type": "markdown",
      "metadata": {
        "id": "6deH77NMOnkH"
      },
      "source": [
        "Si solo se utiliza una vez una variable, evitar una declaración innecesaria"
      ]
    },
    {
      "cell_type": "code",
      "metadata": {
        "colab": {
          "base_uri": "https://localhost:8080/"
        },
        "id": "YC1lETfJNhgC",
        "outputId": "28ca075d-cde7-4e60-ae25-aa259924bb33"
      },
      "source": [
        "# Método Python\r\n",
        "suma = 0\r\n",
        "for i in range(0, int(input(\"Ingrese la cantidad N de números: \"))):\r\n",
        "  suma += int((input(\"Ingrese el valor del num \" + str(i) + \": \")))\r\n",
        "print(\" El total es: \" + str(suma))"
      ],
      "execution_count": null,
      "outputs": [
        {
          "output_type": "stream",
          "text": [
            "Ingrese la cantidad N de números: 4\n",
            "Ingrese el valor del num 0: 5\n",
            "Ingrese el valor del num 1: 33\n",
            "Ingrese el valor del num 2: 56\n",
            "Ingrese el valor del num 3: 1\n",
            " El total es: 95\n"
          ],
          "name": "stdout"
        }
      ]
    },
    {
      "cell_type": "markdown",
      "metadata": {
        "id": "_PyKE1iwOgcU"
      },
      "source": [
        "#### Ejercicio 2\r\n",
        "Diseñar un programa para saber cuales numeros son pares en un rango de [a, b)"
      ]
    },
    {
      "cell_type": "code",
      "metadata": {
        "colab": {
          "base_uri": "https://localhost:8080/"
        },
        "id": "W3WRKy31O7SP",
        "outputId": "7cd559ed-5a76-4aa1-856d-0d233766de20"
      },
      "source": [
        "# Método Clásico\r\n",
        "inicio = int(input(\"Número mínimo: \"))\r\n",
        "fin = int(input(\"Número máximo: \"))\r\n",
        "for i in range(inicio, fin):\r\n",
        "  if((i%2) == 0):\r\n",
        "    print(\" El número par es:\" + str(i))\r\n"
      ],
      "execution_count": null,
      "outputs": [
        {
          "output_type": "stream",
          "text": [
            "Número mínimo: 5\n",
            "Número máximo: 12\n",
            " El número par es:6\n",
            " El número par es:8\n",
            " El número par es:10\n"
          ],
          "name": "stdout"
        }
      ]
    },
    {
      "cell_type": "code",
      "metadata": {
        "colab": {
          "base_uri": "https://localhost:8080/"
        },
        "id": "2-1f4-mhPPGv",
        "outputId": "ac0bf598-6e64-4ce1-f5bc-7adb277d9913"
      },
      "source": [
        "# Método Python\r\n",
        "for i in range(int(input(\"Número mínimo: \")), int(input(\"Número máximo: \"))):\r\n",
        "  if((i%2) == 0):\r\n",
        "    print(\" El numero par es: \" + str(i))"
      ],
      "execution_count": null,
      "outputs": [
        {
          "output_type": "stream",
          "text": [
            "Número mínimo: 3\n",
            "Número máximo: 8\n",
            " El numero par es: 4\n",
            " El numero par es: 6\n"
          ],
          "name": "stdout"
        }
      ]
    },
    {
      "cell_type": "markdown",
      "metadata": {
        "id": "BeyH8OBUQQBN"
      },
      "source": [
        "#### Ejercicio 3\r\n",
        "Diseñe un programa que debe tomar como argumento 3 números y devolver el mayor de ellos."
      ]
    },
    {
      "cell_type": "code",
      "metadata": {
        "colab": {
          "base_uri": "https://localhost:8080/"
        },
        "id": "_guyJViOSmUA",
        "outputId": "f593a70d-d537-4023-f64f-81a67cb46177"
      },
      "source": [
        "# Método Clásico\r\n",
        "var1 = int(input(\"Ingrese el valor de la variable 1: \"))\r\n",
        "var2 = int(input(\"Ingrese el valor de la variable 2: \"))\r\n",
        "var3 = int(input(\"Ingrese el valor de la variable 3: \"))\r\n",
        "if(var1>var2 and var1>var3):\r\n",
        "  print(\" El mayor es: \" + str(var1))\r\n",
        "elif(var2>var1 and var2>var3):\r\n",
        "  print(\" El mayor es: \" + str(var2))\r\n",
        "else: \r\n",
        "  print(\" El mayor es: \" + str(var3))"
      ],
      "execution_count": null,
      "outputs": [
        {
          "output_type": "stream",
          "text": [
            "Ingrese el valor de la variable 1: 2\n",
            "Ingrese el valor de la variable 2: 55\n",
            "Ingrese el valor de la variable 3: 100\n",
            " El mayor es: 100\n"
          ],
          "name": "stdout"
        }
      ]
    },
    {
      "cell_type": "markdown",
      "metadata": {
        "id": "TPTC8OuDUpDq"
      },
      "source": [
        "Python permite las definición de multiples variables en una sola línea, además de tener funciones que facilitan la codificación"
      ]
    },
    {
      "cell_type": "code",
      "metadata": {
        "colab": {
          "base_uri": "https://localhost:8080/"
        },
        "id": "00DBHvxMUDcF",
        "outputId": "9d9266b3-7567-4a29-d1f8-f81e319a5a84"
      },
      "source": [
        "# Método Python\r\n",
        "var1, var2, var3 = input(\"Ingrese los 3 números separados por coma(,): \").split(\",\")\r\n",
        "print(\" El número máximo es: \" + str(max(var1,var2,var3)))"
      ],
      "execution_count": null,
      "outputs": [
        {
          "output_type": "stream",
          "text": [
            "Ingrese los 3 números separados por coma(,): 22, 33, 4\n",
            " El número máximo es: 22\n"
          ],
          "name": "stdout"
        }
      ]
    },
    {
      "cell_type": "markdown",
      "metadata": {
        "id": "b-3stX2-bnN_"
      },
      "source": [
        "### Manejo de Listas - Vectores"
      ]
    },
    {
      "cell_type": "markdown",
      "metadata": {
        "id": "LDuWdrAoVdi6"
      },
      "source": [
        "#### Semi-Teoría\r\n",
        "\r\n",
        "Las listas pueden contener cualquier elemento (números, caracteres, listas, ...)\r\n",
        "\r\n",
        "```python\r\n",
        "lista1 = [\"a\", \"b\", \"c\"]\r\n",
        "lista2 = [1, 2, \"d\", \"e\"]\r\n",
        "lista3 = [lista1, lista2]\r\n",
        "```\r\n",
        "Para imprimir la información se puede hacer uso de diferentes soluciones:\r\n",
        "\r\n",
        "```python\r\n",
        "for x in range(len(lista1)): print(lista1[x])\r\n",
        "```\r\n",
        "- ```\r\n",
        "Output: a\r\n",
        "          b\r\n",
        "          c\r\n",
        "```\r\n",
        "\r\n",
        "```python\r\n",
        "print(*lista2)\r\n",
        "```\r\n",
        "- ```\r\n",
        "Output: 1 2 d e\r\n",
        "```\r\n",
        "\r\n",
        "```python\r\n",
        "print(''.join(str(lista3)))\r\n",
        "```\r\n",
        "- ```\r\n",
        "Output: [['a', 'b', 'c'], [1, 2, 'd', 'e']]\r\n",
        "```\r\n",
        "\r\n",
        "```python\r\n",
        "print('\\n'.join(map(str, lista1)))\r\n",
        "```\r\n",
        "- ```\r\n",
        "Output: a\r\n",
        "          b\r\n",
        "          c\r\n",
        "```"
      ]
    },
    {
      "cell_type": "markdown",
      "metadata": {
        "id": "s46461BwaidY"
      },
      "source": [
        "#### Ejercicio 1\r\n",
        "\r\n",
        "Diseñe un programa para visualizar 2 listados concatenados: \r\n",
        "- Uno donde los números sean del 1 al 12\r\n",
        "- Otro listado donde los números sean del 12 al 1\r\n",
        "Ejemplo: [1,2,3,4,5,6,7,8,9,10,11,12] + [12,11,10,9,8,7,6,5,4,3,2,1]"
      ]
    },
    {
      "cell_type": "code",
      "metadata": {
        "colab": {
          "base_uri": "https://localhost:8080/"
        },
        "id": "ySWLHJI5bDPR",
        "outputId": "cb2d4795-a443-4ed4-bd3a-126574901293"
      },
      "source": [
        "# Método Clásico\r\n",
        "rango1 = list(range(1,13))\r\n",
        "rango2 = list(range(12,0,-1))\r\n",
        "print(rango1 + rango2)"
      ],
      "execution_count": null,
      "outputs": [
        {
          "output_type": "stream",
          "text": [
            "[1, 2, 3, 4, 5, 6, 7, 8, 9, 10, 11, 12, 12, 11, 10, 9, 8, 7, 6, 5, 4, 3, 2, 1]\n"
          ],
          "name": "stdout"
        }
      ]
    },
    {
      "cell_type": "code",
      "metadata": {
        "colab": {
          "base_uri": "https://localhost:8080/"
        },
        "id": "nZmrIWJcb6Ts",
        "outputId": "f5b0c59d-77a5-473d-c6af-910ee26b62be"
      },
      "source": [
        "# Método Python\r\n",
        "lista = list(range(1,13))\r\n",
        "print(lista+lista[::-1])"
      ],
      "execution_count": null,
      "outputs": [
        {
          "output_type": "stream",
          "text": [
            "[1, 2, 3, 4, 5, 6, 7, 8, 9, 10, 11, 12, 12, 11, 10, 9, 8, 7, 6, 5, 4, 3, 2, 1]\n"
          ],
          "name": "stdout"
        }
      ]
    },
    {
      "cell_type": "markdown",
      "metadata": {
        "id": "r1yUGiwrcQW7"
      },
      "source": [
        "#### Ejercicio 2\r\n",
        "\r\n",
        "Diseñe un programa que muestre un listado de 10 números aleatorios entre 1 y 100\r\n",
        "\r\n",
        "* Nota: Usar librería"
      ]
    },
    {
      "cell_type": "code",
      "metadata": {
        "colab": {
          "base_uri": "https://localhost:8080/"
        },
        "id": "BSv-3UsHcfZ3",
        "outputId": "10dd0b27-081d-4683-a0fa-d25893418830"
      },
      "source": [
        "# Método Clásico\r\n",
        "import random\r\n",
        "\r\n",
        "lista = [random.randrange(10) for i in range(10)]\r\n",
        "print(lista)"
      ],
      "execution_count": null,
      "outputs": [
        {
          "output_type": "stream",
          "text": [
            "[5, 7, 9, 1, 3, 3, 8, 6, 8, 1]\n"
          ],
          "name": "stdout"
        }
      ]
    },
    {
      "cell_type": "code",
      "metadata": {
        "colab": {
          "base_uri": "https://localhost:8080/"
        },
        "id": "W5XurAq2dA4x",
        "outputId": "13c56a34-4355-459c-ac16-09b59d33cac8"
      },
      "source": [
        "# Método Python\r\n",
        "import random\r\n",
        "\r\n",
        "for i in range(10): print(random.randrange(100))"
      ],
      "execution_count": null,
      "outputs": [
        {
          "output_type": "stream",
          "text": [
            "53\n",
            "27\n",
            "37\n",
            "33\n",
            "29\n",
            "20\n",
            "42\n",
            "87\n",
            "99\n",
            "49\n"
          ],
          "name": "stdout"
        }
      ]
    },
    {
      "cell_type": "markdown",
      "metadata": {
        "id": "s2jHAbQeeWi9"
      },
      "source": [
        "#### Ejercicio 3\r\n",
        "Diseñe un programa que genere un listado con las edades de N habitantes de una ciudad, donde la cantidad de habitantes sea un valor random entre *1000* y *50000*, y la edad de cada persona también un random entre *1* y *100* años. Al final del programa, indicar cuanto es la población total y el porcentaje de cuántos son mayores de edad (>=18) y cuántos no."
      ]
    },
    {
      "cell_type": "code",
      "metadata": {
        "colab": {
          "base_uri": "https://localhost:8080/"
        },
        "id": "oZFIIxiRfS5Z",
        "outputId": "b9475b9e-0ea7-4058-e7a3-7536f2d82d03"
      },
      "source": [
        "from random import randint\r\n",
        "\r\n",
        "poblacion = [randint(1,100) for x in range(randint(10000,50000))]\r\n",
        "menores = [edad for edad in poblacion if edad < 18]\r\n",
        "print(\"Habitantes: \" + str(len(poblacion)) + \r\n",
        "      \"\\n Menores de 18= \" + str(len(menores)) + \", con un porcentaje de: \" + str(len(menores)*100/len(poblacion)) + \"%\" + \r\n",
        "      \"\\n Mayores de edad= \" + str(len(poblacion)-len(menores)) + \", con un porcentaje de: \" + str((len(poblacion)-len(menores))*100/len(poblacion)) + \"%\")"
      ],
      "execution_count": null,
      "outputs": [
        {
          "output_type": "stream",
          "text": [
            "Habitantes: 28666\n",
            " Menores de 18= 4859, con un porcentaje de: 16.950394195213843%\n",
            " Mayores de edad= 23807, con un porcentaje de: 83.04960580478615%\n"
          ],
          "name": "stdout"
        }
      ]
    },
    {
      "cell_type": "markdown",
      "metadata": {
        "id": "L1jdiTUoh2HP"
      },
      "source": [
        "### El Objeto Array Numpy (Computación científica)"
      ]
    },
    {
      "cell_type": "markdown",
      "metadata": {
        "id": "D8pXhW4th6dK"
      },
      "source": [
        "**_Numpy_** es uno de los módulos más importantes de Pyhton. Añade toda la capacidad matemática y vectorial a Python, haciendo posible operar con cualquier dato númerico o array. Incorpora operaciones tan básicas como la suma, la multiplicación u otras mucho más complejas como la transformada de Fourier o el álgebla lineal. Tambien permite incorporar código fuente de otros lenguajes de programación como _C/C++_, o _Fortran_, lo que incrementa su compatibilidad e implementación.\r\n",
        "\r\n",
        "Ejemplo de Uso:\r\n"
      ]
    },
    {
      "cell_type": "code",
      "metadata": {
        "colab": {
          "base_uri": "https://localhost:8080/"
        },
        "id": "0BS-0_l1j-iw",
        "outputId": "f45120fb-095b-4a8a-f21f-d0f35ed6aa96"
      },
      "source": [
        "import numpy as np\r\n",
        "from random import randint\r\n",
        " \r\n",
        "matriz = np.array([[i+1, randint(10000,70000)] for i in range(10)])\r\n",
        "print(matriz)"
      ],
      "execution_count": null,
      "outputs": [
        {
          "output_type": "stream",
          "text": [
            "[[    1 27241]\n",
            " [    2 12068]\n",
            " [    3 56032]\n",
            " [    4 46951]\n",
            " [    5 24450]\n",
            " [    6 31725]\n",
            " [    7 46806]\n",
            " [    8 62939]\n",
            " [    9 33080]\n",
            " [   10 40277]]\n"
          ],
          "name": "stdout"
        }
      ]
    },
    {
      "cell_type": "markdown",
      "metadata": {
        "id": "vMHAI1H1kT09"
      },
      "source": [
        "#### Ejercicio 1\r\n",
        "Diseñe un programa (máx 5 líneas) donde 6 candidatos se disputan la alcaldía. Los partidos políticos son:\r\n",
        "\r\n",
        "1. Socio-democrático\r\n",
        "2. Ultra-derecha\r\n",
        "3. Primero los ricos\r\n",
        "4. Centro corrupto\r\n",
        "5. Cambio invertido\r\n",
        "6. Alianza pobre\r\n",
        "\r\n",
        "Los votos de cada candidatos son generados de forma random entre _1_ y _25000_ votos máximo, el software debe determinar quien fue el ganador. "
      ]
    },
    {
      "cell_type": "code",
      "metadata": {
        "colab": {
          "base_uri": "https://localhost:8080/"
        },
        "id": "X0fB2rLTkSin",
        "outputId": "373783dd-7840-4f81-8509-79db8365ecb1"
      },
      "source": [
        "import numpy as np\r\n",
        "from random import randint\r\n",
        "matriz = np.array([[i+1, randint(1,25000)] for i in range(6)])\r\n",
        "ganador = np.where(matriz[:,1] == matriz[:,1].max())\r\n",
        "print(\"El ganador es: \" + str(matriz[ganador[0]]) + \"\\n\\n Las votaciones fueron: \\n\" + str(matriz))"
      ],
      "execution_count": null,
      "outputs": [
        {
          "output_type": "stream",
          "text": [
            "El ganador es: [[    5 22542]]\n",
            "\n",
            " Las votaciones fueron: \n",
            "[[    1 10772]\n",
            " [    2 21154]\n",
            " [    3 21610]\n",
            " [    4  5364]\n",
            " [    5 22542]\n",
            " [    6 13311]]\n"
          ],
          "name": "stdout"
        }
      ]
    },
    {
      "cell_type": "markdown",
      "metadata": {
        "id": "Zqp7_N3monv4"
      },
      "source": [
        "#### Ejercicio 2\r\n",
        "\r\n",
        "Diseñe un programa donde 6 candidatos se presentan a la disputa de la Gobernación, los candidatos son de los siguientes partidos:\r\n",
        "\r\n",
        "1. Socio-democrático\r\n",
        "2. Ultra-derecha\r\n",
        "3. Primero los ricos\r\n",
        "4. Centro corrupto\r\n",
        "5. Cambio invertido\r\n",
        "6. Alianza pobre\r\n",
        "\r\n",
        "Los votos de los candidatos son generados de manera random entre _1_ y _4500_ votos máximo para cada uno de los 123 municipios del departamento, el software debe determinar quien fue el ganador. \r\n",
        "\r\n",
        "Consejo: Crear una matriz para los votos, compuesta de _123_ filas y _6_ columnas, cuyo valor sea random entre _1_ y _4500_"
      ]
    },
    {
      "cell_type": "code",
      "metadata": {
        "colab": {
          "base_uri": "https://localhost:8080/"
        },
        "id": "8993DSyMpqyM",
        "outputId": "fd38d5a3-1c36-439b-ce97-b32603b9f135"
      },
      "source": [
        "import numpy as np\r\n",
        "from random import randint\r\n",
        "votos = np.random.randint(4500, size=(123,6))\r\n",
        "total_votos = np.array([[candidato+1, votos[:,candidato].sum()] for candidato in range(len(votos[0]))])\r\n",
        "ganador = np.where(total_votos == total_votos[:,1].max())\r\n",
        "print(\"El candidato ganador fue: \" + str(total_votos[ganador[0]]) + \"\\n\\n La votación fue la siguiente: \\n\" + str(total_votos))"
      ],
      "execution_count": null,
      "outputs": [
        {
          "output_type": "stream",
          "text": [
            "El candidato ganador fue: [[     4 303588]]\n",
            "\n",
            " La votación fue la siguiente: \n",
            "[[     1 254871]\n",
            " [     2 270335]\n",
            " [     3 275090]\n",
            " [     4 303588]\n",
            " [     5 258330]\n",
            " [     6 280498]]\n"
          ],
          "name": "stdout"
        }
      ]
    },
    {
      "cell_type": "markdown",
      "metadata": {
        "id": "wuuEaT50rAwz"
      },
      "source": [
        "#### Ejercicio 3\r\n",
        "Crear un programa para simular una carrera de F1, en dónde existen 5 vehículos:\r\n",
        "\r\n",
        "1. Renault\r\n",
        "2. Ferrari\r\n",
        "3. Mercedez\r\n",
        "4. Ford\r\n",
        "5. Red Bull\r\n",
        "\r\n",
        "La carrera esta diseñada para 4 vueltas donde el tiempo mínimo es de 8.2 segundos y el máximo es de 10 segundos. Diseñe la matriz 4x5 donde el determine cual es el vehículo ganador, y los tiempos de cada vehículo por vuelta en random."
      ]
    },
    {
      "cell_type": "code",
      "metadata": {
        "colab": {
          "base_uri": "https://localhost:8080/"
        },
        "id": "vBcqOwssr9fD",
        "outputId": "ffa4ef36-56ef-4e9e-ec2f-b66d5693ef28"
      },
      "source": [
        "import numpy as np\r\n",
        "from random import uniform\r\n",
        "matriz = np.random.uniform(8.2, 10, size=(4,5))\r\n",
        "total_vueltas = np.array([[corredor+1, matriz[:,corredor].sum()] for corredor in range(len(matriz[0]))])\r\n",
        "ganador = np.where(matriz == matriz[:,1].min())\r\n",
        "print(\"Ganador de la carrera: \" + str(total_vueltas[ganador[0]]) + \"\\n\\n Resultados de la carrera: \\n\" + str(matriz))"
      ],
      "execution_count": null,
      "outputs": [
        {
          "output_type": "stream",
          "text": [
            "Ganador de la carrera: [[ 3.         36.17940265]]\n",
            "\n",
            " Resultados de la carrera: \n",
            "[[9.69610624 9.24879989 9.32946821 8.54172006 9.25967246]\n",
            " [9.28658141 8.94668754 9.47997217 9.85300631 9.16100158]\n",
            " [9.14764035 8.39738324 8.28538425 8.77485546 9.82997694]\n",
            " [8.67389558 9.20819105 9.08457802 9.11122544 9.35128951]]\n"
          ],
          "name": "stdout"
        }
      ]
    },
    {
      "cell_type": "markdown",
      "metadata": {
        "id": "lT7s6SCqtfwu"
      },
      "source": [
        "### Scipy (open-source software for mathematics, science an engineering)\r\n"
      ]
    },
    {
      "cell_type": "markdown",
      "metadata": {
        "id": "uKDI4Hq_tv_k"
      },
      "source": [
        "**_Scipy_** es una colección de algoritmos matemáticos y funciones de conveniencia construidas por la extensión _Numpy_ de Python. Agrega un poder significativo a la sesión interactiva de Python al proporcionarle al usuarios comandos y clases de alto nivel para manipular y visualizar datos. Es un entorno de procesamiento de datos y prototipos de sistemas en Python, que compiten con sistemas como _MATLAB_, _IDL_, _Octave_, _R-Lab_ y _SciLab_."
      ]
    },
    {
      "cell_type": "markdown",
      "metadata": {
        "id": "zSG7yMWYvbKX"
      },
      "source": [
        "Scipy se organiza en subpaquetes que cubren diferentes dominios de computación científica. Estos se resumen en la siguiente tabla:\r\n",
        "\r\n",
        "|Subpaquete|Descripción|\r\n",
        "|----------|-----------|\r\n",
        "|cluster|Algoritmos de reconocimiento|\r\n",
        "|constants|Constantes físicas y matemáticas|\r\n",
        "|fftpack|Rutinas de transformada rápida de Fourier|\r\n",
        "|integrate|Integración y resolución de ecuaciones difenciales ordinarias|\r\n",
        "|interpolate|Interpolación y alisado de splines|\r\n",
        "|io|Entrada y Salida|\r\n",
        "|linalg|Álgebra lineal|\r\n",
        "|ndimage|Procesamiento de imágenes en N dimensiones|\r\n",
        "|odr|Regresión ortognal a distancia|\r\n",
        "|optimize|Optimización y rutinas de búsqueda de raíces|\r\n",
        "|signal|Procesamiento de la señal|\r\n",
        "|sparse|Matrices dispersas y rutinas asociadas|\r\n",
        "|spatial|Estructura de datos espaciales y algoritmos|\r\n",
        "|special|Funciones Especiales|\r\n",
        "|stats|Distribuciones estadísticas y funciones|"
      ]
    },
    {
      "cell_type": "markdown",
      "metadata": {
        "id": "tj3bQZS82D4C"
      },
      "source": [
        "### Matplotlib (Biblioteca de gráficos 2D en Python)"
      ]
    },
    {
      "cell_type": "markdown",
      "metadata": {
        "id": "crAQaERn2Nmm"
      },
      "source": [
        "Esta biblioteca puede generar gráficos como histogramas, espectros de potencia, de barras, de error, de dispersión, etc., con pocas lineas de código. Para un trazado simple, el módulo ***matplotlib.pyplot*** proporciona una interfaz gráfica similar a _MATLAB_, particularmente cuando se combina con IPython.\r\n",
        "\r\n",
        "Ejemplo de aplicación:"
      ]
    },
    {
      "cell_type": "code",
      "metadata": {
        "colab": {
          "base_uri": "https://localhost:8080/",
          "height": 265
        },
        "id": "FL9TQkO_3VUF",
        "outputId": "299a9bd7-c2c7-423d-c51f-662ab57d0025"
      },
      "source": [
        "import matplotlib.pyplot as plt\r\n",
        "plt.plot([10,20,40,20])\r\n",
        "plt.ylabel(\"Gráfico Básico\")\r\n",
        "plt.show()"
      ],
      "execution_count": null,
      "outputs": [
        {
          "output_type": "display_data",
          "data": {
            "image/png": "[encoded data removed]",
            "text/plain": [
              "<Figure size 432x288 with 1 Axes>"
            ]
          },
          "metadata": {
            "tags": [],
            "needs_background": "light"
          }
        }
      ]
    },
    {
      "cell_type": "code",
      "metadata": {
        "colab": {
          "base_uri": "https://localhost:8080/",
          "height": 265
        },
        "id": "xXrCseDh3wAi",
        "outputId": "7613852b-9b78-44fd-dbf9-882324dcb67c"
      },
      "source": [
        "import matplotlib.pyplot as plt\r\n",
        "import random\r\n",
        "lista = [random.randrange(10) for i in range(10)]\r\n",
        "plt.plot(lista, 'ro')\r\n",
        "plt.ylabel(\"Números random de 0 a 10\")\r\n",
        "plt.show()"
      ],
      "execution_count": null,
      "outputs": [
        {
          "output_type": "display_data",
          "data": {
            "image/png": "[encoded data removed]",
            "text/plain": [
              "<Figure size 432x288 with 1 Axes>"
            ]
          },
          "metadata": {
            "tags": [],
            "needs_background": "light"
          }
        }
      ]
    },
    {
      "cell_type": "markdown",
      "metadata": {
        "id": "qm1y_h2R4cEv"
      },
      "source": [
        "#### Ejercicio 1\r\n",
        "Visualice en gráficos de dispersión [pylot(scatter)] o de barras tomando los valores obtenidos en los ejercicios:\r\n",
        "1. Numpy, Ejercicio 1 (Alcaldes) -> Barras\r\n",
        "2. Numpy, Ejercicio 3 (F1) -> Dispersión (colores por vehículo)"
      ]
    },
    {
      "cell_type": "code",
      "metadata": {
        "colab": {
          "base_uri": "https://localhost:8080/",
          "height": 375
        },
        "id": "QuJCkGEY5E6m",
        "outputId": "f34a6acc-b38e-4638-ede4-8a4ae633392b"
      },
      "source": [
        "### Numpy, Ejercicio 1(Alcaldes), Diagrama de Barras\r\n",
        "\r\n",
        "import numpy as np\r\n",
        "from random import randint\r\n",
        "import matplotlib.pyplot as plt\r\n",
        "\r\n",
        "# Votaciones\r\n",
        "matriz = np.array([[i+1, randint(1,20000)] for i in range(6)])\r\n",
        "ganador = np.where(matriz == matriz[:,1].max())\r\n",
        "# Diagrama de Barras\r\n",
        "fig = plt.figure('Gráfica de Barras') # Generación de Ventana\r\n",
        "ax = fig.add_subplot(1,1,1) # Un eje coordenado\r\n",
        "nombres = ['1. Socio-democrático', '2. Ultra-derecha', '3. Primero los ricos', '4. Centro corrupto', '5. Cambio invertido', '6. Alianza pobre']\r\n",
        "\r\n",
        "ax.bar(range(len(matriz)), matriz[:,1]) # Función bar para diagramar, con parametros de votos y puntos a ubicar\r\n",
        "ax.set_xticks(range(len(matriz[:,1]))) # Número de puntos a ubicar\r\n",
        "ax.set_xticklabels(nombres, rotation='vertical') # Agregar etiquetas a cada punto ubicado en el eje x\r\n",
        "\r\n",
        "plt.ylabel('Total votos')\r\n",
        "plt.xlabel('Candidatos')\r\n",
        "plt.show()"
      ],
      "execution_count": null,
      "outputs": [
        {
          "output_type": "display_data",
          "data": {
            "image/png": "[encoded data removed]",
            "text/plain": [
              "<Figure size 432x288 with 1 Axes>"
            ]
          },
          "metadata": {
            "tags": [],
            "needs_background": "light"
          }
        }
      ]
    },
    {
      "cell_type": "code",
      "metadata": {
        "colab": {
          "base_uri": "https://localhost:8080/",
          "height": 432
        },
        "id": "IPy5ZrWX8RXK",
        "outputId": "2ae59c9f-4ab8-4257-cad0-0c9e83a5a534"
      },
      "source": [
        "### Numpy, Ejercicio 3(F1), Diagrama de Dispersión\r\n",
        "\r\n",
        "import numpy as np\r\n",
        "import matplotlib.pyplot as plt\r\n",
        "\r\n",
        "# Vehículos\r\n",
        "matriz = np.random.uniform(8.2, 10, size=(4,5))\r\n",
        "total_vueltas = np.array([[corredor+1, matriz[:,corredor].sum()] for corredor in range(len(matriz[0]))])\r\n",
        "ganador = np.where(matriz == matriz[:,1].min())\r\n",
        "print(\"El ganador fue : \" + str(total_vueltas[ganador[0]]) + \"\\n\\n  El tiempo total por corredor fue de: \\n\" + str(total_vueltas))\r\n",
        "\r\n",
        "# Diagrama de dispersión\r\n",
        "x = total_vueltas[:,1]\r\n",
        "y = total_vueltas[:,0]\r\n",
        "fig = plt.figure()\r\n",
        "fig.add_subplot(111) \r\n",
        "plt.xlabel('Corredores')\r\n",
        "plt.ylabel('Total Tiempo')\r\n",
        "plt.scatter(y, x, c=x)\r\n",
        "plt.show"
      ],
      "execution_count": null,
      "outputs": [
        {
          "output_type": "stream",
          "text": [
            "El ganador fue : [[ 3.         34.39312779]]\n",
            "\n",
            "  El tiempo total por corredor fue de: \n",
            "[[ 1.         35.37807168]\n",
            " [ 2.         35.45963101]\n",
            " [ 3.         34.39312779]\n",
            " [ 4.         37.43459235]\n",
            " [ 5.         35.14094654]]\n"
          ],
          "name": "stdout"
        },
        {
          "output_type": "execute_result",
          "data": {
            "text/plain": [
              "<function matplotlib.pyplot.show>"
            ]
          },
          "metadata": {
            "tags": []
          },
          "execution_count": 79
        },
        {
          "output_type": "display_data",
          "data": {
            "image/png": "[encoded data removed]",
            "text/plain": [
              "<Figure size 432x288 with 1 Axes>"
            ]
          },
          "metadata": {
            "tags": [],
            "needs_background": "light"
          }
        }
      ]
    }
  ]
}