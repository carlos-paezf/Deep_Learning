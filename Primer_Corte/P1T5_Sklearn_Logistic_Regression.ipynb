{
  "nbformat": 4,
  "nbformat_minor": 0,
  "metadata": {
    "colab": {
      "name": "P1T5_Sklearn_Logistic_Regression.ipynb",
      "provenance": [],
      "collapsed_sections": [],
      "toc_visible": true
    },
    "kernelspec": {
      "name": "python3",
      "display_name": "Python 3"
    }
  },
  "cells": [
    {
      "cell_type": "markdown",
      "metadata": {
        "id": "o1jHd_OW_CYt"
      },
      "source": [
        "# Regresión Logística con SCIKIT-LEARN"
      ]
    },
    {
      "cell_type": "markdown",
      "metadata": {
        "id": "RhkpT7z2Df6j"
      },
      "source": [
        "## Regresión Logística Binaria, Ejercicio 1"
      ]
    },
    {
      "cell_type": "markdown",
      "metadata": {
        "id": "hLbL4GJRDmeC"
      },
      "source": [
        "Lo usaremos para clasificar situaciones con dos posibles estados binarios (1 - 0) (SI - NO), o en un numero finito de \"etiquetas\" o \"clases\" múltiples.\r\n",
        "  \r\n",
        "Algunos ejemplos de regresión logística son:\r\n",
        "- Clasificar si un email es Spam o mo\r\n",
        "- Un tumor clasificado como \"benigno\" o \"maligno\""
      ]
    },
    {
      "cell_type": "markdown",
      "metadata": {
        "id": "qTJukcQnEzLK"
      },
      "source": [
        "Conociendo el dataset, el profesor \"Freddy Michael Kruege Myres\", no tiene claro que tiempo recomendarles a sus estudiantes para que estudien para el examen y con ello garantizar las mejores notas. Por lo tanto recolecta la base de datos con los útimos 2000 exámenes onde están las horas que estudiaron y si aprobó o no. La base de datos esta disponible en: \r\n",
        "\r\n",
        "[Horas Estudio vs Aprobación](https://github.com/luisFernandoCastellanosG/Machine_learning/blob/master/Databaset's/horas_estudio_vs_aprobacion.csv])"
      ]
    },
    {
      "cell_type": "markdown",
      "metadata": {
        "id": "IRkZbjbvGJfC"
      },
      "source": [
        "### Paso 1: Importar librerías"
      ]
    },
    {
      "cell_type": "code",
      "metadata": {
        "id": "1zUTYSxYF87_"
      },
      "source": [
        "import numpy as np\r\n",
        "import pandas as pd\r\n",
        "import matplotlib.pyplot as plt\r\n",
        "import seaborn as sns"
      ],
      "execution_count": null,
      "outputs": []
    },
    {
      "cell_type": "markdown",
      "metadata": {
        "id": "7LSAgiNXGSGL"
      },
      "source": [
        "### Paso 2: Cargar Dataset\r\n"
      ]
    },
    {
      "cell_type": "markdown",
      "metadata": {
        "id": "rTbmneNfHb6Y"
      },
      "source": [
        "Cargar el Dataset al entorno de trabajo desde el repositorio de GitHub"
      ]
    },
    {
      "cell_type": "code",
      "metadata": {
        "id": "-U44eCarHo4U"
      },
      "source": [
        "data = pd.DataFrame()\r\n",
        "data = pd.read_csv(\r\n",
        "    \"https://raw.githubusercontent.com/luisFernandoCastellanosG/Machine_learning/master/Databaset's/horas_estudio_vs_aprobacion.csv\", \r\n",
        "    encoding='utf-8')"
      ],
      "execution_count": null,
      "outputs": []
    },
    {
      "cell_type": "markdown",
      "metadata": {
        "id": "vWXi_zlGGaIl"
      },
      "source": [
        "### Paso 3: Conocer los datos"
      ]
    },
    {
      "cell_type": "markdown",
      "metadata": {
        "id": "Rrcj0L9kKlX5"
      },
      "source": [
        "#### Obtener información de la data"
      ]
    },
    {
      "cell_type": "markdown",
      "metadata": {
        "id": "D9o0UbRCQeDI"
      },
      "source": [
        "De esta manera se unen: \r\n",
        "- ```python\r\n",
        "data.head(n)  # Mostrar los datos n de la cabecera\r\n",
        "```\r\n",
        "- ```python\r\n",
        "data.shape   # Conocer las dimensiones\r\n",
        "```\r\n"
      ]
    },
    {
      "cell_type": "code",
      "metadata": {
        "colab": {
          "base_uri": "https://localhost:8080/"
        },
        "id": "SdTXGDQ3KhIF",
        "outputId": "3df8d22c-b8f6-4203-8a39-d8ba2f6434ab"
      },
      "source": [
        "data.info"
      ],
      "execution_count": null,
      "outputs": [
        {
          "output_type": "execute_result",
          "data": {
            "text/plain": [
              "<bound method DataFrame.info of       horas  aprueba\n",
              "0      0.50        1\n",
              "1      2.00        0\n",
              "2      0.75        0\n",
              "3      2.75        1\n",
              "4      2.75        1\n",
              "...     ...      ...\n",
              "1995   1.50        0\n",
              "1996   1.75        0\n",
              "1997   2.75        1\n",
              "1998   4.75        0\n",
              "1999   4.00        0\n",
              "\n",
              "[2000 rows x 2 columns]>"
            ]
          },
          "metadata": {
            "tags": []
          },
          "execution_count": 31
        }
      ]
    },
    {
      "cell_type": "markdown",
      "metadata": {
        "id": "F-idctbbMzXO"
      },
      "source": [
        "#### Tipo de caracteristicas de la data"
      ]
    },
    {
      "cell_type": "code",
      "metadata": {
        "id": "4xhjZ5MZNLCA",
        "colab": {
          "base_uri": "https://localhost:8080/"
        },
        "outputId": "de18a2c4-35f8-4a76-d649-db645f6be5d5"
      },
      "source": [
        "data.info()"
      ],
      "execution_count": null,
      "outputs": [
        {
          "output_type": "stream",
          "text": [
            "<class 'pandas.core.frame.DataFrame'>\n",
            "RangeIndex: 2000 entries, 0 to 1999\n",
            "Data columns (total 2 columns):\n",
            " #   Column   Non-Null Count  Dtype  \n",
            "---  ------   --------------  -----  \n",
            " 0   horas    2000 non-null   float64\n",
            " 1   aprueba  2000 non-null   int64  \n",
            "dtypes: float64(1), int64(1)\n",
            "memory usage: 31.4 KB\n"
          ],
          "name": "stdout"
        }
      ]
    },
    {
      "cell_type": "code",
      "metadata": {
        "colab": {
          "base_uri": "https://localhost:8080/",
          "height": 297
        },
        "id": "jSVaSNWEOY-w",
        "outputId": "068f4b9d-59b9-49a1-a1e0-f2d3964ce1fa"
      },
      "source": [
        "data.describe()"
      ],
      "execution_count": null,
      "outputs": [
        {
          "output_type": "execute_result",
          "data": {
            "text/html": [
              "<div>\n",
              "<style scoped>\n",
              "    .dataframe tbody tr th:only-of-type {\n",
              "        vertical-align: middle;\n",
              "    }\n",
              "\n",
              "    .dataframe tbody tr th {\n",
              "        vertical-align: top;\n",
              "    }\n",
              "\n",
              "    .dataframe thead th {\n",
              "        text-align: right;\n",
              "    }\n",
              "</style>\n",
              "<table border=\"1\" class=\"dataframe\">\n",
              "  <thead>\n",
              "    <tr style=\"text-align: right;\">\n",
              "      <th></th>\n",
              "      <th>horas</th>\n",
              "      <th>aprueba</th>\n",
              "    </tr>\n",
              "  </thead>\n",
              "  <tbody>\n",
              "    <tr>\n",
              "      <th>count</th>\n",
              "      <td>2000.000000</td>\n",
              "      <td>2000.000000</td>\n",
              "    </tr>\n",
              "    <tr>\n",
              "      <th>mean</th>\n",
              "      <td>2.647625</td>\n",
              "      <td>0.496000</td>\n",
              "    </tr>\n",
              "    <tr>\n",
              "      <th>std</th>\n",
              "      <td>1.415867</td>\n",
              "      <td>0.500109</td>\n",
              "    </tr>\n",
              "    <tr>\n",
              "      <th>min</th>\n",
              "      <td>0.250000</td>\n",
              "      <td>0.000000</td>\n",
              "    </tr>\n",
              "    <tr>\n",
              "      <th>25%</th>\n",
              "      <td>1.500000</td>\n",
              "      <td>0.000000</td>\n",
              "    </tr>\n",
              "    <tr>\n",
              "      <th>50%</th>\n",
              "      <td>2.750000</td>\n",
              "      <td>0.000000</td>\n",
              "    </tr>\n",
              "    <tr>\n",
              "      <th>75%</th>\n",
              "      <td>3.750000</td>\n",
              "      <td>1.000000</td>\n",
              "    </tr>\n",
              "    <tr>\n",
              "      <th>max</th>\n",
              "      <td>5.000000</td>\n",
              "      <td>1.000000</td>\n",
              "    </tr>\n",
              "  </tbody>\n",
              "</table>\n",
              "</div>"
            ],
            "text/plain": [
              "             horas      aprueba\n",
              "count  2000.000000  2000.000000\n",
              "mean      2.647625     0.496000\n",
              "std       1.415867     0.500109\n",
              "min       0.250000     0.000000\n",
              "25%       1.500000     0.000000\n",
              "50%       2.750000     0.000000\n",
              "75%       3.750000     1.000000\n",
              "max       5.000000     1.000000"
            ]
          },
          "metadata": {
            "tags": []
          },
          "execution_count": 44
        }
      ]
    },
    {
      "cell_type": "markdown",
      "metadata": {
        "id": "zhqbjzHwOljN"
      },
      "source": [
        "#### Revisar si hay datos nulos"
      ]
    },
    {
      "cell_type": "code",
      "metadata": {
        "colab": {
          "base_uri": "https://localhost:8080/"
        },
        "id": "vbwYv5zAObjr",
        "outputId": "325b5a53-413a-4a9b-8630-2a76334f7753"
      },
      "source": [
        "data.isnull().sum()"
      ],
      "execution_count": null,
      "outputs": [
        {
          "output_type": "execute_result",
          "data": {
            "text/plain": [
              "horas      0\n",
              "aprueba    0\n",
              "dtype: int64"
            ]
          },
          "metadata": {
            "tags": []
          },
          "execution_count": 47
        }
      ]
    },
    {
      "cell_type": "markdown",
      "metadata": {
        "id": "75Wvnhx2PEh6"
      },
      "source": [
        "#### Visualizar la distribución de los datos"
      ]
    },
    {
      "cell_type": "markdown",
      "metadata": {
        "id": "Exaq2uurRAjJ"
      },
      "source": [
        "##### Gráfica de horas"
      ]
    },
    {
      "cell_type": "code",
      "metadata": {
        "colab": {
          "base_uri": "https://localhost:8080/",
          "height": 583
        },
        "id": "ibZH6l-ZPKeo",
        "outputId": "e997c769-49bc-47ff-ac16-02441028589e"
      },
      "source": [
        "sns.set(rc={'figure.figsize':(11.5, 8.5)})\r\n",
        "sns.distplot(data['horas'])\r\n",
        "plt.show()"
      ],
      "execution_count": null,
      "outputs": [
        {
          "output_type": "stream",
          "text": [
            "/usr/local/lib/python3.6/dist-packages/seaborn/distributions.py:2557: FutureWarning: `distplot` is a deprecated function and will be removed in a future version. Please adapt your code to use either `displot` (a figure-level function with similar flexibility) or `histplot` (an axes-level function for histograms).\n",
            "  warnings.warn(msg, FutureWarning)\n"
          ],
          "name": "stderr"
        },
        {
          "output_type": "display_data",
          "data": {
            "image/png": "[encoded data removed]",
            "text/plain": [
              "<Figure size 828x612 with 1 Axes>"
            ]
          },
          "metadata": {
            "tags": []
          }
        }
      ]
    },
    {
      "cell_type": "markdown",
      "metadata": {
        "id": "pVAOcKRBRGgP"
      },
      "source": [
        "##### Gráfica de aprobados"
      ]
    },
    {
      "cell_type": "code",
      "metadata": {
        "colab": {
          "base_uri": "https://localhost:8080/",
          "height": 583
        },
        "id": "ROQnG6MhQH57",
        "outputId": "c7eecb21-45e0-403e-b07c-afc6ae2caaab"
      },
      "source": [
        "sns.set(rc={'figure.figsize':(11.5, 8.5)})\r\n",
        "sns.distplot(data['aprueba'])\r\n",
        "plt.show()"
      ],
      "execution_count": null,
      "outputs": [
        {
          "output_type": "stream",
          "text": [
            "/usr/local/lib/python3.6/dist-packages/seaborn/distributions.py:2557: FutureWarning: `distplot` is a deprecated function and will be removed in a future version. Please adapt your code to use either `displot` (a figure-level function with similar flexibility) or `histplot` (an axes-level function for histograms).\n",
            "  warnings.warn(msg, FutureWarning)\n"
          ],
          "name": "stderr"
        },
        {
          "output_type": "display_data",
          "data": {
            "image/png": "[encoded data removed]",
            "text/plain": [
              "<Figure size 828x612 with 1 Axes>"
            ]
          },
          "metadata": {
            "tags": []
          }
        }
      ]
    },
    {
      "cell_type": "markdown",
      "metadata": {
        "id": "aHa1twPwRKTJ"
      },
      "source": [
        "##### Gráfica comparativa entre datos"
      ]
    },
    {
      "cell_type": "code",
      "metadata": {
        "colab": {
          "base_uri": "https://localhost:8080/",
          "height": 546
        },
        "id": "dww1TdxqRNky",
        "outputId": "bb24ba7a-e35d-41fe-8da1-a5c30971e23f"
      },
      "source": [
        "X = data['horas']\r\n",
        "y = data['aprueba']\r\n",
        "\r\n",
        "plt.scatter(X, y, s=15, alpha=0.5)\r\n",
        "plt.xlabel('Horas de estudio')\r\n",
        "plt.ylabel('Aprobación')"
      ],
      "execution_count": null,
      "outputs": [
        {
          "output_type": "execute_result",
          "data": {
            "text/plain": [
              "Text(0, 0.5, 'Aprobación')"
            ]
          },
          "metadata": {
            "tags": []
          },
          "execution_count": 58
        },
        {
          "output_type": "display_data",
          "data": {
            "image/png": "[encoded data removed]",
            "text/plain": [
              "<Figure size 828x612 with 1 Axes>"
            ]
          },
          "metadata": {
            "tags": []
          }
        }
      ]
    },
    {
      "cell_type": "markdown",
      "metadata": {
        "id": "6Bav5PSzGdPJ"
      },
      "source": [
        "### Paso 4: Preparar los datos"
      ]
    },
    {
      "cell_type": "markdown",
      "metadata": {
        "id": "k4VC9lMlUMrW"
      },
      "source": [
        "#### Datos en X"
      ]
    },
    {
      "cell_type": "markdown",
      "metadata": {
        "id": "C55eTGUMSfp1"
      },
      "source": [
        "En X colocaremos el tiempo de estudio que tomaron los estudiantes antes del examen. Apilamos los datos que vienen en 1d a 2d: \r\n",
        "\r\n",
        "- Opción 1: Usar np.c_\r\n",
        "```python\r\n",
        "X = pd.DataFrame(np.c_[df['horas']], columns = ['horas'])\r\n",
        "```\r\n",
        "- Opción 2: usamos .reshape(-1, 1)\r\n",
        "```python\r\n",
        "X = np.array(df['horas']).reshape(-1, 1)\r\n",
        "```"
      ]
    },
    {
      "cell_type": "code",
      "metadata": {
        "colab": {
          "base_uri": "https://localhost:8080/"
        },
        "id": "JGmmxIXETjr4",
        "outputId": "f2120f6e-4f6f-4980-f328-67452175d819"
      },
      "source": [
        "Xtrain = np.array(data['horas']).reshape(-1, 1)\r\n",
        "\r\n",
        "print(Xtrain)"
      ],
      "execution_count": null,
      "outputs": [
        {
          "output_type": "stream",
          "text": [
            "[[0.5 ]\n",
            " [2.  ]\n",
            " [0.75]\n",
            " ...\n",
            " [2.75]\n",
            " [4.75]\n",
            " [4.  ]]\n"
          ],
          "name": "stdout"
        }
      ]
    },
    {
      "cell_type": "markdown",
      "metadata": {
        "id": "fvsz6ZA-UP7l"
      },
      "source": [
        "#### Datos en Y"
      ]
    },
    {
      "cell_type": "markdown",
      "metadata": {
        "id": "FHghfRmxTjBz"
      },
      "source": [
        "En Y colocaremos el resultado del examen (1 / 0 ) (aprobado / reprobado)\r\n",
        "```python\r\n",
        "y= np.array(df['aprueba'])\r\n",
        "```"
      ]
    },
    {
      "cell_type": "code",
      "metadata": {
        "colab": {
          "base_uri": "https://localhost:8080/"
        },
        "id": "2KWM1cIUO8sF",
        "outputId": "99dfe770-cd42-457a-dd33-b9461ff7eae6"
      },
      "source": [
        "ytrain = np.array(data['aprueba'])\r\n",
        "\r\n",
        "print(ytrain)"
      ],
      "execution_count": null,
      "outputs": [
        {
          "output_type": "stream",
          "text": [
            "[1 0 0 ... 1 0 0]\n"
          ],
          "name": "stdout"
        }
      ]
    },
    {
      "cell_type": "markdown",
      "metadata": {
        "id": "Nq68dBOWGhMD"
      },
      "source": [
        "### Paso 5: LogisticRegression de scikit-learn"
      ]
    },
    {
      "cell_type": "markdown",
      "metadata": {
        "id": "mRXhtUeHUXvD"
      },
      "source": [
        "#### Importar la librería de Regresión Logística"
      ]
    },
    {
      "cell_type": "code",
      "metadata": {
        "id": "JQOWXGsoVNSE"
      },
      "source": [
        "from sklearn.linear_model import LogisticRegression"
      ],
      "execution_count": null,
      "outputs": []
    },
    {
      "cell_type": "markdown",
      "metadata": {
        "id": "aymAIrlQVhHp"
      },
      "source": [
        "#### Crear la instancia de regresión logística"
      ]
    },
    {
      "cell_type": "code",
      "metadata": {
        "id": "GknR4YZYVmoL"
      },
      "source": [
        "logistic_regression = LogisticRegression()"
      ],
      "execution_count": null,
      "outputs": []
    },
    {
      "cell_type": "markdown",
      "metadata": {
        "id": "gGOlULv8GqPl"
      },
      "source": [
        "### Paso 6: Entrenar"
      ]
    },
    {
      "cell_type": "code",
      "metadata": {
        "colab": {
          "base_uri": "https://localhost:8080/"
        },
        "id": "5RWn91jnWBIK",
        "outputId": "9e5322ba-0b78-4322-f508-83ab486d7410"
      },
      "source": [
        "logistic_regression.fit(Xtrain, ytrain)"
      ],
      "execution_count": null,
      "outputs": [
        {
          "output_type": "execute_result",
          "data": {
            "text/plain": [
              "LogisticRegression(C=1.0, class_weight=None, dual=False, fit_intercept=True,\n",
              "                   intercept_scaling=1, l1_ratio=None, max_iter=100,\n",
              "                   multi_class='auto', n_jobs=None, penalty='l2',\n",
              "                   random_state=None, solver='lbfgs', tol=0.0001, verbose=0,\n",
              "                   warm_start=False)"
            ]
          },
          "metadata": {
            "tags": []
          },
          "execution_count": 68
        }
      ]
    },
    {
      "cell_type": "markdown",
      "metadata": {
        "id": "xaHtfoHHGwCJ"
      },
      "source": [
        "### Paso 7: Predecir"
      ]
    },
    {
      "cell_type": "markdown",
      "metadata": {
        "id": "C0hU0qF1XAH4"
      },
      "source": [
        "#### Predicción sin separación de datos"
      ]
    },
    {
      "cell_type": "markdown",
      "metadata": {
        "id": "6XHFjkpRXFZu"
      },
      "source": [
        "Que pasa si se estudia entre 1 y 6 horas"
      ]
    },
    {
      "cell_type": "code",
      "metadata": {
        "id": "yZittZEMWqNk"
      },
      "source": [
        "X_hours_study = np.array([1, 2, 3, 4, 5, 6]).reshape(-1, 1)"
      ],
      "execution_count": null,
      "outputs": []
    },
    {
      "cell_type": "markdown",
      "metadata": {
        "id": "y8J1tT-PXMO2"
      },
      "source": [
        "Predicción: Los 0 son reprobar, los 1 aprobación del examen"
      ]
    },
    {
      "cell_type": "code",
      "metadata": {
        "colab": {
          "base_uri": "https://localhost:8080/"
        },
        "id": "-NBcS1lWXQXy",
        "outputId": "a47b9e7c-bda6-4728-e2c5-fcd5b5a02396"
      },
      "source": [
        "prediction = logistic_regression.predict(X_hours_study)\r\n",
        "print(prediction)"
      ],
      "execution_count": null,
      "outputs": [
        {
          "output_type": "stream",
          "text": [
            "[0 0 0 1 1 1]\n"
          ],
          "name": "stdout"
        }
      ]
    },
    {
      "cell_type": "markdown",
      "metadata": {
        "id": "GZpMzWuwYJ_5"
      },
      "source": [
        "La predicción regresa que si se estudia entre 1 y 3 horas, no se aprobara el parcial, contrario a estudiar entre 4 y 6 horas"
      ]
    },
    {
      "cell_type": "markdown",
      "metadata": {
        "id": "8qOQ0DizGzlT"
      },
      "source": [
        "### Paso 8: Obtener probabilidades"
      ]
    },
    {
      "cell_type": "markdown",
      "metadata": {
        "id": "pxfEUHx9YgrR"
      },
      "source": [
        "Se analiza cúal es la probabilidad de que ocurran los anteriores eventos"
      ]
    },
    {
      "cell_type": "code",
      "metadata": {
        "id": "1chbDXTLY1IH"
      },
      "source": [
        "probability_prediction = logistic_regression.predict_proba(X_hours_study)"
      ],
      "execution_count": null,
      "outputs": []
    },
    {
      "cell_type": "markdown",
      "metadata": {
        "id": "R2y4-DTmZUcy"
      },
      "source": [
        "- La primera columna es la probabilidad de reprobar\r\n",
        "- La segunda columna es la probabilidad de aprobar"
      ]
    },
    {
      "cell_type": "code",
      "metadata": {
        "colab": {
          "base_uri": "https://localhost:8080/"
        },
        "id": "unUBr50CY88-",
        "outputId": "a274badb-8d7a-427a-d325-95dc175a0de0"
      },
      "source": [
        "print(probability_prediction)"
      ],
      "execution_count": null,
      "outputs": [
        {
          "output_type": "stream",
          "text": [
            "[[0.5112111  0.4887889 ]\n",
            " [0.50683522 0.49316478]\n",
            " [0.50245829 0.49754171]\n",
            " [0.49808099 0.50191901]\n",
            " [0.49370398 0.50629602]\n",
            " [0.48932793 0.51067207]]\n"
          ],
          "name": "stdout"
        }
      ]
    },
    {
      "cell_type": "markdown",
      "metadata": {
        "id": "_AwVQwKcZBro"
      },
      "source": [
        "Aqui se puede ver la probalidad de aprobar para las horas de estudio asignadas en la variable"
      ]
    },
    {
      "cell_type": "code",
      "metadata": {
        "colab": {
          "base_uri": "https://localhost:8080/"
        },
        "id": "IOxd_UE1ZC0D",
        "outputId": "af3421ed-a6b8-4f59-ffe0-80be07df2793"
      },
      "source": [
        "print(probability_prediction[:, 1])"
      ],
      "execution_count": null,
      "outputs": [
        {
          "output_type": "stream",
          "text": [
            "[0.4887889  0.49316478 0.49754171 0.50191901 0.50629602 0.51067207]\n"
          ],
          "name": "stdout"
        }
      ]
    }
  ]
}