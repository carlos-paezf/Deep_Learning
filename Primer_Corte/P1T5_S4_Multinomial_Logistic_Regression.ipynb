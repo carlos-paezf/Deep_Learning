{
  "nbformat": 4,
  "nbformat_minor": 0,
  "metadata": {
    "colab": {
      "name": "P1T5_S4_Multinomial_Logistic_Regression.ipynb",
      "provenance": [],
      "collapsed_sections": []
    },
    "kernelspec": {
      "name": "python3",
      "display_name": "Python 3"
    },
    "language_info": {
      "name": "python"
    }
  },
  "cells": [
    {
      "cell_type": "markdown",
      "metadata": {
        "id": "oCxJ7Ha8T8IM"
      },
      "source": [
        "# Multinomial Logistic Regression"
      ]
    },
    {
      "cell_type": "markdown",
      "metadata": {
        "id": "4JXWYyx4T_9Q"
      },
      "source": [
        "The total credits in this document are for: [Machine Learning Mastery: Multinomial Logistic Regression](https://machinelearningmastery.com/multinomial-logistic-regression-with-python/)"
      ]
    },
    {
      "cell_type": "markdown",
      "metadata": {
        "id": "s-7TVLN9Uwno"
      },
      "source": [
        "## Concept"
      ]
    },
    {
      "cell_type": "markdown",
      "metadata": {
        "id": "XmoWFWFwUyb8"
      },
      "source": [
        "Multinomial logistic regression is an extension of logistic regression that adds native support for multi-class classification problems. Logistic regression, by default, is limited to two class classification problems. Some extensions like one-vs-rest can allow logistic regression to be used for multi-class classification problems, although they require that the classification problem first be transformed into multiple binary classification problems.  \n",
        "Instead, the multinomial logistic regression algorithm is an extension to the logistic regression model thah involves changing the loss function to cross-entropy loss an d predict probability distribution to a multinomial probability distribution to natively support multi-class classification problems."
      ]
    },
    {
      "cell_type": "markdown",
      "metadata": {
        "id": "8UJgcD0uy-_l"
      },
      "source": [
        "Exercise"
      ]
    },
    {
      "cell_type": "markdown",
      "metadata": {
        "id": "7FCLRHRczBSA"
      },
      "source": [
        "First, we will define a synthetic multi-class classification dataset to use as the basis of the investigation. This is a generic dataset that you can easily replace with your own loaded dataset later.\n",
        "\n",
        "The make_classification() function can be used to generate a dataset with a given number of rows, columns, and classes. In this case, we will generate a dataset with 1,000 rows, 10 input variables or columns, and 3 classes."
      ]
    },
    {
      "cell_type": "code",
      "metadata": {
        "id": "xJRkVIZaTrz-"
      },
      "source": [
        "from collections import Counter\n",
        "from sklearn.datasets import make_classification"
      ],
      "execution_count": 1,
      "outputs": []
    },
    {
      "cell_type": "code",
      "metadata": {
        "colab": {
          "base_uri": "https://localhost:8080/"
        },
        "id": "JZlTd3aKzwwc",
        "outputId": "1014b581-5d3a-4393-d94c-dde6f4b3e663"
      },
      "source": [
        "X, y = make_classification(n_samples=1000, n_features=10, n_informative=5, n_redundant=5, n_classes=3, random_state=1)\n",
        "print(X.shape, y.shape)\n",
        "print(Counter(y))"
      ],
      "execution_count": 2,
      "outputs": [
        {
          "output_type": "stream",
          "text": [
            "(1000, 10) (1000,)\n",
            "Counter({1: 334, 2: 334, 0: 332})\n"
          ],
          "name": "stdout"
        }
      ]
    },
    {
      "cell_type": "code",
      "metadata": {
        "id": "1Bsv1qw123Ao"
      },
      "source": [
        "from sklearn.linear_model import LogisticRegression\n",
        "\n",
        "model = LogisticRegression(multi_class='multinomial', solver='lbfgs')"
      ],
      "execution_count": 4,
      "outputs": []
    },
    {
      "cell_type": "code",
      "metadata": {
        "colab": {
          "base_uri": "https://localhost:8080/"
        },
        "id": "LGLe4mjy3P5E",
        "outputId": "8bc408ed-377a-4817-f513-b345ae3f1644"
      },
      "source": [
        "from numpy import mean, std\n",
        "from sklearn.model_selection import cross_val_score, RepeatedStratifiedKFold\n",
        "\n",
        "# Define the model evaluation procedure\n",
        "cv = RepeatedStratifiedKFold(n_splits=10, n_repeats=3, random_state=1)\n",
        "\n",
        "# Evaluate the model and collect the scores\n",
        "n_scores = cross_val_score(model, X, y, scoring='accuracy', cv=cv, n_jobs=-1)\n",
        "\n",
        "# Report the model performance\n",
        "print('Mean Accuaracy: %.3f (%.3f)' % (mean(n_scores), std(n_scores)))"
      ],
      "execution_count": 14,
      "outputs": [
        {
          "output_type": "stream",
          "text": [
            "Mean Accuaracy: 0.681 (0.042)\n"
          ],
          "name": "stdout"
        }
      ]
    },
    {
      "cell_type": "markdown",
      "metadata": {
        "id": "xjToNDTQ5adC"
      },
      "source": [
        "In this case, we can see that the multinonial logistic regression model with default penalty achieved a mean classification accuaracy of about 68.1% on our synthetic classification dataset"
      ]
    },
    {
      "cell_type": "code",
      "metadata": {
        "colab": {
          "base_uri": "https://localhost:8080/"
        },
        "id": "BT0nreUa4xCk",
        "outputId": "cceaaf87-1242-4914-ec87-8943aad65cc1"
      },
      "source": [
        "# Fit the model on the whole dataset\n",
        "model.fit(X, y)\n",
        "\n",
        "# Define a single row of input data\n",
        "row = [1.89149379, -0.39847585, 1.63856893, 0.01647165, 1.51892395, -3.52651223, 1.80998823, 0.58810926, -0.02542177, -0.52835426]\n",
        "\n",
        "# Predict the class label\n",
        "yhat = model.predict([row])\n",
        "\n",
        "# Summarize the predicted class\n",
        "print('Predicted class: %d' % yhat[0])"
      ],
      "execution_count": 15,
      "outputs": [
        {
          "output_type": "stream",
          "text": [
            "Predicted class: 1\n"
          ],
          "name": "stdout"
        }
      ]
    },
    {
      "cell_type": "markdown",
      "metadata": {
        "id": "gw3nvz-8B8A_"
      },
      "source": [
        "In this case, we can see that the model predicted the class \"1\" for the single row of data.  \n",
        "A benefit of multinomial logistic regression is that it can predict calibrated probabilites across all known class labels in the dataset. This can be achieved by calling the predict_proba() function on the model."
      ]
    },
    {
      "cell_type": "code",
      "metadata": {
        "colab": {
          "base_uri": "https://localhost:8080/"
        },
        "id": "Wzj5H9-0DgZ_",
        "outputId": "fd82e038-5684-4950-cf1e-edc4b65a8028"
      },
      "source": [
        "yhat = model.predict_proba([row])\n",
        "\n",
        "# Summarize the predicted probabilities\n",
        "print('Predicted Probabilities: %s' % yhat[0])"
      ],
      "execution_count": 16,
      "outputs": [
        {
          "output_type": "stream",
          "text": [
            "Predicted Probabilities: [0.16470456 0.50297138 0.33232406]\n"
          ],
          "name": "stdout"
        }
      ]
    },
    {
      "cell_type": "markdown",
      "metadata": {
        "id": "t7x5lcLgGRdb"
      },
      "source": [
        "In this case, we can see that class 1 (e.g. the array index is mapped to the class integer value) has the largest predicted probability with about 0.50."
      ]
    },
    {
      "cell_type": "markdown",
      "metadata": {
        "id": "hY4qVkjsG1dp"
      },
      "source": [
        "# Tune Penalty for Multinomial Logisitic Regression"
      ]
    },
    {
      "cell_type": "markdown",
      "metadata": {
        "id": "uWqNn999G6xg"
      },
      "source": [
        "An important hyperparameter to tune for multinomial logistic regression is the penalty term.\n",
        "\n",
        "This term imposes pressure on the model to seek smaller model weights. This is achieved by adding a weighted sum of the model coefficients to the loss function, encouraging the model to reduce the size of the weights along with the error while fitting the model.\n",
        "\n",
        "A popular type of penalty is the L2 penalty that adds the (weighted) sum of the squared coefficients to the loss function. A weighting of the coefficients can be used that reduces the strength of the penalty from full penalty to a very slight penalty.\n",
        "\n",
        "By default, the LogisticRegression class uses the L2 penalty with a weighting of coefficients set to 1.0. The type of penalty can be set via the “penalty” argument with values of “l1“, “l2“, “elasticnet” (e.g. both), although not all solvers support all penalty types. The weighting of the coefficients in the penalty can be set via the “C” argument.\n",
        "\n",
        "```python\n",
        "LogisticRegression(multi_class='multinomial', solver='lbfgs', penalty='l2', C=1.0)\n",
        "```\n",
        "\n",
        "- C close to 1.0: Light penalty.\n",
        "- C close to 0.0: Strong penalty.  \n",
        "\n",
        "The penalty can be disabled by setting the “penalty” argument to the string “none“.\n",
        "\n",
        "```python\n",
        "LogisticRegression(multi_class='multinomial', solver='lbfgs', penalty='none')\n",
        "```"
      ]
    },
    {
      "cell_type": "markdown",
      "metadata": {
        "id": "VCU8NDo-IwQ0"
      },
      "source": [
        "Now that we are familiar with the penalty, let’s look at how we might explore the effect of different penalty values on the performance of the multinomial logistic regression model.\n",
        "\n",
        "It is common to test penalty values on a log scale in order to quickly discover the scale of penalty that works well for a model. Once found, further tuning at that scale may be beneficial.\n",
        "\n",
        "We will explore the L2 penalty with weighting values in the range from 0.0001 to 1.0 on a log scale, in addition to no penalty or 0.0."
      ]
    },
    {
      "cell_type": "code",
      "metadata": {
        "colab": {
          "base_uri": "https://localhost:8080/",
          "height": 367
        },
        "id": "t0a2o0OCG8Ni",
        "outputId": "92e03047-f4a2-4b25-cd11-fedabe118099"
      },
      "source": [
        "from numpy import mean, std\n",
        "from sklearn.datasets import make_classification\n",
        "from sklearn.model_selection import cross_val_score, RepeatedStratifiedKFold\n",
        "from sklearn.linear_model import LogisticRegression\n",
        "import matplotlib.pyplot as plt\n",
        "\n",
        "\n",
        "def get_dataset():\n",
        "    X, y = make_classification(n_samples=1000, n_features=20, n_informative=15, n_redundant=5, random_state=1, n_classes=3)\n",
        "    return X, y\n",
        "\n",
        "\n",
        "def get_models():\n",
        "    models = dict()\n",
        "    for p in [0.0, 0.0001, 0.001, 0.01, 0.1, 1.0]:\n",
        "        key = '%.4f' % p\n",
        "        if p == 0.0:\n",
        "            models[key] = LogisticRegression(multi_class='multinomial', solver='lbfgs', penalty='none')\n",
        "        else:\n",
        "            models[key] = LogisticRegression(multi_class='multinomial', solver='lbfgs', penalty='l2', C=p)\n",
        "    return models\n",
        "\n",
        "\n",
        "def evaluate_model(model, X, y):\n",
        "    cv = RepeatedStratifiedKFold(n_splits=10, n_repeats=3, random_state=1)\n",
        "    scores = cross_val_score(model, X, y, scoring='accuracy', cv=cv, n_jobs=-1)\n",
        "    return scores\n",
        "\n",
        "\n",
        "X, y = get_dataset()\n",
        "models = get_models()\n",
        "results, names = list(), list()\n",
        "\n",
        "for name, model in models.items():\n",
        "    scores = evaluate_model(model, X, y)\n",
        "    results.append(scores)\n",
        "    names.append(name)\n",
        "    print('>%s %.3f (%.3f)' % (name, mean(scores), std(scores)))\n",
        "\n",
        "plt.boxplot(results, labels=names, showmeans=True)\n",
        "plt.show()"
      ],
      "execution_count": 17,
      "outputs": [
        {
          "output_type": "stream",
          "text": [
            ">0.0000 0.777 (0.037)\n",
            ">0.0001 0.683 (0.049)\n",
            ">0.0010 0.762 (0.044)\n",
            ">0.0100 0.775 (0.040)\n",
            ">0.1000 0.774 (0.038)\n",
            ">1.0000 0.777 (0.037)\n"
          ],
          "name": "stdout"
        },
        {
          "output_type": "display_data",
          "data": {
            "image/png": "[encoded data removed]",
            "text/plain": [
              "<Figure size 432x288 with 1 Axes>"
            ]
          },
          "metadata": {
            "tags": [],
            "needs_background": "light"
          }
        }
      ]
    },
    {
      "cell_type": "markdown",
      "metadata": {
        "id": "BmUD8n-_OBOc"
      },
      "source": [
        "In this case, we can see that a C value of 1.0 has the best score of about 77.7%, which is the same using no penalty that achivieves the same score.  \n",
        "\n",
        "A box and whisker plot is created for the accuracy scores for each configuration and all plots are shown side by side on a figure on the same scale for direct comparison.\n",
        "\n",
        "In this case, we can see that the larger penalty we use on this dataset (i.e. the smaller the C value), the worse the performance of the model."
      ]
    }
  ]
}