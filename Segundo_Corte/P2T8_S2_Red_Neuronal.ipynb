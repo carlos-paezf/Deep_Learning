{
  "nbformat": 4,
  "nbformat_minor": 0,
  "metadata": {
    "colab": {
      "name": "P2T8_S2_Red_Neuronal.ipynb",
      "provenance": [],
      "collapsed_sections": []
    },
    "kernelspec": {
      "name": "python3",
      "display_name": "Python 3"
    },
    "language_info": {
      "name": "python"
    }
  },
  "cells": [
    {
      "cell_type": "markdown",
      "metadata": {
        "id": "zOjrerUsNbWS"
      },
      "source": [
        "# Creando una segunda Red Neuronal"
      ]
    },
    {
      "cell_type": "markdown",
      "metadata": {
        "id": "YawqYP0ANjZX"
      },
      "source": [
        "En este caso, necesitamos 4 métodos de la librería NumPy:\n",
        "\n",
        "|Método|Uso|\n",
        "|------|---|\n",
        "|exp|Función Exponencial|\n",
        "|array|Creación y manipulación de matrices|\n",
        "|dot|Producto punto de matrices|\n",
        "|random|Proporciona números aleatorios|"
      ]
    },
    {
      "cell_type": "code",
      "metadata": {
        "id": "7WOiuw8VcBCM"
      },
      "source": [
        "from numpy import exp, array, dot, random"
      ],
      "execution_count": 1,
      "outputs": []
    },
    {
      "cell_type": "markdown",
      "metadata": {
        "id": "l6u_NNZaRtln"
      },
      "source": [
        "Vamos a crear una red neuronal simple en forma de clase. Lo primero es tener en cuenta que el seed es el generador de números aleatorios, con una raíz a fin de generar los mismos números aleatorios en cada proceso. Posteriormente modelamos una sola neurona, con 3 conexiones de entrada y una conexión de salida. Asignamos los pesos aleatorios a una matriz de 3x1, con valores en el rango de -1 a 1.  \n",
        "\n",
        "La función Sigmoid describe la curva en forma de S. Se pasa la suma ponderada de las entradas a través de esta función para normalizarlos entre 0 y 1. La función Sigmoid tiene la siguiente formula:\n",
        "\n",
        "$$ \\sigma = \\frac{1}{1+e^{-x}} $$  \n",
        "\n",
        "La derivada de la función sigmoid es representada con el gradiente de la función, e indica la confianza que tenemos en el peso existente. \n",
        "\n",
        "$$ \\sigma' = x * (1 - x) $$  \n",
        "\n",
        "La función train nos ayuda a entrenar a la red neuronal a través de un proceso de prueba y error. Se realiza un ajuste de los pesos sinápticos cada vez. Durante el ciclo for pasamos el conjunto de entranamiento a través de nuestra red neuronal (una sola neurona). Luego se calcula el error mediante la diferencia entre el resultado deseado y el resultado obtenido. Posteriormente, se multiplica el error por la entrada y nuevamente por el gradiente de la curva Sigmoid, esto significa que los pesos menos confiables se estan ajustando más, por lo tanto las entradas que son 0 no causan cambios en los pesos. Y por último, dentro del ciclo, se hace un ajuste de los pesos. \n",
        "\n",
        "La función de think hace que se pasen las entrada a tráves de nuestra neurona. "
      ]
    },
    {
      "cell_type": "code",
      "metadata": {
        "id": "89AFkIQcOS2e"
      },
      "source": [
        "class NeuralNetwork():\n",
        "\n",
        "    def __init__(self):\n",
        "        random.seed(1)\n",
        "        self.synaptic_weights = 2 * random.random((3, 1)) - 1\n",
        "    \n",
        "\n",
        "    def __sigmoid(self, x):\n",
        "        return 1 / (1 + exp(-x))\n",
        "    \n",
        "\n",
        "    def __sigmoid_derivate(self, x):\n",
        "        return x * (1 - x)\n",
        "\n",
        "\n",
        "    def train (self, training_set_inputs, training_set_outputs, number_of_training_iterations):\n",
        "        for iteration in range(number_of_training_iterations):\n",
        "            output = self.think(training_set_inputs)\n",
        "            error = training_set_outputs - output\n",
        "            adjustment = dot(training_set_inputs.T, error * self.__sigmoid_derivate(output))\n",
        "            self.synaptic_weights += adjustment\n",
        "\n",
        "\n",
        "    def think(self, inputs):\n",
        "        return self.__sigmoid(dot(inputs, self.synaptic_weights))"
      ],
      "execution_count": 5,
      "outputs": []
    },
    {
      "cell_type": "markdown",
      "metadata": {
        "id": "8gtQlnWybUEU"
      },
      "source": [
        "Lo primero es iniciar la neurona. Tenemos 4 ejemplos y cada uno consiste en 3 valores de entrada y un valor de salida. Se entrena la red neuronal utilizando el conjunto de entrenamiento, esto se realiza 10000 veces y se realiza un ajuste pequeño cada vez.  \n",
        "\n",
        "Ya por último, se ha ce la prueba de la red neuronal con una nueva situación. "
      ]
    },
    {
      "cell_type": "code",
      "metadata": {
        "colab": {
          "base_uri": "https://localhost:8080/"
        },
        "id": "WXmAGWAAZSMY",
        "outputId": "d2418d08-96ce-46da-a0f5-ad776b67cf53"
      },
      "source": [
        "if __name__ == '__main__':\n",
        "    neural_network = NeuralNetwork()\n",
        "    print('Random starting synaptic weights: ')\n",
        "    print(neural_network.synaptic_weights)\n",
        "\n",
        "    training_set_inputs = array([[0, 0, 1], [1, 1, 1], [1, 0, 1], [0, 1, 1]])\n",
        "    training_set_outputs = array([[0, 1, 1, 0]]).T\n",
        "\n",
        "    neural_network.train(training_set_inputs, training_set_outputs, 10000)\n",
        "\n",
        "    print('New synaptic weights after training: ')\n",
        "    print(neural_network.synaptic_weights)\n",
        "\n",
        "    print('Considering new situation [1, 0, 0] -> ?: ')\n",
        "    print(neural_network.think(array([1, 0, 0])))"
      ],
      "execution_count": 13,
      "outputs": [
        {
          "output_type": "stream",
          "text": [
            "Random starting synaptic weights: \n",
            "[[-0.16595599]\n",
            " [ 0.44064899]\n",
            " [-0.99977125]]\n",
            "New synaptic weights after training: \n",
            "[[ 9.67299303]\n",
            " [-0.2078435 ]\n",
            " [-4.62963669]]\n",
            "Considering new situation [1, 0, 0] -> ?: \n",
            "[0.99993704]\n"
          ],
          "name": "stdout"
        }
      ]
    }
  ]
}