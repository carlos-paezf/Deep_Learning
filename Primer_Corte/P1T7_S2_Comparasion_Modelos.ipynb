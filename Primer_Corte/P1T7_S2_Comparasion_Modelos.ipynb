{
  "nbformat": 4,
  "nbformat_minor": 0,
  "metadata": {
    "colab": {
      "name": "P1T7_S2_Comparasion_Modelos.ipynb",
      "provenance": [],
      "collapsed_sections": [
        "tt7jY5ny6Gxc"
      ],
      "toc_visible": true
    },
    "kernelspec": {
      "name": "python3",
      "display_name": "Python 3"
    }
  },
  "cells": [
    {
      "cell_type": "markdown",
      "metadata": {
        "id": "pTrZzGE85l_v"
      },
      "source": [
        "# Comparación entre algunos modelos tradicionales de Maching Learning, aplicados a algunos datasets"
      ]
    },
    {
      "cell_type": "code",
      "metadata": {
        "id": "M3Zv7UnF5wdF"
      },
      "source": [
        "import numpy as np\r\n",
        "import pandas as pd\r\n",
        "import matplotlib.pyplot as plt\r\n",
        "import seaborn as sns\r\n",
        "%matplotlib inline"
      ],
      "execution_count": 1,
      "outputs": []
    },
    {
      "cell_type": "code",
      "metadata": {
        "id": "c2I7LIrV6jgO"
      },
      "source": [
        "from sklearn.model_selection import train_test_split\r\n",
        "from sklearn.metrics import accuracy_score\r\n",
        "from sklearn.metrics import r2_score\r\n",
        "\r\n",
        "from sklearn.linear_model import LinearRegression\r\n",
        "from sklearn.linear_model import LogisticRegression\r\n",
        "from sklearn.tree import DecisionTreeClassifier\r\n",
        "from sklearn.tree import DecisionTreeRegressor\r\n",
        "from sklearn.svm import SVC"
      ],
      "execution_count": 2,
      "outputs": []
    },
    {
      "cell_type": "markdown",
      "metadata": {
        "id": "POmf9yAx5sfJ"
      },
      "source": [
        "## Dataset Titanic"
      ]
    },
    {
      "cell_type": "markdown",
      "metadata": {
        "id": "sLZ1m-qlGfP1"
      },
      "source": [
        "### Conocer y normalizar los datos"
      ]
    },
    {
      "cell_type": "code",
      "metadata": {
        "id": "Xg_e6_IT5eI_"
      },
      "source": [
        "titanic = sns.load_dataset('titanic')"
      ],
      "execution_count": 3,
      "outputs": []
    },
    {
      "cell_type": "code",
      "metadata": {
        "colab": {
          "base_uri": "https://localhost:8080/"
        },
        "id": "JgK-jojREArN",
        "outputId": "1af4db6d-27b6-4239-e0d1-ca58752652c0"
      },
      "source": [
        "titanic.isnull().sum()"
      ],
      "execution_count": 4,
      "outputs": [
        {
          "output_type": "execute_result",
          "data": {
            "text/plain": [
              "survived         0\n",
              "pclass           0\n",
              "sex              0\n",
              "age            177\n",
              "sibsp            0\n",
              "parch            0\n",
              "fare             0\n",
              "embarked         2\n",
              "class            0\n",
              "who              0\n",
              "adult_male       0\n",
              "deck           688\n",
              "embark_town      2\n",
              "alive            0\n",
              "alone            0\n",
              "dtype: int64"
            ]
          },
          "metadata": {
            "tags": []
          },
          "execution_count": 4
        }
      ]
    },
    {
      "cell_type": "code",
      "metadata": {
        "id": "OzHa7-M4Dlzz"
      },
      "source": [
        "def impute_age(cols):\r\n",
        "  age = cols[0]\r\n",
        "  pclass = cols[1]\r\n",
        " \r\n",
        "  if pd.isnull(age):\r\n",
        "    if pclass == 1:\r\n",
        "      return titanic[titanic['pclass']==1]['age'].mean()\r\n",
        "    elif pclass == 2:\r\n",
        "      return titanic[titanic['pclass']==2]['age'].mean()\r\n",
        "    elif pclass == 3:\r\n",
        "      return titanic[titanic['pclass']==3]['age'].mean()\r\n",
        "  else:\r\n",
        "    return age"
      ],
      "execution_count": 5,
      "outputs": []
    },
    {
      "cell_type": "code",
      "metadata": {
        "id": "W_Sb0bnTDoy_"
      },
      "source": [
        "titanic['age'] = titanic[['age', 'pclass']].apply(impute_age, axis=1)"
      ],
      "execution_count": 6,
      "outputs": []
    },
    {
      "cell_type": "code",
      "metadata": {
        "colab": {
          "base_uri": "https://localhost:8080/",
          "height": 286
        },
        "id": "cKWcsN2LDsPU",
        "outputId": "d500821e-7fc7-4c47-a4fa-ad62411a449b"
      },
      "source": [
        "titanic.drop(['class','adult_male','who','embarked','deck', 'embark_town', 'alive', 'alone'], axis=1,inplace=True)\r\n",
        "titanic.dropna(inplace=True)\r\n",
        "sns.heatmap(titanic.isnull(), cbar=False, cmap=\"viridis\")"
      ],
      "execution_count": 7,
      "outputs": [
        {
          "output_type": "execute_result",
          "data": {
            "text/plain": [
              "<matplotlib.axes._subplots.AxesSubplot at 0x7ffa454d1550>"
            ]
          },
          "metadata": {
            "tags": []
          },
          "execution_count": 7
        },
        {
          "output_type": "display_data",
          "data": {
            "image/png": "[encoded data removed]",
            "text/plain": [
              "<Figure size 432x288 with 1 Axes>"
            ]
          },
          "metadata": {
            "tags": [],
            "needs_background": "light"
          }
        }
      ]
    },
    {
      "cell_type": "code",
      "metadata": {
        "id": "MPtrTZD7DzNO"
      },
      "source": [
        "from sklearn import preprocessing\r\n",
        "\r\n",
        "label_encoder = preprocessing.LabelEncoder()\r\n",
        "titanic['sex'] = label_encoder.fit_transform(titanic['sex'])"
      ],
      "execution_count": 8,
      "outputs": []
    },
    {
      "cell_type": "code",
      "metadata": {
        "id": "5mN3anvaFlQA"
      },
      "source": [
        "titanic['age'] = titanic['age'].astype('int')\r\n",
        "titanic['fare'] = titanic['fare'].astype('int')"
      ],
      "execution_count": 9,
      "outputs": []
    },
    {
      "cell_type": "code",
      "metadata": {
        "colab": {
          "base_uri": "https://localhost:8080/"
        },
        "id": "uDxTf6qWD0SY",
        "outputId": "b81b4c48-e40f-489e-d912-adbf609f5dfd"
      },
      "source": [
        "titanic.info()"
      ],
      "execution_count": 10,
      "outputs": [
        {
          "output_type": "stream",
          "text": [
            "<class 'pandas.core.frame.DataFrame'>\n",
            "Int64Index: 891 entries, 0 to 890\n",
            "Data columns (total 7 columns):\n",
            " #   Column    Non-Null Count  Dtype\n",
            "---  ------    --------------  -----\n",
            " 0   survived  891 non-null    int64\n",
            " 1   pclass    891 non-null    int64\n",
            " 2   sex       891 non-null    int64\n",
            " 3   age       891 non-null    int64\n",
            " 4   sibsp     891 non-null    int64\n",
            " 5   parch     891 non-null    int64\n",
            " 6   fare      891 non-null    int64\n",
            "dtypes: int64(7)\n",
            "memory usage: 55.7 KB\n"
          ],
          "name": "stdout"
        }
      ]
    },
    {
      "cell_type": "markdown",
      "metadata": {
        "id": "7CRTzYtmGmF9"
      },
      "source": [
        "### Separar la data"
      ]
    },
    {
      "cell_type": "code",
      "metadata": {
        "id": "vuzqkQLiF3Q-"
      },
      "source": [
        "X = titanic.drop('survived', axis=1)\r\n",
        "y = titanic['survived']\r\n",
        "\r\n",
        "X_train, X_test, y_train, y_test = train_test_split(X, y, test_size=0.33, random_state=42)"
      ],
      "execution_count": 11,
      "outputs": []
    },
    {
      "cell_type": "markdown",
      "metadata": {
        "id": "UYO2hos2x6e8"
      },
      "source": [
        "### Aplicación de Linear Regression: ***45.52%***"
      ]
    },
    {
      "cell_type": "code",
      "metadata": {
        "colab": {
          "base_uri": "https://localhost:8080/"
        },
        "id": "-0IdYNaQyBNX",
        "outputId": "f81094fd-9d02-45b9-9e76-85ac26a76e04"
      },
      "source": [
        "linear = LinearRegression()\r\n",
        "linear.fit(X_train, y_train)"
      ],
      "execution_count": 12,
      "outputs": [
        {
          "output_type": "execute_result",
          "data": {
            "text/plain": [
              "LinearRegression(copy_X=True, fit_intercept=True, n_jobs=None, normalize=False)"
            ]
          },
          "metadata": {
            "tags": []
          },
          "execution_count": 12
        }
      ]
    },
    {
      "cell_type": "code",
      "metadata": {
        "colab": {
          "base_uri": "https://localhost:8080/"
        },
        "id": "AcvdKluDyUdC",
        "outputId": "f2cf4604-43d0-4c4d-a457-288eee373214"
      },
      "source": [
        "y_pred = linear.predict(X_test)\r\n",
        "accuracy = r2_score(y_test, y_pred)\r\n",
        "print('Accuracy Linear Regression: '+ str(accuracy*100))"
      ],
      "execution_count": 13,
      "outputs": [
        {
          "output_type": "stream",
          "text": [
            "Accuracy Linear Regression: 45.52770739807052\n"
          ],
          "name": "stdout"
        }
      ]
    },
    {
      "cell_type": "markdown",
      "metadata": {
        "id": "_FX_GrkBG5X8"
      },
      "source": [
        "### Aplicación de Logistic Regression: ***82.71%***"
      ]
    },
    {
      "cell_type": "code",
      "metadata": {
        "colab": {
          "base_uri": "https://localhost:8080/"
        },
        "id": "Q9kKVItiG3t7",
        "outputId": "2309e4f0-907e-42fc-d529-5e3e5d1c9381"
      },
      "source": [
        "logistic = LogisticRegression(solver='lbfgs', max_iter=400)\r\n",
        "logistic.fit(X_train, y_train)"
      ],
      "execution_count": 14,
      "outputs": [
        {
          "output_type": "execute_result",
          "data": {
            "text/plain": [
              "LogisticRegression(C=1.0, class_weight=None, dual=False, fit_intercept=True,\n",
              "                   intercept_scaling=1, l1_ratio=None, max_iter=400,\n",
              "                   multi_class='auto', n_jobs=None, penalty='l2',\n",
              "                   random_state=None, solver='lbfgs', tol=0.0001, verbose=0,\n",
              "                   warm_start=False)"
            ]
          },
          "metadata": {
            "tags": []
          },
          "execution_count": 14
        }
      ]
    },
    {
      "cell_type": "code",
      "metadata": {
        "colab": {
          "base_uri": "https://localhost:8080/"
        },
        "id": "MqZzax9XHKjZ",
        "outputId": "8c8803e3-339d-4a1d-f5de-70d3a3d78584"
      },
      "source": [
        "y_pred = logistic.predict(X_test)\r\n",
        "accuracy = accuracy_score(y_test, y_pred) \r\n",
        "print('Accuracy Logistic Regression: '+ str(accuracy*100))"
      ],
      "execution_count": 15,
      "outputs": [
        {
          "output_type": "stream",
          "text": [
            "Accuracy Logistic Regression: 82.71186440677965\n"
          ],
          "name": "stdout"
        }
      ]
    },
    {
      "cell_type": "markdown",
      "metadata": {
        "id": "Nzf1m9tJpF6a"
      },
      "source": [
        "### Aplicación de Decision Tree Classifier: ***82.37%***"
      ]
    },
    {
      "cell_type": "code",
      "metadata": {
        "id": "_V9l2RIvpfsU"
      },
      "source": [
        "max_depth_lista = list(range(1, 6))\r\n",
        "\r\n",
        "accuracy = []\r\n",
        "\r\n",
        "for depth in max_depth_lista:\r\n",
        "  arbol = DecisionTreeClassifier(max_depth=depth, random_state=0)\r\n",
        "  arbol.fit(X_train, y_train)\r\n",
        "  score = arbol.score(X_test, y_test)\r\n",
        "  accuracy.append(score)"
      ],
      "execution_count": 16,
      "outputs": []
    },
    {
      "cell_type": "code",
      "metadata": {
        "colab": {
          "base_uri": "https://localhost:8080/",
          "height": 279
        },
        "id": "KjRdOcuJp0Yb",
        "outputId": "c94f8555-fe74-4fbf-f381-abd441bbe03a"
      },
      "source": [
        "plt.plot(max_depth_lista, accuracy)\r\n",
        "plt.ylabel('accuracy')\r\n",
        "plt.xlabel('depth')\r\n",
        "plt.grid(True)\r\n",
        "plt.show()"
      ],
      "execution_count": 17,
      "outputs": [
        {
          "output_type": "display_data",
          "data": {
            "image/png": "[encoded data removed]",
            "text/plain": [
              "<Figure size 432x288 with 1 Axes>"
            ]
          },
          "metadata": {
            "tags": [],
            "needs_background": "light"
          }
        }
      ]
    },
    {
      "cell_type": "code",
      "metadata": {
        "colab": {
          "base_uri": "https://localhost:8080/"
        },
        "id": "OsqGdvomp4mM",
        "outputId": "63f66b46-8ff5-4937-b167-1e9d2853c767"
      },
      "source": [
        "arbol_classifier = DecisionTreeClassifier(max_depth=4, random_state=0)\r\n",
        "arbol_classifier.fit(X_train, y_train)"
      ],
      "execution_count": 18,
      "outputs": [
        {
          "output_type": "execute_result",
          "data": {
            "text/plain": [
              "DecisionTreeClassifier(ccp_alpha=0.0, class_weight=None, criterion='gini',\n",
              "                       max_depth=4, max_features=None, max_leaf_nodes=None,\n",
              "                       min_impurity_decrease=0.0, min_impurity_split=None,\n",
              "                       min_samples_leaf=1, min_samples_split=2,\n",
              "                       min_weight_fraction_leaf=0.0, presort='deprecated',\n",
              "                       random_state=0, splitter='best')"
            ]
          },
          "metadata": {
            "tags": []
          },
          "execution_count": 18
        }
      ]
    },
    {
      "cell_type": "code",
      "metadata": {
        "colab": {
          "base_uri": "https://localhost:8080/"
        },
        "id": "nLBvZOWcp97i",
        "outputId": "ab7a24e9-2907-40d2-9514-ada1601f59ed"
      },
      "source": [
        "y_pred = arbol_classifier.predict(X_test) \r\n",
        "accuracy = accuracy_score(y_test, y_pred) \r\n",
        "print('Accuracy Decision Tree Classifier: '+ str(accuracy*100))"
      ],
      "execution_count": 19,
      "outputs": [
        {
          "output_type": "stream",
          "text": [
            "Accuracy Decision Tree Classifier: 82.37288135593221\n"
          ],
          "name": "stdout"
        }
      ]
    },
    {
      "cell_type": "markdown",
      "metadata": {
        "id": "kiC9tHsK8mMT"
      },
      "source": [
        "### Aplicación de Decision Tree Regressor: ***11.51%***"
      ]
    },
    {
      "cell_type": "code",
      "metadata": {
        "colab": {
          "base_uri": "https://localhost:8080/"
        },
        "id": "OaPz5BSq8mMU",
        "outputId": "c3f9f2bb-191a-4317-d771-f4f9916a288b"
      },
      "source": [
        "arbol_regressor = DecisionTreeRegressor()\r\n",
        "arbol_regressor.fit(X_train, y_train)"
      ],
      "execution_count": 20,
      "outputs": [
        {
          "output_type": "execute_result",
          "data": {
            "text/plain": [
              "DecisionTreeRegressor(ccp_alpha=0.0, criterion='mse', max_depth=None,\n",
              "                      max_features=None, max_leaf_nodes=None,\n",
              "                      min_impurity_decrease=0.0, min_impurity_split=None,\n",
              "                      min_samples_leaf=1, min_samples_split=2,\n",
              "                      min_weight_fraction_leaf=0.0, presort='deprecated',\n",
              "                      random_state=None, splitter='best')"
            ]
          },
          "metadata": {
            "tags": []
          },
          "execution_count": 20
        }
      ]
    },
    {
      "cell_type": "code",
      "metadata": {
        "colab": {
          "base_uri": "https://localhost:8080/"
        },
        "id": "ej4L2lH48mMV",
        "outputId": "ada5b464-b9f1-49c0-ed91-ff6ed17f2621"
      },
      "source": [
        "y_pred = arbol_regressor.predict(X_test) \r\n",
        "accuracy = r2_score(y_test, y_pred)\r\n",
        "print('Accuracy Decicion Tree Regressor: '+ str(accuracy*100))"
      ],
      "execution_count": 22,
      "outputs": [
        {
          "output_type": "stream",
          "text": [
            "Accuracy Decicion Tree Regressor: 11.519638847341563\n"
          ],
          "name": "stdout"
        }
      ]
    },
    {
      "cell_type": "markdown",
      "metadata": {
        "id": "IaV9xyTPGqZj"
      },
      "source": [
        "### Aplicación de Support Vector Machines: ***79.66%***"
      ]
    },
    {
      "cell_type": "code",
      "metadata": {
        "colab": {
          "base_uri": "https://localhost:8080/"
        },
        "id": "GDgjS9GKGR3P",
        "outputId": "ae95f143-99d1-4ac9-97c6-a4a309487f25"
      },
      "source": [
        "svm = SVC(kernel='linear')\r\n",
        "svm.fit(X_train, y_train)"
      ],
      "execution_count": 23,
      "outputs": [
        {
          "output_type": "execute_result",
          "data": {
            "text/plain": [
              "SVC(C=1.0, break_ties=False, cache_size=200, class_weight=None, coef0=0.0,\n",
              "    decision_function_shape='ovr', degree=3, gamma='scale', kernel='linear',\n",
              "    max_iter=-1, probability=False, random_state=None, shrinking=True,\n",
              "    tol=0.001, verbose=False)"
            ]
          },
          "metadata": {
            "tags": []
          },
          "execution_count": 23
        }
      ]
    },
    {
      "cell_type": "code",
      "metadata": {
        "colab": {
          "base_uri": "https://localhost:8080/"
        },
        "id": "uHGC_ZNUGUyh",
        "outputId": "866b62d7-72ff-4a6c-ff54-18e3fe36dc58"
      },
      "source": [
        "y_pred = svm.predict(X_test) \r\n",
        "accuracy = accuracy_score(y_test, y_pred) \r\n",
        "print('Accuracy Support Vector Machine: '+ str(accuracy*100))"
      ],
      "execution_count": 24,
      "outputs": [
        {
          "output_type": "stream",
          "text": [
            "Accuracy Support Vector Machine: 79.66101694915254\n"
          ],
          "name": "stdout"
        }
      ]
    },
    {
      "cell_type": "markdown",
      "metadata": {
        "id": "tt7jY5ny6Gxc"
      },
      "source": [
        "## Dataset Flor Iris"
      ]
    },
    {
      "cell_type": "markdown",
      "metadata": {
        "id": "-tvFjeELtHZP"
      },
      "source": [
        "### Conocer y normalizar los datos"
      ]
    },
    {
      "cell_type": "code",
      "metadata": {
        "id": "0X0LDlSDrN-s"
      },
      "source": [
        "from sklearn.datasets import load_iris\r\n",
        "\r\n",
        "data = load_iris()"
      ],
      "execution_count": 25,
      "outputs": []
    },
    {
      "cell_type": "code",
      "metadata": {
        "id": "U3MXHY8qrdSQ"
      },
      "source": [
        "iris = pd.DataFrame(data.data, columns=data.feature_names)\r\n",
        "iris['target'] = data.target"
      ],
      "execution_count": 26,
      "outputs": []
    },
    {
      "cell_type": "code",
      "metadata": {
        "colab": {
          "base_uri": "https://localhost:8080/"
        },
        "id": "VsX3Vzo9sPm-",
        "outputId": "902f6107-b26c-4bec-e21e-b50fad109cdd"
      },
      "source": [
        "iris.info()"
      ],
      "execution_count": 27,
      "outputs": [
        {
          "output_type": "stream",
          "text": [
            "<class 'pandas.core.frame.DataFrame'>\n",
            "RangeIndex: 150 entries, 0 to 149\n",
            "Data columns (total 5 columns):\n",
            " #   Column             Non-Null Count  Dtype  \n",
            "---  ------             --------------  -----  \n",
            " 0   sepal length (cm)  150 non-null    float64\n",
            " 1   sepal width (cm)   150 non-null    float64\n",
            " 2   petal length (cm)  150 non-null    float64\n",
            " 3   petal width (cm)   150 non-null    float64\n",
            " 4   target             150 non-null    int64  \n",
            "dtypes: float64(4), int64(1)\n",
            "memory usage: 6.0 KB\n"
          ],
          "name": "stdout"
        }
      ]
    },
    {
      "cell_type": "markdown",
      "metadata": {
        "id": "rGfwYQmPtNRM"
      },
      "source": [
        "### Separar la data"
      ]
    },
    {
      "cell_type": "code",
      "metadata": {
        "id": "k78bzY0VtLVy"
      },
      "source": [
        "X = iris[data.feature_names]\r\n",
        "y = iris['target']\r\n",
        "\r\n",
        "X_train, X_test, y_train, y_test = train_test_split(X, y, random_state=42)"
      ],
      "execution_count": 28,
      "outputs": []
    },
    {
      "cell_type": "markdown",
      "metadata": {
        "id": "qG1qaMk80yxP"
      },
      "source": [
        "### Aplicación de Linear Regression: ***94.87%***"
      ]
    },
    {
      "cell_type": "code",
      "metadata": {
        "colab": {
          "base_uri": "https://localhost:8080/"
        },
        "id": "s8qPlJ7J0yxS",
        "outputId": "a013aa71-2df1-4b04-cc1b-178897497b39"
      },
      "source": [
        "linear = LinearRegression()\r\n",
        "linear.fit(X_train, y_train)"
      ],
      "execution_count": 29,
      "outputs": [
        {
          "output_type": "execute_result",
          "data": {
            "text/plain": [
              "LinearRegression(copy_X=True, fit_intercept=True, n_jobs=None, normalize=False)"
            ]
          },
          "metadata": {
            "tags": []
          },
          "execution_count": 29
        }
      ]
    },
    {
      "cell_type": "code",
      "metadata": {
        "colab": {
          "base_uri": "https://localhost:8080/"
        },
        "id": "iDQPKkMk0yxU",
        "outputId": "6edc0bdf-1139-4eee-d71d-ccfe32fdf514"
      },
      "source": [
        "y_pred = linear.predict(X_test)\r\n",
        "accuracy = r2_score(y_test, y_pred)\r\n",
        "print('Accuracy Linear Regression: '+ str(accuracy*100))"
      ],
      "execution_count": 30,
      "outputs": [
        {
          "output_type": "stream",
          "text": [
            "Accuracy Linear Regression: 94.87283360348984\n"
          ],
          "name": "stdout"
        }
      ]
    },
    {
      "cell_type": "markdown",
      "metadata": {
        "id": "A7iLVR45t9OI"
      },
      "source": [
        "### Aplicación de Logistic Regression: ***100%***"
      ]
    },
    {
      "cell_type": "code",
      "metadata": {
        "colab": {
          "base_uri": "https://localhost:8080/"
        },
        "id": "jfNNIrR1uT53",
        "outputId": "bb6d1a2c-6659-4203-a9dc-9211801fcfde"
      },
      "source": [
        "lregression = LogisticRegression(solver='lbfgs', max_iter=400)\r\n",
        "lregression.fit(X_train, y_train)"
      ],
      "execution_count": 31,
      "outputs": [
        {
          "output_type": "execute_result",
          "data": {
            "text/plain": [
              "LogisticRegression(C=1.0, class_weight=None, dual=False, fit_intercept=True,\n",
              "                   intercept_scaling=1, l1_ratio=None, max_iter=400,\n",
              "                   multi_class='auto', n_jobs=None, penalty='l2',\n",
              "                   random_state=None, solver='lbfgs', tol=0.0001, verbose=0,\n",
              "                   warm_start=False)"
            ]
          },
          "metadata": {
            "tags": []
          },
          "execution_count": 31
        }
      ]
    },
    {
      "cell_type": "code",
      "metadata": {
        "colab": {
          "base_uri": "https://localhost:8080/"
        },
        "id": "zQCJYBa9uT6G",
        "outputId": "16a90190-3e83-4603-eb88-d86f066cc931"
      },
      "source": [
        "y_pred = lregression.predict(X_test)\r\n",
        "accuracy = accuracy_score(y_test, y_pred) \r\n",
        "print('Accuracy Logistic Regression: '+ str(accuracy*100))"
      ],
      "execution_count": 32,
      "outputs": [
        {
          "output_type": "stream",
          "text": [
            "Accuracy Logistic Regression: 100.0\n"
          ],
          "name": "stdout"
        }
      ]
    },
    {
      "cell_type": "markdown",
      "metadata": {
        "id": "NXjYv_oUuFSR"
      },
      "source": [
        "### Aplicación de Decision Tree Classifier: ***100%***"
      ]
    },
    {
      "cell_type": "code",
      "metadata": {
        "id": "hx1xudinu9OJ"
      },
      "source": [
        "max_depth_lista = list(range(1, 6))\r\n",
        "\r\n",
        "accuracy = []\r\n",
        "\r\n",
        "for depth in max_depth_lista:\r\n",
        "  arbol = DecisionTreeClassifier(max_depth=depth, random_state=0)\r\n",
        "  arbol.fit(X_train, y_train)\r\n",
        "  score = arbol.score(X_test, y_test)\r\n",
        "  accuracy.append(score)"
      ],
      "execution_count": 33,
      "outputs": []
    },
    {
      "cell_type": "code",
      "metadata": {
        "colab": {
          "base_uri": "https://localhost:8080/",
          "height": 0
        },
        "id": "jJRQ50zyu9Og",
        "outputId": "c43208f0-909b-43a9-d024-15d8e70649fa"
      },
      "source": [
        "plt.plot(max_depth_lista, accuracy)\r\n",
        "plt.ylabel('accuracy')\r\n",
        "plt.xlabel('depth')\r\n",
        "plt.grid(True)\r\n",
        "plt.show()"
      ],
      "execution_count": 34,
      "outputs": [
        {
          "output_type": "display_data",
          "data": {
            "image/png": "[encoded data removed]",
            "text/plain": [
              "<Figure size 432x288 with 1 Axes>"
            ]
          },
          "metadata": {
            "tags": [],
            "needs_background": "light"
          }
        }
      ]
    },
    {
      "cell_type": "code",
      "metadata": {
        "colab": {
          "base_uri": "https://localhost:8080/"
        },
        "id": "OVMsUaeku9Oh",
        "outputId": "c988c076-f76c-4d38-8c26-9e3464940de7"
      },
      "source": [
        "arbol_classifier = DecisionTreeClassifier(max_depth=3, random_state=0)\r\n",
        "arbol_classifier.fit(X_train, y_train)"
      ],
      "execution_count": 35,
      "outputs": [
        {
          "output_type": "execute_result",
          "data": {
            "text/plain": [
              "DecisionTreeClassifier(ccp_alpha=0.0, class_weight=None, criterion='gini',\n",
              "                       max_depth=3, max_features=None, max_leaf_nodes=None,\n",
              "                       min_impurity_decrease=0.0, min_impurity_split=None,\n",
              "                       min_samples_leaf=1, min_samples_split=2,\n",
              "                       min_weight_fraction_leaf=0.0, presort='deprecated',\n",
              "                       random_state=0, splitter='best')"
            ]
          },
          "metadata": {
            "tags": []
          },
          "execution_count": 35
        }
      ]
    },
    {
      "cell_type": "code",
      "metadata": {
        "colab": {
          "base_uri": "https://localhost:8080/"
        },
        "id": "vsWpkUAcu9Oh",
        "outputId": "001d52de-fd57-4442-f7b0-7691565f2e2e"
      },
      "source": [
        "y_pred = arbol_classifier.predict(X_test) \r\n",
        "accuracy = accuracy_score(y_test, y_pred) \r\n",
        "print('Accuracy Decision Tree Classifier: '+ str(accuracy*100))"
      ],
      "execution_count": 36,
      "outputs": [
        {
          "output_type": "stream",
          "text": [
            "Accuracy Decision Tree Classifier: 100.0\n"
          ],
          "name": "stdout"
        }
      ]
    },
    {
      "cell_type": "markdown",
      "metadata": {
        "id": "bIezkZ_77H6X"
      },
      "source": [
        "### Aplicación de Decision Tree Regressor: ***100%***"
      ]
    },
    {
      "cell_type": "code",
      "metadata": {
        "colab": {
          "base_uri": "https://localhost:8080/"
        },
        "id": "jvmr7-n27qw3",
        "outputId": "845123c1-85b8-41f2-8584-bc21a7a6b9f3"
      },
      "source": [
        "arbol_regressor = DecisionTreeRegressor()\r\n",
        "arbol_regressor.fit(X_train, y_train)"
      ],
      "execution_count": 37,
      "outputs": [
        {
          "output_type": "execute_result",
          "data": {
            "text/plain": [
              "DecisionTreeRegressor(ccp_alpha=0.0, criterion='mse', max_depth=None,\n",
              "                      max_features=None, max_leaf_nodes=None,\n",
              "                      min_impurity_decrease=0.0, min_impurity_split=None,\n",
              "                      min_samples_leaf=1, min_samples_split=2,\n",
              "                      min_weight_fraction_leaf=0.0, presort='deprecated',\n",
              "                      random_state=None, splitter='best')"
            ]
          },
          "metadata": {
            "tags": []
          },
          "execution_count": 37
        }
      ]
    },
    {
      "cell_type": "code",
      "metadata": {
        "colab": {
          "base_uri": "https://localhost:8080/"
        },
        "id": "Gr5NWPfs7-PC",
        "outputId": "b544b3f9-c002-4158-f6c0-6d776d7e3759"
      },
      "source": [
        "y_pred = arbol_regressor.predict(X_test) \r\n",
        "accuracy = accuracy_score(y_test, y_pred) \r\n",
        "print('Accuracy Decision Tree Regressor: '+ str(accuracy*100))"
      ],
      "execution_count": 38,
      "outputs": [
        {
          "output_type": "stream",
          "text": [
            "Accuracy Decision Tree Regressor: 100.0\n"
          ],
          "name": "stdout"
        }
      ]
    },
    {
      "cell_type": "markdown",
      "metadata": {
        "id": "X50radQzuJ4f"
      },
      "source": [
        "### Aplicación de Support Vector Machine: ***100%***"
      ]
    },
    {
      "cell_type": "code",
      "metadata": {
        "colab": {
          "base_uri": "https://localhost:8080/"
        },
        "id": "AOMbnRW9vS2c",
        "outputId": "cbb2c806-06ed-40c6-81ee-c588bd3121ac"
      },
      "source": [
        "svm = SVC(kernel='linear')\r\n",
        "svm.fit(X_train, y_train)"
      ],
      "execution_count": 39,
      "outputs": [
        {
          "output_type": "execute_result",
          "data": {
            "text/plain": [
              "SVC(C=1.0, break_ties=False, cache_size=200, class_weight=None, coef0=0.0,\n",
              "    decision_function_shape='ovr', degree=3, gamma='scale', kernel='linear',\n",
              "    max_iter=-1, probability=False, random_state=None, shrinking=True,\n",
              "    tol=0.001, verbose=False)"
            ]
          },
          "metadata": {
            "tags": []
          },
          "execution_count": 39
        }
      ]
    },
    {
      "cell_type": "code",
      "metadata": {
        "colab": {
          "base_uri": "https://localhost:8080/"
        },
        "id": "pK_gL1v-vS2h",
        "outputId": "2eb680d4-cd63-4112-941a-29ccda0c812f"
      },
      "source": [
        "y_pred = svm.predict(X_test) \r\n",
        "accuracy = accuracy_score(y_test, y_pred) \r\n",
        "print('Accuracy Support Vector Machine: '+ str(accuracy*100))"
      ],
      "execution_count": 40,
      "outputs": [
        {
          "output_type": "stream",
          "text": [
            "Accuracy Support Vector Machine: 100.0\n"
          ],
          "name": "stdout"
        }
      ]
    },
    {
      "cell_type": "markdown",
      "metadata": {
        "id": "if6uc97NvpH8"
      },
      "source": [
        "## Dataset Oil consume"
      ]
    },
    {
      "cell_type": "markdown",
      "metadata": {
        "id": "tGxRarnX-ZnT"
      },
      "source": [
        "### Conocer y normalizat los datos"
      ]
    },
    {
      "cell_type": "code",
      "metadata": {
        "id": "9bQwarKK-dFF"
      },
      "source": [
        "oil = pd.read_csv(\"https://raw.githubusercontent.com/luisFernandoCastellanosG/Machine_learning/master/Databasets/petrol_consumption.csv\", encoding='utf-8')"
      ],
      "execution_count": 42,
      "outputs": []
    },
    {
      "cell_type": "code",
      "metadata": {
        "colab": {
          "base_uri": "https://localhost:8080/"
        },
        "id": "YyY4AjS6-keo",
        "outputId": "fd1f2664-463f-4b58-b178-45b42989bc2e"
      },
      "source": [
        "oil.info()"
      ],
      "execution_count": 43,
      "outputs": [
        {
          "output_type": "stream",
          "text": [
            "<class 'pandas.core.frame.DataFrame'>\n",
            "RangeIndex: 48 entries, 0 to 47\n",
            "Data columns (total 5 columns):\n",
            " #   Column                                Non-Null Count  Dtype  \n",
            "---  ------                                --------------  -----  \n",
            " 0   gasolina_impuesto                     48 non-null     float64\n",
            " 1   ingreso_promedio                      48 non-null     int64  \n",
            " 2   carreteras_pavimentadas               48 non-null     int64  \n",
            " 3   porcen_licencias_conducion_poblacion  48 non-null     float64\n",
            " 4   gasolina_Consumo                      48 non-null     int64  \n",
            "dtypes: float64(2), int64(3)\n",
            "memory usage: 2.0 KB\n"
          ],
          "name": "stdout"
        }
      ]
    },
    {
      "cell_type": "code",
      "metadata": {
        "id": "H2CnVozn-0pc"
      },
      "source": [
        "oil['gasolina_impuesto'] = oil['gasolina_impuesto'].astype('int')\r\n",
        "oil['porcen_licencias_conducion_poblacion'] = oil['porcen_licencias_conducion_poblacion'].astype('int')"
      ],
      "execution_count": 44,
      "outputs": []
    },
    {
      "cell_type": "code",
      "metadata": {
        "colab": {
          "base_uri": "https://localhost:8080/"
        },
        "id": "jQetIRhi_S_D",
        "outputId": "73ab1c30-15de-4211-ccf7-c8976edc92a2"
      },
      "source": [
        "oil.info()"
      ],
      "execution_count": 45,
      "outputs": [
        {
          "output_type": "stream",
          "text": [
            "<class 'pandas.core.frame.DataFrame'>\n",
            "RangeIndex: 48 entries, 0 to 47\n",
            "Data columns (total 5 columns):\n",
            " #   Column                                Non-Null Count  Dtype\n",
            "---  ------                                --------------  -----\n",
            " 0   gasolina_impuesto                     48 non-null     int64\n",
            " 1   ingreso_promedio                      48 non-null     int64\n",
            " 2   carreteras_pavimentadas               48 non-null     int64\n",
            " 3   porcen_licencias_conducion_poblacion  48 non-null     int64\n",
            " 4   gasolina_Consumo                      48 non-null     int64\n",
            "dtypes: int64(5)\n",
            "memory usage: 2.0 KB\n"
          ],
          "name": "stdout"
        }
      ]
    },
    {
      "cell_type": "markdown",
      "metadata": {
        "id": "n59MEmZ3_S_E"
      },
      "source": [
        "### Separar la data"
      ]
    },
    {
      "cell_type": "code",
      "metadata": {
        "id": "EnDA9RXe_S_E"
      },
      "source": [
        "X = oil['gasolina_impuesto'].to_numpy()\r\n",
        "y = oil['gasolina_Consumo']\r\n",
        "\r\n",
        "X = X.reshape(-1,1)\r\n",
        "\r\n",
        "X_train, X_test, y_train, y_test = train_test_split(X, y, test_size=0.2, random_state=0)"
      ],
      "execution_count": 78,
      "outputs": []
    },
    {
      "cell_type": "markdown",
      "metadata": {
        "id": "mqC7OrGL_S_F"
      },
      "source": [
        "### Aplicación de Linear Regression: ***15.78%***"
      ]
    },
    {
      "cell_type": "code",
      "metadata": {
        "colab": {
          "base_uri": "https://localhost:8080/"
        },
        "id": "oxBoDX_X_S_F",
        "outputId": "1a5d120f-e0cf-4e76-b9bf-a7a796f43538"
      },
      "source": [
        "linear = LinearRegression()\r\n",
        "linear.fit(X_train, y_train)"
      ],
      "execution_count": 79,
      "outputs": [
        {
          "output_type": "execute_result",
          "data": {
            "text/plain": [
              "LinearRegression(copy_X=True, fit_intercept=True, n_jobs=None, normalize=False)"
            ]
          },
          "metadata": {
            "tags": []
          },
          "execution_count": 79
        }
      ]
    },
    {
      "cell_type": "code",
      "metadata": {
        "colab": {
          "base_uri": "https://localhost:8080/"
        },
        "id": "nNp33i2k_S_G",
        "outputId": "cd565f0c-9a95-4173-a416-9b5ac4daf445"
      },
      "source": [
        "y_pred = linear.predict(X_test)\r\n",
        "accuracy = r2_score(y_test, y_pred)\r\n",
        "print('Accuracy Linear Regression: '+ str(accuracy*100))"
      ],
      "execution_count": 80,
      "outputs": [
        {
          "output_type": "stream",
          "text": [
            "Accuracy Linear Regression: 15.786893188124173\n"
          ],
          "name": "stdout"
        }
      ]
    },
    {
      "cell_type": "markdown",
      "metadata": {
        "id": "FXbPnGuI_S_G"
      },
      "source": [
        "### Aplicación de Logistic Regression: ***0%***"
      ]
    },
    {
      "cell_type": "code",
      "metadata": {
        "colab": {
          "base_uri": "https://localhost:8080/"
        },
        "id": "aEpsH4OZ_S_G",
        "outputId": "1fd715dc-bb95-4a15-f0a4-7ee2a45b81e6"
      },
      "source": [
        "logistic = LogisticRegression()\r\n",
        "logistic.fit(X_train, y_train)"
      ],
      "execution_count": 81,
      "outputs": [
        {
          "output_type": "execute_result",
          "data": {
            "text/plain": [
              "LogisticRegression(C=1.0, class_weight=None, dual=False, fit_intercept=True,\n",
              "                   intercept_scaling=1, l1_ratio=None, max_iter=100,\n",
              "                   multi_class='auto', n_jobs=None, penalty='l2',\n",
              "                   random_state=None, solver='lbfgs', tol=0.0001, verbose=0,\n",
              "                   warm_start=False)"
            ]
          },
          "metadata": {
            "tags": []
          },
          "execution_count": 81
        }
      ]
    },
    {
      "cell_type": "code",
      "metadata": {
        "colab": {
          "base_uri": "https://localhost:8080/"
        },
        "id": "DYvj1NnE_S_H",
        "outputId": "d65817c8-44e9-45d4-81fb-f6be6e80a0c7"
      },
      "source": [
        "y_pred = logistic.predict(X_test)\r\n",
        "accuracy = accuracy_score(y_test, y_pred) \r\n",
        "print('Accuracy Logistic Regression: '+ str(accuracy*100))"
      ],
      "execution_count": 82,
      "outputs": [
        {
          "output_type": "stream",
          "text": [
            "Accuracy Logistic Regression: 0.0\n"
          ],
          "name": "stdout"
        }
      ]
    },
    {
      "cell_type": "markdown",
      "metadata": {
        "id": "YSUFJls6_S_H"
      },
      "source": [
        "### Aplicación de Decision Tree Classifier: ***0%***"
      ]
    },
    {
      "cell_type": "code",
      "metadata": {
        "id": "PEO0-rXa_S_I"
      },
      "source": [
        "max_depth_lista = list(range(1, 10))\r\n",
        "\r\n",
        "accuracy = []\r\n",
        "\r\n",
        "for depth in max_depth_lista:\r\n",
        "  arbol = DecisionTreeClassifier(max_depth=depth, random_state=0)\r\n",
        "  arbol.fit(X_train, y_train)\r\n",
        "  score = arbol.score(X_test, y_test)\r\n",
        "  accuracy.append(score)"
      ],
      "execution_count": 83,
      "outputs": []
    },
    {
      "cell_type": "code",
      "metadata": {
        "colab": {
          "base_uri": "https://localhost:8080/",
          "height": 279
        },
        "id": "eZ-9uOaA_S_I",
        "outputId": "e5bd9be6-72a8-4149-d31a-4e4e65d313f4"
      },
      "source": [
        "plt.plot(max_depth_lista, accuracy)\r\n",
        "plt.ylabel('accuracy')\r\n",
        "plt.xlabel('depth')\r\n",
        "plt.grid(True)\r\n",
        "plt.show()"
      ],
      "execution_count": 84,
      "outputs": [
        {
          "output_type": "display_data",
          "data": {
            "image/png": "[encoded data removed]",
            "text/plain": [
              "<Figure size 432x288 with 1 Axes>"
            ]
          },
          "metadata": {
            "tags": [],
            "needs_background": "light"
          }
        }
      ]
    },
    {
      "cell_type": "code",
      "metadata": {
        "colab": {
          "base_uri": "https://localhost:8080/"
        },
        "id": "IfG_xip5_S_I",
        "outputId": "503734ff-3959-4a1c-ea80-1611fc98f680"
      },
      "source": [
        "arbol_classifier = DecisionTreeClassifier(max_depth=3, random_state=0)\r\n",
        "arbol_classifier.fit(X_train, y_train)"
      ],
      "execution_count": 85,
      "outputs": [
        {
          "output_type": "execute_result",
          "data": {
            "text/plain": [
              "DecisionTreeClassifier(ccp_alpha=0.0, class_weight=None, criterion='gini',\n",
              "                       max_depth=3, max_features=None, max_leaf_nodes=None,\n",
              "                       min_impurity_decrease=0.0, min_impurity_split=None,\n",
              "                       min_samples_leaf=1, min_samples_split=2,\n",
              "                       min_weight_fraction_leaf=0.0, presort='deprecated',\n",
              "                       random_state=0, splitter='best')"
            ]
          },
          "metadata": {
            "tags": []
          },
          "execution_count": 85
        }
      ]
    },
    {
      "cell_type": "code",
      "metadata": {
        "colab": {
          "base_uri": "https://localhost:8080/"
        },
        "id": "c9bUFDW7_S_J",
        "outputId": "a5c49143-4463-4630-eda5-493eb909b973"
      },
      "source": [
        "y_pred = arbol_classifier.predict(X_test) \r\n",
        "accuracy = accuracy_score(y_test, y_pred) \r\n",
        "print('Accuracy Decision Tree Classifier: '+ str(accuracy*100))"
      ],
      "execution_count": 86,
      "outputs": [
        {
          "output_type": "stream",
          "text": [
            "Accuracy Decision Tree Classifier: 0.0\n"
          ],
          "name": "stdout"
        }
      ]
    },
    {
      "cell_type": "markdown",
      "metadata": {
        "id": "90ZBiKqq_S_J"
      },
      "source": [
        "### Aplicación de Decision Tree Regressor: ***36.72%***"
      ]
    },
    {
      "cell_type": "code",
      "metadata": {
        "colab": {
          "base_uri": "https://localhost:8080/"
        },
        "id": "zwdWiqs-_S_J",
        "outputId": "d5d933a8-558f-4d84-97ca-463b9bba3271"
      },
      "source": [
        "arbol_regressor = DecisionTreeRegressor()\r\n",
        "arbol_regressor.fit(X_train, y_train)"
      ],
      "execution_count": 87,
      "outputs": [
        {
          "output_type": "execute_result",
          "data": {
            "text/plain": [
              "DecisionTreeRegressor(ccp_alpha=0.0, criterion='mse', max_depth=None,\n",
              "                      max_features=None, max_leaf_nodes=None,\n",
              "                      min_impurity_decrease=0.0, min_impurity_split=None,\n",
              "                      min_samples_leaf=1, min_samples_split=2,\n",
              "                      min_weight_fraction_leaf=0.0, presort='deprecated',\n",
              "                      random_state=None, splitter='best')"
            ]
          },
          "metadata": {
            "tags": []
          },
          "execution_count": 87
        }
      ]
    },
    {
      "cell_type": "code",
      "metadata": {
        "colab": {
          "base_uri": "https://localhost:8080/"
        },
        "id": "I2xvT5TY_S_K",
        "outputId": "8cbb50db-e674-4731-fa60-c0152ed13d21"
      },
      "source": [
        "y_pred = arbol_regressor.predict(X_test) \r\n",
        "accuracy = r2_score(y_test, y_pred)\r\n",
        "print('Accuracy Decicion Tree Regressor: '+ str(accuracy*100))"
      ],
      "execution_count": 88,
      "outputs": [
        {
          "output_type": "stream",
          "text": [
            "Accuracy Decicion Tree Regressor: 36.72480968787991\n"
          ],
          "name": "stdout"
        }
      ]
    },
    {
      "cell_type": "markdown",
      "metadata": {
        "id": "JZXxBMis_S_K"
      },
      "source": [
        "### Aplicación de Support Vector Machines: ***0%***"
      ]
    },
    {
      "cell_type": "code",
      "metadata": {
        "colab": {
          "base_uri": "https://localhost:8080/"
        },
        "id": "2jFwoic6_S_K",
        "outputId": "1677e9ae-e6b2-4eed-d555-699095c139a3"
      },
      "source": [
        "# {‘linear’, ‘poly’, ‘rbf’, ‘sigmoid’, ‘precomputed’}, default=’rbf’\r\n",
        "svm = SVC()\r\n",
        "svm.fit(X_train, y_train)"
      ],
      "execution_count": 99,
      "outputs": [
        {
          "output_type": "execute_result",
          "data": {
            "text/plain": [
              "SVC(C=1.0, break_ties=False, cache_size=200, class_weight=None, coef0=0.0,\n",
              "    decision_function_shape='ovr', degree=3, gamma='scale', kernel='rbf',\n",
              "    max_iter=-1, probability=False, random_state=None, shrinking=True,\n",
              "    tol=0.001, verbose=False)"
            ]
          },
          "metadata": {
            "tags": []
          },
          "execution_count": 99
        }
      ]
    },
    {
      "cell_type": "code",
      "metadata": {
        "colab": {
          "base_uri": "https://localhost:8080/"
        },
        "id": "bw5dRDDd_S_L",
        "outputId": "2846e78e-f080-4f48-ac77-5730acb1b295"
      },
      "source": [
        "y_pred = svm.predict(X_test) \r\n",
        "accuracy = accuracy_score(y_test, y_pred) \r\n",
        "print('Accuracy Support Vector Machine: '+ str(accuracy*100))"
      ],
      "execution_count": 100,
      "outputs": [
        {
          "output_type": "stream",
          "text": [
            "Accuracy Support Vector Machine: 0.0\n"
          ],
          "name": "stdout"
        }
      ]
    }
  ]
}