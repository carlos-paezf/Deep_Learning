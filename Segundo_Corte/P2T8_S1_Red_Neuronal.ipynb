{
  "nbformat": 4,
  "nbformat_minor": 0,
  "metadata": {
    "colab": {
      "name": "P2T8_S1_Red_Neuronal.ipynb",
      "provenance": [],
      "collapsed_sections": [
        "l7UIE9OSVgul",
        "dc0DYowcWbK4",
        "NrjUkiCtalG_",
        "6w6zhkrUcoDu",
        "L7Z6Sg_Zih3o"
      ]
    },
    "kernelspec": {
      "name": "python3",
      "display_name": "Python 3"
    },
    "language_info": {
      "name": "python"
    }
  },
  "cells": [
    {
      "cell_type": "markdown",
      "metadata": {
        "id": "Z_cD-1sDU7Wi"
      },
      "source": [
        "# Crear una Red Neuronal"
      ]
    },
    {
      "cell_type": "markdown",
      "metadata": {
        "id": "l7UIE9OSVgul"
      },
      "source": [
        "## Importar las librerías"
      ]
    },
    {
      "cell_type": "code",
      "metadata": {
        "id": "rTiUzGLNUKcX"
      },
      "source": [
        "import numpy as np\n",
        "import scipy as sc\n",
        "import matplotlib.pyplot as plt\n",
        "\n",
        "from sklearn.datasets import make_circles\n",
        "\n",
        "%matplotlib inline"
      ],
      "execution_count": 51,
      "outputs": []
    },
    {
      "cell_type": "markdown",
      "metadata": {
        "id": "g6pPc3QRV6HC"
      },
      "source": [
        "|Librería|Función|\n",
        "|--------|-------|\n",
        "|Numpy|Procesamiento Numérico|\n",
        "|Scipy|Extensión de Numpy|\n",
        "|Pyplot|Framework de gráficos|\n",
        "|make_circles|Nos permite crear un dataset|"
      ]
    },
    {
      "cell_type": "markdown",
      "metadata": {
        "id": "dc0DYowcWbK4"
      },
      "source": [
        "## Crear un dataset"
      ]
    },
    {
      "cell_type": "markdown",
      "metadata": {
        "id": "1W1t9_FbWu5L"
      },
      "source": [
        "Si queremos observar como hacer uso de make_circles podemos ingresar el siguiente script:\n",
        "\n",
        "```python\n",
        "make_circles?\n",
        "```"
      ]
    },
    {
      "cell_type": "markdown",
      "metadata": {
        "id": "VW34hG2MXimm"
      },
      "source": [
        "Creamos 500 elementos con 2 características cada uno. "
      ]
    },
    {
      "cell_type": "code",
      "metadata": {
        "id": "nFdzN3UFWrgu"
      },
      "source": [
        "n = 500\n",
        "p = 2"
      ],
      "execution_count": 52,
      "outputs": []
    },
    {
      "cell_type": "code",
      "metadata": {
        "id": "5lHPIioKYN28"
      },
      "source": [
        "X, Y = make_circles(n_samples=n, factor=0.5, noise=0.05)"
      ],
      "execution_count": 53,
      "outputs": []
    },
    {
      "cell_type": "markdown",
      "metadata": {
        "id": "ueb0sRczXumm"
      },
      "source": [
        "|Var||\n",
        "|--|--|\n",
        "|X|Puntos en (x,y) del eje cartesiano|\n",
        "|Y|Valores binarios (0,1) que dicen que pertenecen al ciclo interno o externo|\n",
        "|factor|Distancia entre los círculos|\n",
        "|noise|Ruido|"
      ]
    },
    {
      "cell_type": "markdown",
      "metadata": {
        "id": "z7BSAfVTYz5F"
      },
      "source": [
        "Con la siguiente línea agregamos una dimensión para que quede igual que X"
      ]
    },
    {
      "cell_type": "code",
      "metadata": {
        "id": "ljUZo78DYrjN"
      },
      "source": [
        "Y = Y[:, np.newaxis]"
      ],
      "execution_count": 54,
      "outputs": []
    },
    {
      "cell_type": "code",
      "metadata": {
        "colab": {
          "base_uri": "https://localhost:8080/"
        },
        "id": "wpbg92AxZCFe",
        "outputId": "c5dbe9ba-783b-4b09-e2de-719bfa84a582"
      },
      "source": [
        "print('Dataset X = {}'.format(X.shape))\n",
        "print('Dataset Y = {}'.format(Y.shape))"
      ],
      "execution_count": 55,
      "outputs": [
        {
          "output_type": "stream",
          "text": [
            "Dataset X = (500, 2)\n",
            "Dataset Y = (500, 1)\n"
          ],
          "name": "stdout"
        }
      ]
    },
    {
      "cell_type": "markdown",
      "metadata": {
        "id": "P-9nqziYZgOw"
      },
      "source": [
        "Visualizamos el dataset, graficando todos los puntos en la primera coordenada en X y los segundos puntos en la coordenada Y"
      ]
    },
    {
      "cell_type": "code",
      "metadata": {
        "colab": {
          "base_uri": "https://localhost:8080/",
          "height": 282
        },
        "id": "rTp3yJ1WZSEG",
        "outputId": "a0c3c084-4d90-4f91-c895-6e7d94f88a90"
      },
      "source": [
        "plt.scatter(X[:, 0], X[:, 1])"
      ],
      "execution_count": 56,
      "outputs": [
        {
          "output_type": "execute_result",
          "data": {
            "text/plain": [
              "<matplotlib.collections.PathCollection at 0x7f08df725810>"
            ]
          },
          "metadata": {
            "tags": []
          },
          "execution_count": 56
        },
        {
          "output_type": "display_data",
          "data": {
            "image/png": "[encoded data removed]",
            "text/plain": [
              "<Figure size 432x288 with 1 Axes>"
            ]
          },
          "metadata": {
            "tags": [],
            "needs_background": "light"
          }
        }
      ]
    },
    {
      "cell_type": "markdown",
      "metadata": {
        "id": "FBtK7q-2Zzl_"
      },
      "source": [
        "Mejoramos el gráfico agregando color e igualando el tamaño de los ejes"
      ]
    },
    {
      "cell_type": "code",
      "metadata": {
        "colab": {
          "base_uri": "https://localhost:8080/",
          "height": 265
        },
        "id": "bhmzqMsKZ62j",
        "outputId": "14523445-339b-4080-a44d-c3a6237481fa"
      },
      "source": [
        "plt.scatter(X[Y[:,0]==0,0], X[Y[:,0]==0,1], c='skyblue')\n",
        "plt.scatter(X[Y[:,0]==1,0], X[Y[:,0]==1,1], c='salmon')\n",
        "plt.axis('equal')\n",
        "plt.show()"
      ],
      "execution_count": 57,
      "outputs": [
        {
          "output_type": "display_data",
          "data": {
            "image/png": "[encoded data removed]",
            "text/plain": [
              "<Figure size 432x288 with 1 Axes>"
            ]
          },
          "metadata": {
            "tags": [],
            "needs_background": "light"
          }
        }
      ]
    },
    {
      "cell_type": "markdown",
      "metadata": {
        "id": "NrjUkiCtalG_"
      },
      "source": [
        "## Crear la Red Neuronal"
      ]
    },
    {
      "cell_type": "markdown",
      "metadata": {
        "id": "snFfkjf9arcL"
      },
      "source": [
        "|Estructura de los datos en la red||\n",
        "|--||\n",
        "|Parametros de entrada||\n",
        "|Conexiones entre las capas|n_conn|\n",
        "|Número de neuronas en las capas|n_neur|\n",
        "|Función de activación|f_wakeup|\n",
        "\n",
        "Creamos una clase de capa de la red. Tener en cuenta que ***b*** es el vector parametro de Bayas *(layers de la red neuronal)* con valores entre -1 y 1; y ***w*** es una matriz layer *(conexiones son tantas como neuronas en cada capa)*"
      ]
    },
    {
      "cell_type": "code",
      "metadata": {
        "id": "FeOzCw6taoDU"
      },
      "source": [
        "class neural_layer():\n",
        "    def __init__(self, n_conn, n_neur, f_wakeup):\n",
        "        self.f_wakeup = f_wakeup\n",
        "        self.b = np.random.rand(1, n_neur) * 2 - 1\n",
        "        self.w = np.random.rand(n_conn, n_neur) * 2 - 1"
      ],
      "execution_count": 58,
      "outputs": []
    },
    {
      "cell_type": "markdown",
      "metadata": {
        "id": "6w6zhkrUcoDu"
      },
      "source": [
        "### Funciones de activación"
      ]
    },
    {
      "cell_type": "markdown",
      "metadata": {
        "id": "7dHVuto4dGMi"
      },
      "source": [
        "**lambda** permite crear funciones anónimas, es decir que no requiren de un nombre ni la palabra reservada *def*. Funciones de activación de las neuronas, hacemos uso de una función sigmoidal $\\sigma(x)$:\n",
        "\n",
        "$$ \\sigma(x) = \\frac{1}{1 + e^{-x}} $$\n",
        "\n",
        "Tambien podemos establecer que $z$ equivale a nuestra suma ponderada de entrada y podemos pasarla a través de la función sigmoide.\n",
        "\n",
        "$$ z = b + \\sum_i w_ix_i$$\n",
        "\n",
        "$$ \\sigma(z) = \\frac{1}{1 + e^{-z}} $$"
      ]
    },
    {
      "cell_type": "code",
      "metadata": {
        "id": "WH6EV1QDc2-o"
      },
      "source": [
        "sigma = lambda x: 1/(1 + np.e**(-x))"
      ],
      "execution_count": 59,
      "outputs": []
    },
    {
      "cell_type": "markdown",
      "metadata": {
        "id": "G4DcmxizdkvM"
      },
      "source": [
        "También podemos convertir a sigma en 2 funciones, una sería la función sigmoide y la derivada de dicha función.\n",
        "\n",
        "$$ \\sigma(x) = \\frac{1}{1 + e^{-x}} $$  \n",
        "\n",
        "$$ \\sigma(x) = x * (1-x) $$   \n",
        "\n",
        "$$ \\sigma'(z) = \\sigma(z) * (1 - \\sigma(z)) $$"
      ]
    },
    {
      "cell_type": "code",
      "metadata": {
        "id": "yfyf_nKhho70"
      },
      "source": [
        "sigma = (lambda x: 1/(1 + np.e**(-x)), lambda x: x * (1 - x))"
      ],
      "execution_count": 60,
      "outputs": []
    },
    {
      "cell_type": "markdown",
      "metadata": {
        "id": "aV7UOlP5h4qm"
      },
      "source": [
        "Es importante decirle que todos los valores negativos sean 0"
      ]
    },
    {
      "cell_type": "code",
      "metadata": {
        "id": "2mPfU22siYtM"
      },
      "source": [
        "relu = lambda x: np.maximum(0, x)"
      ],
      "execution_count": 61,
      "outputs": []
    },
    {
      "cell_type": "markdown",
      "metadata": {
        "id": "L7Z6Sg_Zih3o"
      },
      "source": [
        "### Probemos la función sigmoide."
      ]
    },
    {
      "cell_type": "markdown",
      "metadata": {
        "id": "l9b8bxt8jcEb"
      },
      "source": [
        "Primero creamos un vector de 100 posiciones con valores desde -5 a 5\n"
      ]
    },
    {
      "cell_type": "code",
      "metadata": {
        "colab": {
          "base_uri": "https://localhost:8080/"
        },
        "id": "d5wQyr4_iIIi",
        "outputId": "72f85d1f-7ebd-49d6-90f2-0cf0a0bb52f3"
      },
      "source": [
        "_x= np.linspace(-5,5, 100)\n",
        "_x"
      ],
      "execution_count": 62,
      "outputs": [
        {
          "output_type": "execute_result",
          "data": {
            "text/plain": [
              "array([-5.        , -4.8989899 , -4.7979798 , -4.6969697 , -4.5959596 ,\n",
              "       -4.49494949, -4.39393939, -4.29292929, -4.19191919, -4.09090909,\n",
              "       -3.98989899, -3.88888889, -3.78787879, -3.68686869, -3.58585859,\n",
              "       -3.48484848, -3.38383838, -3.28282828, -3.18181818, -3.08080808,\n",
              "       -2.97979798, -2.87878788, -2.77777778, -2.67676768, -2.57575758,\n",
              "       -2.47474747, -2.37373737, -2.27272727, -2.17171717, -2.07070707,\n",
              "       -1.96969697, -1.86868687, -1.76767677, -1.66666667, -1.56565657,\n",
              "       -1.46464646, -1.36363636, -1.26262626, -1.16161616, -1.06060606,\n",
              "       -0.95959596, -0.85858586, -0.75757576, -0.65656566, -0.55555556,\n",
              "       -0.45454545, -0.35353535, -0.25252525, -0.15151515, -0.05050505,\n",
              "        0.05050505,  0.15151515,  0.25252525,  0.35353535,  0.45454545,\n",
              "        0.55555556,  0.65656566,  0.75757576,  0.85858586,  0.95959596,\n",
              "        1.06060606,  1.16161616,  1.26262626,  1.36363636,  1.46464646,\n",
              "        1.56565657,  1.66666667,  1.76767677,  1.86868687,  1.96969697,\n",
              "        2.07070707,  2.17171717,  2.27272727,  2.37373737,  2.47474747,\n",
              "        2.57575758,  2.67676768,  2.77777778,  2.87878788,  2.97979798,\n",
              "        3.08080808,  3.18181818,  3.28282828,  3.38383838,  3.48484848,\n",
              "        3.58585859,  3.68686869,  3.78787879,  3.88888889,  3.98989899,\n",
              "        4.09090909,  4.19191919,  4.29292929,  4.39393939,  4.49494949,\n",
              "        4.5959596 ,  4.6969697 ,  4.7979798 ,  4.8989899 ,  5.        ])"
            ]
          },
          "metadata": {
            "tags": []
          },
          "execution_count": 62
        }
      ]
    },
    {
      "cell_type": "markdown",
      "metadata": {
        "id": "IQJC7R55i2TG"
      },
      "source": [
        "Función Sigmoide"
      ]
    },
    {
      "cell_type": "code",
      "metadata": {
        "colab": {
          "base_uri": "https://localhost:8080/",
          "height": 282
        },
        "id": "fWEVlmpaizBh",
        "outputId": "7053c50d-3a7a-47b0-edb0-d331b4330597"
      },
      "source": [
        "plt.plot (_x, sigma[0](_x))"
      ],
      "execution_count": 63,
      "outputs": [
        {
          "output_type": "execute_result",
          "data": {
            "text/plain": [
              "[<matplotlib.lines.Line2D at 0x7f08df604d90>]"
            ]
          },
          "metadata": {
            "tags": []
          },
          "execution_count": 63
        },
        {
          "output_type": "display_data",
          "data": {
            "image/png": "[encoded data removed]",
            "text/plain": [
              "<Figure size 432x288 with 1 Axes>"
            ]
          },
          "metadata": {
            "tags": [],
            "needs_background": "light"
          }
        }
      ]
    },
    {
      "cell_type": "markdown",
      "metadata": {
        "id": "blpjQIKni9Bh"
      },
      "source": [
        "Derivada de la función Sigmoide"
      ]
    },
    {
      "cell_type": "code",
      "metadata": {
        "colab": {
          "base_uri": "https://localhost:8080/",
          "height": 282
        },
        "id": "6t6EKkPmi8Wn",
        "outputId": "4952ee12-70d9-498a-ea90-04d6e9b3bec1"
      },
      "source": [
        "plt.plot (_x, sigma[1](_x))"
      ],
      "execution_count": 64,
      "outputs": [
        {
          "output_type": "execute_result",
          "data": {
            "text/plain": [
              "[<matplotlib.lines.Line2D at 0x7f08df5b0350>]"
            ]
          },
          "metadata": {
            "tags": []
          },
          "execution_count": 64
        },
        {
          "output_type": "display_data",
          "data": {
            "image/png": "[encoded data removed]",
            "text/plain": [
              "<Figure size 432x288 with 1 Axes>"
            ]
          },
          "metadata": {
            "tags": [],
            "needs_background": "light"
          }
        }
      ]
    },
    {
      "cell_type": "markdown",
      "metadata": {
        "id": "VC65wJ0Ui_wH"
      },
      "source": [
        "Derivada de la función Sigmoide"
      ]
    },
    {
      "cell_type": "code",
      "metadata": {
        "colab": {
          "base_uri": "https://localhost:8080/",
          "height": 282
        },
        "id": "bqt58fCCjGab",
        "outputId": "d116eca3-56d0-4345-e1b7-81adc4378c67"
      },
      "source": [
        "plt.plot (_x, relu(_x))"
      ],
      "execution_count": 65,
      "outputs": [
        {
          "output_type": "execute_result",
          "data": {
            "text/plain": [
              "[<matplotlib.lines.Line2D at 0x7f08df379810>]"
            ]
          },
          "metadata": {
            "tags": []
          },
          "execution_count": 65
        },
        {
          "output_type": "display_data",
          "data": {
            "image/png": "[encoded data removed]",
            "text/plain": [
              "<Figure size 432x288 with 1 Axes>"
            ]
          },
          "metadata": {
            "tags": [],
            "needs_background": "light"
          }
        }
      ]
    },
    {
      "cell_type": "markdown",
      "metadata": {
        "id": "LXW5Mb1fjSDt"
      },
      "source": [
        "### Función de coste (Error cuadrático medio = L2)"
      ]
    },
    {
      "cell_type": "markdown",
      "metadata": {
        "id": "nbCpBll1j9tw"
      },
      "source": [
        "Por medio de la primera función se obtiene el error cuadrático medio de la diferencia entre Yp *(Valor Predicho)* y Yr *(Valor Real)*. Y por medio de la segunda función obtenemos la derivada de la función de error cuadrático medio.  "
      ]
    },
    {
      "cell_type": "code",
      "metadata": {
        "id": "7RCkfZ4TjZn0"
      },
      "source": [
        "l2_cost = (lambda Yp, Yr: np.mean((Yp-Yr)**2), lambda Yp, Yr: (Yp - Yr))"
      ],
      "execution_count": 66,
      "outputs": []
    },
    {
      "cell_type": "markdown",
      "metadata": {
        "id": "UNZnwD5klO5q"
      },
      "source": [
        "### Creación de la red neuronal por método manual"
      ]
    },
    {
      "cell_type": "code",
      "metadata": {
        "id": "Q9_stWy_ldy0"
      },
      "source": [
        "l0 = neural_layer(p, 4, sigma)\n",
        "l1 = neural_layer(4, 8, sigma)"
      ],
      "execution_count": 67,
      "outputs": []
    },
    {
      "cell_type": "markdown",
      "metadata": {
        "id": "uHtK1izql5lq"
      },
      "source": [
        "Capa 0 con p *(número de entradas)*"
      ]
    },
    {
      "cell_type": "markdown",
      "metadata": {
        "id": "jXUQJhZyla1t"
      },
      "source": [
        "### Creación de la red neuronal por método automático\n"
      ]
    },
    {
      "cell_type": "code",
      "metadata": {
        "id": "z_Dhd-FEmH-X"
      },
      "source": [
        "def create_nn(topology, f_wakeup):\n",
        "    nn = []\n",
        "    for l, layer in enumerate(topology[:-1]):\n",
        "        nn.append(neural_layer(topology[l], topology[l+1], f_wakeup))\n",
        "    return nn"
      ],
      "execution_count": 68,
      "outputs": []
    },
    {
      "cell_type": "markdown",
      "metadata": {
        "id": "iUbiAsb0qDP9"
      },
      "source": [
        "- `nn` son las capas de red neuronal\n",
        "- Por medio del ciclo for recorre el vector hasta el último valor. \n",
        "    - Creamos cada una de las capas por medio de la clase neural_layer."
      ]
    },
    {
      "cell_type": "markdown",
      "metadata": {
        "id": "jOT8DLiqrAB_"
      },
      "source": [
        "## Crear la función de entrenamiento"
      ]
    },
    {
      "cell_type": "markdown",
      "metadata": {
        "id": "e8C77uvAr0iQ"
      },
      "source": [
        "Le entregamos a la nn un parámetro de entrada y como es la salida, ella misma aprende a asignar pesos hacia adelante aplicando sumas ponderadas y funciones de activación ($\\sigma$), para obtener un valor randomico aplicando una función de coste (Error cuadrático medio = L2). Comparamos el valor de salida randomico - valor real y obtenemos el valor del error. Tomando ese error y aplicandolo al algoritmo de back-propagation calculamos las derivadas parciales que usaremos para usar el algoritmo de descenso por gradiente, el cual nos permite optimizar el error de coste y cin ello entrenar la nn. La topología define la cantidad de neuronas en cada capa."
      ]
    },
    {
      "cell_type": "code",
      "metadata": {
        "id": "2pUoiicqtQoX"
      },
      "source": [
        "topology = [p, 4, 8, 1]\n",
        "neural_net = create_nn(topology, sigma)"
      ],
      "execution_count": 69,
      "outputs": []
    },
    {
      "cell_type": "markdown",
      "metadata": {
        "id": "zESMvtwQty9F"
      },
      "source": [
        "Dentro de la función de train, lr define en que grado de actualización los parámetros en base al descenso del gradiente (muy bajo: train lento, muy alto: nunca converge la red). *forward pass* hace el paso hacia adelante, pasamos el vector de entrada y lo pasamos capa por capa.  \n",
        "\n",
        "En la capa 0 obtenemos la suma ponderada en la primera capa, y luego ejecutamos la activación usando la función sigma [parámetro 0] para la capa 0. El vector `out` almacena los recursos de las capas [(z0, a0)], [(z1, a1)], ... , [(zn, an)]. Por medio del ciclo for cargamos el valor inicial que se usara en la primera capa (entrada) de forma automática. Como vimos anteriormente, `z` es la suma ponderada de la primera capa, y el papel de `a` es ejecutar la función de activación usando la función sigma[0] para la capa 0.  \n",
        "\n",
        "Al aplicar backwards pass + gradian descent, vamos hacia atras para programar el error y ejecutar (derivada + decenso del gradiente). Si es la última capa no se debe programar el error porque es el mismo de la función de coste. Con deltas[0] agregamos el valor del coste por la derivada de la función de activación de la última capa. Con deltas[1>] agregamos el valor del coste por la derivada de la función de activación de la capa anterior. En la variable _W guardamos el valor temporal de W para ser usado en la siguiente iteración del for. El descenso del gradiente optimiza el coste en función del parametro W."
      ]
    },
    {
      "cell_type": "code",
      "metadata": {
        "id": "gzrpapBdtjiC"
      },
      "source": [
        "def train(neural_net, X, Y, l2_cost, lr=0.05, train=True):\n",
        "    # Capa 0\n",
        "    z = X@ neural_net[0].w + neural_net[0].b\n",
        "    a = neural_net[0].f_wakeup[0](z)\n",
        "\n",
        "    out = [(None, X)]\n",
        "\n",
        "    for l, layer in enumerate(neural_net):\n",
        "        z = out[-1][1] @ neural_net[l].w + neural_net[l].b\n",
        "        a = neural_net[l].f_wakeup[0](z)\n",
        "        out.append((z, a))\n",
        "    # print(out[-1][1])\n",
        "    # print('Costo de aprendizaje = {}'.format(l2_cost[0](out[-1][1], Y)))\n",
        "\n",
        "    # Backwards pass + Gradian descent\n",
        "    if train:\n",
        "        deltas = []\n",
        "\n",
        "        for l in reversed(range(0, len(neural_net))):\n",
        "            z = out[l+1][0]\n",
        "            a = out[l+1][1]\n",
        "            # print('Tamaño de la capa {} = {}'.format(l, a.shape))\n",
        "            if l == len(neural_net)-1:\n",
        "                deltas.insert(0, l2_cost[1](a, Y) * neural_net[l].f_wakeup[1](a))\n",
        "            else:\n",
        "                # print(delta[0].shape, _W.shape)\n",
        "                deltas.insert(0, deltas[0] @ _W.T * neural_net[l].f_wakeup[1](a))\n",
        "        \n",
        "            # Gradiant Descent\n",
        "            _W = neural_net[l].w\n",
        "            neural_net[l].b = neural_net[l].b - np.mean(deltas[0], axis=0, keepdims=True) * lr\n",
        "            neural_net[l].w = neural_net[l].w - out[l][1].T @ deltas[0] * lr\n",
        "\n",
        "    return out[-1][1]"
      ],
      "execution_count": 70,
      "outputs": []
    },
    {
      "cell_type": "code",
      "metadata": {
        "colab": {
          "base_uri": "https://localhost:8080/"
        },
        "id": "r6f99GJj2m26",
        "outputId": "d39e05b6-2d79-4497-baf6-9695873696b3"
      },
      "source": [
        "train(neural_net, X, Y, l2_cost, 0.01, True)"
      ],
      "execution_count": 71,
      "outputs": [
        {
          "output_type": "execute_result",
          "data": {
            "text/plain": [
              "array([[0.87075702],\n",
              "       [0.86718136],\n",
              "       [0.87625721],\n",
              "       [0.87855068],\n",
              "       [0.88045253],\n",
              "       [0.87207284],\n",
              "       [0.86802088],\n",
              "       [0.86564298],\n",
              "       [0.85415939],\n",
              "       [0.85650461],\n",
              "       [0.8637798 ],\n",
              "       [0.86421998],\n",
              "       [0.86126264],\n",
              "       [0.87372179],\n",
              "       [0.88708141],\n",
              "       [0.86586693],\n",
              "       [0.87148743],\n",
              "       [0.85990946],\n",
              "       [0.86867643],\n",
              "       [0.88407755],\n",
              "       [0.87600595],\n",
              "       [0.86361345],\n",
              "       [0.86549552],\n",
              "       [0.87487858],\n",
              "       [0.87973336],\n",
              "       [0.88049646],\n",
              "       [0.86339267],\n",
              "       [0.85417275],\n",
              "       [0.86499269],\n",
              "       [0.86114055],\n",
              "       [0.8663022 ],\n",
              "       [0.87516342],\n",
              "       [0.86600521],\n",
              "       [0.85404613],\n",
              "       [0.86282088],\n",
              "       [0.86346521],\n",
              "       [0.86079013],\n",
              "       [0.87605138],\n",
              "       [0.88698848],\n",
              "       [0.88051154],\n",
              "       [0.87459604],\n",
              "       [0.8859137 ],\n",
              "       [0.87915032],\n",
              "       [0.88712943],\n",
              "       [0.8562344 ],\n",
              "       [0.87664694],\n",
              "       [0.86888969],\n",
              "       [0.87001609],\n",
              "       [0.88126518],\n",
              "       [0.87175547],\n",
              "       [0.88183121],\n",
              "       [0.88051106],\n",
              "       [0.87061409],\n",
              "       [0.87186119],\n",
              "       [0.86644218],\n",
              "       [0.88229358],\n",
              "       [0.88593354],\n",
              "       [0.88272275],\n",
              "       [0.88329692],\n",
              "       [0.87095031],\n",
              "       [0.85819226],\n",
              "       [0.85890133],\n",
              "       [0.87719481],\n",
              "       [0.8723741 ],\n",
              "       [0.86758578],\n",
              "       [0.86528168],\n",
              "       [0.87289882],\n",
              "       [0.85622353],\n",
              "       [0.88613818],\n",
              "       [0.88582128],\n",
              "       [0.87134642],\n",
              "       [0.86752807],\n",
              "       [0.87465709],\n",
              "       [0.85543058],\n",
              "       [0.85278602],\n",
              "       [0.868922  ],\n",
              "       [0.87226173],\n",
              "       [0.86360095],\n",
              "       [0.8664858 ],\n",
              "       [0.87895178],\n",
              "       [0.87645993],\n",
              "       [0.86516737],\n",
              "       [0.86996523],\n",
              "       [0.85285394],\n",
              "       [0.86409406],\n",
              "       [0.88725542],\n",
              "       [0.87369975],\n",
              "       [0.88246618],\n",
              "       [0.86162529],\n",
              "       [0.86464636],\n",
              "       [0.86358565],\n",
              "       [0.85203882],\n",
              "       [0.86106263],\n",
              "       [0.86245495],\n",
              "       [0.85968   ],\n",
              "       [0.86332245],\n",
              "       [0.86223213],\n",
              "       [0.87826751],\n",
              "       [0.87795774],\n",
              "       [0.87833516],\n",
              "       [0.87934461],\n",
              "       [0.86394368],\n",
              "       [0.87268659],\n",
              "       [0.87447705],\n",
              "       [0.85721826],\n",
              "       [0.88552835],\n",
              "       [0.87057863],\n",
              "       [0.86412493],\n",
              "       [0.86520651],\n",
              "       [0.88186687],\n",
              "       [0.85964101],\n",
              "       [0.86648242],\n",
              "       [0.87672925],\n",
              "       [0.88383082],\n",
              "       [0.88094936],\n",
              "       [0.860491  ],\n",
              "       [0.87260829],\n",
              "       [0.85421521],\n",
              "       [0.87011671],\n",
              "       [0.86575058],\n",
              "       [0.88643166],\n",
              "       [0.87308644],\n",
              "       [0.86669774],\n",
              "       [0.87391142],\n",
              "       [0.87151541],\n",
              "       [0.87612765],\n",
              "       [0.86568618],\n",
              "       [0.8577268 ],\n",
              "       [0.87764906],\n",
              "       [0.87906175],\n",
              "       [0.88431182],\n",
              "       [0.85775193],\n",
              "       [0.87066937],\n",
              "       [0.86914038],\n",
              "       [0.8572202 ],\n",
              "       [0.86267503],\n",
              "       [0.87660976],\n",
              "       [0.85534132],\n",
              "       [0.86270906],\n",
              "       [0.86939221],\n",
              "       [0.86506185],\n",
              "       [0.86425245],\n",
              "       [0.86183766],\n",
              "       [0.86656474],\n",
              "       [0.85596356],\n",
              "       [0.85496841],\n",
              "       [0.87958039],\n",
              "       [0.87830675],\n",
              "       [0.86295746],\n",
              "       [0.85517702],\n",
              "       [0.87404272],\n",
              "       [0.87762247],\n",
              "       [0.86134047],\n",
              "       [0.86494821],\n",
              "       [0.87868243],\n",
              "       [0.88761745],\n",
              "       [0.86813697],\n",
              "       [0.86576999],\n",
              "       [0.8796458 ],\n",
              "       [0.8637149 ],\n",
              "       [0.86952283],\n",
              "       [0.87191873],\n",
              "       [0.87859806],\n",
              "       [0.86024854],\n",
              "       [0.8860683 ],\n",
              "       [0.87776123],\n",
              "       [0.86408786],\n",
              "       [0.86183737],\n",
              "       [0.87804703],\n",
              "       [0.87978176],\n",
              "       [0.86196553],\n",
              "       [0.87330085],\n",
              "       [0.88140761],\n",
              "       [0.87200669],\n",
              "       [0.88514788],\n",
              "       [0.86402709],\n",
              "       [0.87284322],\n",
              "       [0.87695802],\n",
              "       [0.87989598],\n",
              "       [0.88717356],\n",
              "       [0.87343226],\n",
              "       [0.87728018],\n",
              "       [0.86302641],\n",
              "       [0.87717188],\n",
              "       [0.85496365],\n",
              "       [0.87804886],\n",
              "       [0.85535373],\n",
              "       [0.86275331],\n",
              "       [0.86634463],\n",
              "       [0.8762503 ],\n",
              "       [0.88586542],\n",
              "       [0.88094383],\n",
              "       [0.87550382],\n",
              "       [0.87897534],\n",
              "       [0.86085004],\n",
              "       [0.86342823],\n",
              "       [0.87267381],\n",
              "       [0.85229036],\n",
              "       [0.8625652 ],\n",
              "       [0.87688337],\n",
              "       [0.87861088],\n",
              "       [0.87505567],\n",
              "       [0.86174066],\n",
              "       [0.87736014],\n",
              "       [0.86826329],\n",
              "       [0.87842066],\n",
              "       [0.87662858],\n",
              "       [0.86241273],\n",
              "       [0.8621916 ],\n",
              "       [0.86903551],\n",
              "       [0.87131179],\n",
              "       [0.86636569],\n",
              "       [0.87955944],\n",
              "       [0.86362624],\n",
              "       [0.88257352],\n",
              "       [0.88477877],\n",
              "       [0.86630785],\n",
              "       [0.88456654],\n",
              "       [0.86724598],\n",
              "       [0.85420014],\n",
              "       [0.86415163],\n",
              "       [0.85850894],\n",
              "       [0.86427651],\n",
              "       [0.86249   ],\n",
              "       [0.86983835],\n",
              "       [0.87920817],\n",
              "       [0.87768516],\n",
              "       [0.88072645],\n",
              "       [0.88650379],\n",
              "       [0.85746283],\n",
              "       [0.87388926],\n",
              "       [0.86230812],\n",
              "       [0.88789924],\n",
              "       [0.86255057],\n",
              "       [0.87407283],\n",
              "       [0.88392863],\n",
              "       [0.87724285],\n",
              "       [0.88653035],\n",
              "       [0.8523229 ],\n",
              "       [0.86760859],\n",
              "       [0.88674896],\n",
              "       [0.87655878],\n",
              "       [0.8658736 ],\n",
              "       [0.88735871],\n",
              "       [0.88591838],\n",
              "       [0.86632238],\n",
              "       [0.85179712],\n",
              "       [0.87195609],\n",
              "       [0.87737648],\n",
              "       [0.87688915],\n",
              "       [0.87863028],\n",
              "       [0.87092856],\n",
              "       [0.86181599],\n",
              "       [0.86989921],\n",
              "       [0.87437317],\n",
              "       [0.8756259 ],\n",
              "       [0.8788757 ],\n",
              "       [0.87112627],\n",
              "       [0.87311651],\n",
              "       [0.87501287],\n",
              "       [0.86734295],\n",
              "       [0.85180381],\n",
              "       [0.86157904],\n",
              "       [0.86304594],\n",
              "       [0.85258967],\n",
              "       [0.88375834],\n",
              "       [0.8537953 ],\n",
              "       [0.87753905],\n",
              "       [0.86258368],\n",
              "       [0.8584197 ],\n",
              "       [0.85206337],\n",
              "       [0.87385477],\n",
              "       [0.87217299],\n",
              "       [0.85950394],\n",
              "       [0.86721492],\n",
              "       [0.87513044],\n",
              "       [0.86301912],\n",
              "       [0.87135493],\n",
              "       [0.87553802],\n",
              "       [0.86031203],\n",
              "       [0.87999028],\n",
              "       [0.88630636],\n",
              "       [0.88231844],\n",
              "       [0.87792045],\n",
              "       [0.88653221],\n",
              "       [0.87319955],\n",
              "       [0.86891147],\n",
              "       [0.8636804 ],\n",
              "       [0.86398453],\n",
              "       [0.87191924],\n",
              "       [0.85412042],\n",
              "       [0.87969584],\n",
              "       [0.87655884],\n",
              "       [0.85970744],\n",
              "       [0.86327748],\n",
              "       [0.87776328],\n",
              "       [0.87439152],\n",
              "       [0.86037519],\n",
              "       [0.87800777],\n",
              "       [0.85149657],\n",
              "       [0.8587724 ],\n",
              "       [0.8828149 ],\n",
              "       [0.86550909],\n",
              "       [0.86466312],\n",
              "       [0.85566013],\n",
              "       [0.87824762],\n",
              "       [0.85366908],\n",
              "       [0.88575583],\n",
              "       [0.88489981],\n",
              "       [0.86775624],\n",
              "       [0.86073252],\n",
              "       [0.86562271],\n",
              "       [0.87890302],\n",
              "       [0.87123246],\n",
              "       [0.88067815],\n",
              "       [0.8531347 ],\n",
              "       [0.85503934],\n",
              "       [0.88386129],\n",
              "       [0.86400664],\n",
              "       [0.85282802],\n",
              "       [0.87736392],\n",
              "       [0.8702488 ],\n",
              "       [0.87973733],\n",
              "       [0.8772268 ],\n",
              "       [0.86862798],\n",
              "       [0.86626774],\n",
              "       [0.8556441 ],\n",
              "       [0.86650114],\n",
              "       [0.88426566],\n",
              "       [0.86140134],\n",
              "       [0.86959906],\n",
              "       [0.87823417],\n",
              "       [0.87566047],\n",
              "       [0.86300799],\n",
              "       [0.85332269],\n",
              "       [0.87681072],\n",
              "       [0.88556686],\n",
              "       [0.86044794],\n",
              "       [0.86120356],\n",
              "       [0.85245897],\n",
              "       [0.85945517],\n",
              "       [0.85158856],\n",
              "       [0.86536913],\n",
              "       [0.87297834],\n",
              "       [0.88523906],\n",
              "       [0.86952994],\n",
              "       [0.87854787],\n",
              "       [0.88495935],\n",
              "       [0.87203936],\n",
              "       [0.87773465],\n",
              "       [0.87566091],\n",
              "       [0.87825586],\n",
              "       [0.8778456 ],\n",
              "       [0.86423863],\n",
              "       [0.85138723],\n",
              "       [0.87715785],\n",
              "       [0.86065508],\n",
              "       [0.87592153],\n",
              "       [0.86117303],\n",
              "       [0.87521267],\n",
              "       [0.8634685 ],\n",
              "       [0.88239268],\n",
              "       [0.87738401],\n",
              "       [0.87460437],\n",
              "       [0.8724679 ],\n",
              "       [0.88510725],\n",
              "       [0.88168995],\n",
              "       [0.85827863],\n",
              "       [0.88016949],\n",
              "       [0.88631595],\n",
              "       [0.86978335],\n",
              "       [0.86823074],\n",
              "       [0.86808502],\n",
              "       [0.86729282],\n",
              "       [0.87208948],\n",
              "       [0.86649717],\n",
              "       [0.87542757],\n",
              "       [0.86145069],\n",
              "       [0.85269447],\n",
              "       [0.87594432],\n",
              "       [0.85837685],\n",
              "       [0.87011761],\n",
              "       [0.87133142],\n",
              "       [0.86251374],\n",
              "       [0.86220409],\n",
              "       [0.8858027 ],\n",
              "       [0.86752476],\n",
              "       [0.86390526],\n",
              "       [0.87957651],\n",
              "       [0.87877188],\n",
              "       [0.86743413],\n",
              "       [0.86572698],\n",
              "       [0.88612395],\n",
              "       [0.88552084],\n",
              "       [0.87473077],\n",
              "       [0.87136838],\n",
              "       [0.88620384],\n",
              "       [0.87880876],\n",
              "       [0.86287737],\n",
              "       [0.87962468],\n",
              "       [0.87177711],\n",
              "       [0.88458103],\n",
              "       [0.86493038],\n",
              "       [0.88243314],\n",
              "       [0.87810363],\n",
              "       [0.87419798],\n",
              "       [0.88667264],\n",
              "       [0.86426625],\n",
              "       [0.87711716],\n",
              "       [0.86337755],\n",
              "       [0.85562169],\n",
              "       [0.87059615],\n",
              "       [0.87297222],\n",
              "       [0.86991677],\n",
              "       [0.8692654 ],\n",
              "       [0.87457335],\n",
              "       [0.85295611],\n",
              "       [0.85380832],\n",
              "       [0.85542609],\n",
              "       [0.87749606],\n",
              "       [0.88031521],\n",
              "       [0.8579181 ],\n",
              "       [0.86863546],\n",
              "       [0.85379088],\n",
              "       [0.86637032],\n",
              "       [0.87362899],\n",
              "       [0.87822701],\n",
              "       [0.86896578],\n",
              "       [0.85532019],\n",
              "       [0.85278476],\n",
              "       [0.88806651],\n",
              "       [0.869608  ],\n",
              "       [0.86519378],\n",
              "       [0.85980446],\n",
              "       [0.87921406],\n",
              "       [0.878771  ],\n",
              "       [0.87826765],\n",
              "       [0.85113221],\n",
              "       [0.88205716],\n",
              "       [0.87317916],\n",
              "       [0.86419647],\n",
              "       [0.8844563 ],\n",
              "       [0.87863327],\n",
              "       [0.87880729],\n",
              "       [0.88501876],\n",
              "       [0.85325826],\n",
              "       [0.87223779],\n",
              "       [0.85343039],\n",
              "       [0.85331374],\n",
              "       [0.85225135],\n",
              "       [0.8626165 ],\n",
              "       [0.87695669],\n",
              "       [0.88610036],\n",
              "       [0.87938222],\n",
              "       [0.86759573],\n",
              "       [0.85520836],\n",
              "       [0.86829361],\n",
              "       [0.85366922],\n",
              "       [0.85921394],\n",
              "       [0.854035  ],\n",
              "       [0.87866159],\n",
              "       [0.86286985],\n",
              "       [0.87440683],\n",
              "       [0.8615676 ],\n",
              "       [0.87509194],\n",
              "       [0.85331214],\n",
              "       [0.86188592],\n",
              "       [0.85250099],\n",
              "       [0.88008746],\n",
              "       [0.86268567],\n",
              "       [0.87857344],\n",
              "       [0.87498163],\n",
              "       [0.87890356],\n",
              "       [0.87927878],\n",
              "       [0.88167815],\n",
              "       [0.88426719],\n",
              "       [0.87879912],\n",
              "       [0.88419673],\n",
              "       [0.86958924],\n",
              "       [0.85508193],\n",
              "       [0.88196955],\n",
              "       [0.87265222],\n",
              "       [0.87268197],\n",
              "       [0.88529116],\n",
              "       [0.87638433],\n",
              "       [0.8635758 ],\n",
              "       [0.86358724],\n",
              "       [0.87671191],\n",
              "       [0.87496251],\n",
              "       [0.88620651],\n",
              "       [0.87838415],\n",
              "       [0.86800273],\n",
              "       [0.86233604],\n",
              "       [0.87969614],\n",
              "       [0.86202386],\n",
              "       [0.85937976],\n",
              "       [0.86242339],\n",
              "       [0.87912323],\n",
              "       [0.88473801],\n",
              "       [0.88327623]])"
            ]
          },
          "metadata": {
            "tags": []
          },
          "execution_count": 71
        }
      ]
    },
    {
      "cell_type": "markdown",
      "metadata": {
        "id": "KxzSJQjNH3FG"
      },
      "source": [
        "## Entrenamos la Red"
      ]
    },
    {
      "cell_type": "code",
      "metadata": {
        "id": "ZwLnvdNfH6ZQ"
      },
      "source": [
        "import time\n",
        "from IPython.display import clear_output"
      ],
      "execution_count": 72,
      "outputs": []
    },
    {
      "cell_type": "code",
      "metadata": {
        "id": "Jq8BLH_CNFvs"
      },
      "source": [
        "neural_n = create_nn(topology, sigma)\n",
        "loss = []"
      ],
      "execution_count": 73,
      "outputs": []
    },
    {
      "cell_type": "markdown",
      "metadata": {
        "id": "ar6jKt7cS1be"
      },
      "source": [
        "Por medio de n cantidad de ciclos, entenamos la red con un radio de aprendizaje de 0.05, luego se imprime la perdida de cada una de las epochs (ciclos de entrenamiento)."
      ]
    },
    {
      "cell_type": "code",
      "metadata": {
        "colab": {
          "base_uri": "https://localhost:8080/",
          "height": 517
        },
        "id": "kbeL9XYsNM9n",
        "outputId": "1252b773-8b28-415a-93bd-059e3e2c8626"
      },
      "source": [
        "for i in range(3000):\n",
        "    pY = train(neural_n, X, Y, l2_cost, lr=0.05)\n",
        "    # print('Ciclo {} --> loss {}'.format(i, pY))\n",
        "\n",
        "    if i % 25 == 0:\n",
        "        loss.append(l2_cost[0](pY, Y))\n",
        "        res = 50\n",
        "        _x0 = np.linspace(-1.5, 1.5, res)\n",
        "        _x1 = np.linspace(-1.5, 1.5, res)\n",
        "        _Y = np.zeros((res, res))\n",
        "\n",
        "        for i0, x0 in enumerate(_x0):\n",
        "            for i1, x1 in enumerate(_x1):\n",
        "                _Y[i0, i1] = train(neural_n, np.array([[x0, x1]]), Y, l2_cost, train=False)[0][0]\n",
        "        \n",
        "        plt.pcolormesh(_x0, _x1, _Y, cmap='coolwarm')\n",
        "        plt.axis('equal')\n",
        "\n",
        "        plt.scatter(X[Y[:, 0]==0,0], X[Y[:, 0]==0,1], c='skyblue')\n",
        "        plt.scatter(X[Y[:, 0]==1,0], X[Y[:, 0]==1,1], c='salmon')\n",
        "\n",
        "        clear_output(wait=True)\n",
        "        plt.show()\n",
        "        plt.plot(range(len(loss)), loss)\n",
        "        plt.show()\n",
        "        time.sleep(0.5)"
      ],
      "execution_count": 74,
      "outputs": [
        {
          "output_type": "display_data",
          "data": {
            "image/png": "[encoded data removed]",
            "text/plain": [
              "<Figure size 432x288 with 1 Axes>"
            ]
          },
          "metadata": {
            "tags": [],
            "needs_background": "light"
          }
        },
        {
          "output_type": "display_data",
          "data": {
            "image/png": "[encoded data removed]",
            "text/plain": [
              "<Figure size 432x288 with 1 Axes>"
            ]
          },
          "metadata": {
            "tags": [],
            "needs_background": "light"
          }
        }
      ]
    }
  ]
}