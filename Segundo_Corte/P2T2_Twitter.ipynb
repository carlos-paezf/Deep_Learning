{
  "nbformat": 4,
  "nbformat_minor": 0,
  "metadata": {
    "colab": {
      "name": "P2T2_Twitter.ipynb",
      "provenance": [],
      "collapsed_sections": []
    },
    "kernelspec": {
      "name": "python3",
      "display_name": "Python 3"
    },
    "language_info": {
      "name": "python"
    }
  },
  "cells": [
    {
      "cell_type": "markdown",
      "metadata": {
        "id": "qiqhdIatzWsQ"
      },
      "source": [
        "# Análisis de Sentimientos"
      ]
    },
    {
      "cell_type": "markdown",
      "metadata": {
        "id": "SuNOg10kzcV5"
      },
      "source": [
        "## Importar librerías"
      ]
    },
    {
      "cell_type": "code",
      "metadata": {
        "id": "5pytucZYylOq"
      },
      "source": [
        "import os\n",
        "import tweepy as tw\n",
        "import pandas as pd"
      ],
      "execution_count": null,
      "outputs": []
    },
    {
      "cell_type": "markdown",
      "metadata": {
        "id": "OvTsSZUszhFr"
      },
      "source": [
        "## Configurar API de Twitter"
      ]
    },
    {
      "cell_type": "markdown",
      "metadata": {
        "id": "ruvmGzyB1R-R"
      },
      "source": [
        "Las siguientes claves, se deben obtener Twitter Developers, en la sección de **Projects & Apps** --> *nombre_proyecto* --> **Keys and Tokens**"
      ]
    },
    {
      "cell_type": "code",
      "metadata": {
        "id": "7-Chm7OUzjho"
      },
      "source": [
        "# Consumer Keys\n",
        "consumer_key = 'u9wwsCjQq7BgY6MVTyMMrWCTD'\n",
        "consumer_secret = '15fch9r8e8FokSnV5tUbyBkHvl0c3ggfJO1XoR0pMsRrORznyB'\n",
        "\n",
        "# Authentication Tokens\n",
        "access_token = '1358586629770928139-tKoBpNFnxWxV9ROmji8LJ1npKpHxky'\n",
        "access_token_secret = 'AERm0fJt2WClhZe4YxIs66I1A3RtDcbw3Ej9cYcWO85bq'"
      ],
      "execution_count": null,
      "outputs": []
    },
    {
      "cell_type": "code",
      "metadata": {
        "id": "Gg_HXBKFzzGM"
      },
      "source": [
        "auth = tw.OAuthHandler(consumer_key, consumer_secret)\n",
        "auth.set_access_token(access_token, access_token_secret)"
      ],
      "execution_count": null,
      "outputs": []
    },
    {
      "cell_type": "code",
      "metadata": {
        "id": "JfPitJpL0Ktw"
      },
      "source": [
        "api = tw.API(auth, wait_on_rate_limit=True)"
      ],
      "execution_count": null,
      "outputs": []
    },
    {
      "cell_type": "markdown",
      "metadata": {
        "id": "5_VmWWEc2I6I"
      },
      "source": [
        "## Realizar un Tweet"
      ]
    },
    {
      "cell_type": "code",
      "metadata": {
        "colab": {
          "base_uri": "https://localhost:8080/"
        },
        "id": "LEprd23J2RKO",
        "outputId": "bed7001b-8130-4108-bfa2-ab070966d779"
      },
      "source": [
        "api.update_status(\"Este es un tweet generado desde Python\")"
      ],
      "execution_count": null,
      "outputs": [
        {
          "output_type": "execute_result",
          "data": {
            "text/plain": [
              "Status(_api=<tweepy.api.API object at 0x7fe53de78a10>, _json={'created_at': 'Sat May 01 19:47:05 +0000 2021', 'id': 1388580754565763074, 'id_str': '1388580754565763074', 'text': 'Este es un tweet generado desde Python', 'truncated': False, 'entities': {'hashtags': [], 'symbols': [], 'user_mentions': [], 'urls': []}, 'source': '<a href=\"https://help.twitter.com/en/using-twitter/how-to-tweet#source-labels\" rel=\"nofollow\">sentiment_analysis_USTA</a>', 'in_reply_to_status_id': None, 'in_reply_to_status_id_str': None, 'in_reply_to_user_id': None, 'in_reply_to_user_id_str': None, 'in_reply_to_screen_name': None, 'user': {'id': 1358586629770928139, 'id_str': '1358586629770928139', 'name': 'David Ferrer', 'screen_name': 'DavidFe22760549', 'location': '', 'description': 'No hay nada para esta biografía.', 'url': None, 'entities': {'description': {'urls': []}}, 'protected': False, 'followers_count': 2, 'friends_count': 17, 'listed_count': 0, 'created_at': 'Mon Feb 08 01:21:31 +0000 2021', 'favourites_count': 3, 'utc_offset': None, 'time_zone': None, 'geo_enabled': False, 'verified': False, 'statuses_count': 3, 'lang': None, 'contributors_enabled': False, 'is_translator': False, 'is_translation_enabled': False, 'profile_background_color': 'F5F8FA', 'profile_background_image_url': None, 'profile_background_image_url_https': None, 'profile_background_tile': False, 'profile_image_url': 'http://pbs.twimg.com/profile_images/1358586822931144707/JR01vQf9_normal.jpg', 'profile_image_url_https': 'https://pbs.twimg.com/profile_images/1358586822931144707/JR01vQf9_normal.jpg', 'profile_link_color': '1DA1F2', 'profile_sidebar_border_color': 'C0DEED', 'profile_sidebar_fill_color': 'DDEEF6', 'profile_text_color': '333333', 'profile_use_background_image': True, 'has_extended_profile': True, 'default_profile': True, 'default_profile_image': False, 'following': False, 'follow_request_sent': False, 'notifications': False, 'translator_type': 'none', 'withheld_in_countries': []}, 'geo': None, 'coordinates': None, 'place': None, 'contributors': None, 'is_quote_status': False, 'retweet_count': 0, 'favorite_count': 0, 'favorited': False, 'retweeted': False, 'lang': 'es'}, created_at=datetime.datetime(2021, 5, 1, 19, 47, 5), id=1388580754565763074, id_str='1388580754565763074', text='Este es un tweet generado desde Python', truncated=False, entities={'hashtags': [], 'symbols': [], 'user_mentions': [], 'urls': []}, source='sentiment_analysis_USTA', source_url='https://help.twitter.com/en/using-twitter/how-to-tweet#source-labels', in_reply_to_status_id=None, in_reply_to_status_id_str=None, in_reply_to_user_id=None, in_reply_to_user_id_str=None, in_reply_to_screen_name=None, author=User(_api=<tweepy.api.API object at 0x7fe53de78a10>, _json={'id': 1358586629770928139, 'id_str': '1358586629770928139', 'name': 'David Ferrer', 'screen_name': 'DavidFe22760549', 'location': '', 'description': 'No hay nada para esta biografía.', 'url': None, 'entities': {'description': {'urls': []}}, 'protected': False, 'followers_count': 2, 'friends_count': 17, 'listed_count': 0, 'created_at': 'Mon Feb 08 01:21:31 +0000 2021', 'favourites_count': 3, 'utc_offset': None, 'time_zone': None, 'geo_enabled': False, 'verified': False, 'statuses_count': 3, 'lang': None, 'contributors_enabled': False, 'is_translator': False, 'is_translation_enabled': False, 'profile_background_color': 'F5F8FA', 'profile_background_image_url': None, 'profile_background_image_url_https': None, 'profile_background_tile': False, 'profile_image_url': 'http://pbs.twimg.com/profile_images/1358586822931144707/JR01vQf9_normal.jpg', 'profile_image_url_https': 'https://pbs.twimg.com/profile_images/1358586822931144707/JR01vQf9_normal.jpg', 'profile_link_color': '1DA1F2', 'profile_sidebar_border_color': 'C0DEED', 'profile_sidebar_fill_color': 'DDEEF6', 'profile_text_color': '333333', 'profile_use_background_image': True, 'has_extended_profile': True, 'default_profile': True, 'default_profile_image': False, 'following': False, 'follow_request_sent': False, 'notifications': False, 'translator_type': 'none', 'withheld_in_countries': []}, id=1358586629770928139, id_str='1358586629770928139', name='David Ferrer', screen_name='DavidFe22760549', location='', description='No hay nada para esta biografía.', url=None, entities={'description': {'urls': []}}, protected=False, followers_count=2, friends_count=17, listed_count=0, created_at=datetime.datetime(2021, 2, 8, 1, 21, 31), favourites_count=3, utc_offset=None, time_zone=None, geo_enabled=False, verified=False, statuses_count=3, lang=None, contributors_enabled=False, is_translator=False, is_translation_enabled=False, profile_background_color='F5F8FA', profile_background_image_url=None, profile_background_image_url_https=None, profile_background_tile=False, profile_image_url='http://pbs.twimg.com/profile_images/1358586822931144707/JR01vQf9_normal.jpg', profile_image_url_https='https://pbs.twimg.com/profile_images/1358586822931144707/JR01vQf9_normal.jpg', profile_link_color='1DA1F2', profile_sidebar_border_color='C0DEED', profile_sidebar_fill_color='DDEEF6', profile_text_color='333333', profile_use_background_image=True, has_extended_profile=True, default_profile=True, default_profile_image=False, following=False, follow_request_sent=False, notifications=False, translator_type='none', withheld_in_countries=[]), user=User(_api=<tweepy.api.API object at 0x7fe53de78a10>, _json={'id': 1358586629770928139, 'id_str': '1358586629770928139', 'name': 'David Ferrer', 'screen_name': 'DavidFe22760549', 'location': '', 'description': 'No hay nada para esta biografía.', 'url': None, 'entities': {'description': {'urls': []}}, 'protected': False, 'followers_count': 2, 'friends_count': 17, 'listed_count': 0, 'created_at': 'Mon Feb 08 01:21:31 +0000 2021', 'favourites_count': 3, 'utc_offset': None, 'time_zone': None, 'geo_enabled': False, 'verified': False, 'statuses_count': 3, 'lang': None, 'contributors_enabled': False, 'is_translator': False, 'is_translation_enabled': False, 'profile_background_color': 'F5F8FA', 'profile_background_image_url': None, 'profile_background_image_url_https': None, 'profile_background_tile': False, 'profile_image_url': 'http://pbs.twimg.com/profile_images/1358586822931144707/JR01vQf9_normal.jpg', 'profile_image_url_https': 'https://pbs.twimg.com/profile_images/1358586822931144707/JR01vQf9_normal.jpg', 'profile_link_color': '1DA1F2', 'profile_sidebar_border_color': 'C0DEED', 'profile_sidebar_fill_color': 'DDEEF6', 'profile_text_color': '333333', 'profile_use_background_image': True, 'has_extended_profile': True, 'default_profile': True, 'default_profile_image': False, 'following': False, 'follow_request_sent': False, 'notifications': False, 'translator_type': 'none', 'withheld_in_countries': []}, id=1358586629770928139, id_str='1358586629770928139', name='David Ferrer', screen_name='DavidFe22760549', location='', description='No hay nada para esta biografía.', url=None, entities={'description': {'urls': []}}, protected=False, followers_count=2, friends_count=17, listed_count=0, created_at=datetime.datetime(2021, 2, 8, 1, 21, 31), favourites_count=3, utc_offset=None, time_zone=None, geo_enabled=False, verified=False, statuses_count=3, lang=None, contributors_enabled=False, is_translator=False, is_translation_enabled=False, profile_background_color='F5F8FA', profile_background_image_url=None, profile_background_image_url_https=None, profile_background_tile=False, profile_image_url='http://pbs.twimg.com/profile_images/1358586822931144707/JR01vQf9_normal.jpg', profile_image_url_https='https://pbs.twimg.com/profile_images/1358586822931144707/JR01vQf9_normal.jpg', profile_link_color='1DA1F2', profile_sidebar_border_color='C0DEED', profile_sidebar_fill_color='DDEEF6', profile_text_color='333333', profile_use_background_image=True, has_extended_profile=True, default_profile=True, default_profile_image=False, following=False, follow_request_sent=False, notifications=False, translator_type='none', withheld_in_countries=[]), geo=None, coordinates=None, place=None, contributors=None, is_quote_status=False, retweet_count=0, favorite_count=0, favorited=False, retweeted=False, lang='es')"
            ]
          },
          "metadata": {
            "tags": []
          },
          "execution_count": 5
        }
      ]
    },
    {
      "cell_type": "markdown",
      "metadata": {
        "id": "nsFc__LQ4C0S"
      },
      "source": [
        "## Obtener data de Twitter"
      ]
    },
    {
      "cell_type": "markdown",
      "metadata": {
        "id": "zkkZr2sE42hR"
      },
      "source": [
        "El método *.Cursor(),* permite hacer una búsqueda, bajo varios parámetros, en este caso, quiero traer los tweets que tengan el #MarvelStudios, escritos desde el 01 de enero de 2020. Con la función *.items()* le pido cuantos deseo entre los más recientes, es recomendable esta opción para evitar ser identificado como bot de ataque, haciendo consultas de aprox 10.000 tweets por consulta "
      ]
    },
    {
      "cell_type": "code",
      "metadata": {
        "id": "t9N0TCUw4Kqs"
      },
      "source": [
        "search_words = '#MarvelStudios'\n",
        "data_since = '2020-01-01'"
      ],
      "execution_count": null,
      "outputs": []
    },
    {
      "cell_type": "code",
      "metadata": {
        "colab": {
          "base_uri": "https://localhost:8080/"
        },
        "id": "UI7Zj92k4gMA",
        "outputId": "777da1c5-0c88-44be-beb9-6a35f9c5143f"
      },
      "source": [
        "tweets = tw.Cursor(api.search, q=search_words, lang='en', since=data_since).items(10)\n",
        "tweets"
      ],
      "execution_count": null,
      "outputs": [
        {
          "output_type": "execute_result",
          "data": {
            "text/plain": [
              "<tweepy.cursor.ItemIterator at 0x7fe53de325d0>"
            ]
          },
          "metadata": {
            "tags": []
          },
          "execution_count": 7
        }
      ]
    },
    {
      "cell_type": "code",
      "metadata": {
        "colab": {
          "base_uri": "https://localhost:8080/"
        },
        "id": "UEJcg9y05jZ-",
        "outputId": "46af73a3-15f2-491b-b035-dd857dd72b69"
      },
      "source": [
        "[tweet.text for tweet in tweets]"
      ],
      "execution_count": null,
      "outputs": [
        {
          "output_type": "execute_result",
          "data": {
            "text/plain": [
              "[\"Stasera mi riguardo Captain America and The Winter Soldier ❤❤ Yep I'm ready #CaptainAmericaAndTheWinterSoldier… https://t.co/sqtUMDnSmm\",\n",
              " 'RT @ArianaG: 3 years since I spoke these words💚💜Happy Anniversary Avengers:Infinity War👽I was 10 years old &amp; it was my 1st movie. I remembe…',\n",
              " 'RT @_CharlesMurphy: First Look at Iman Vellani in Full #MsMarvel Costume on the set of the #DisneyPlus show\\n#Marvel #MCU #MarvelStudios htt…',\n",
              " 'RT @MCUc2c: Our new episode is live! We go back to the early days and talk about the First Avenger...Captain America! Take a listen to see…',\n",
              " \"RT @heroichollywood: It sounds like #ChloeZhao's #Eternals could be the most unique #MarvelStudios film to date.  https://t.co/XvOXBA18KW\",\n",
              " \"It sounds like #ChloeZhao's #Eternals could be the most unique #MarvelStudios film to date.  https://t.co/XvOXBA18KW\",\n",
              " 'Movie night again! Captain Marvel this time! Followed by Iron Man next week! 😁 love my discord family ❤️… https://t.co/HJOdSo1i70',\n",
              " 'Check out Iman Vellani first look in Costume for “Ms.Marvel” #MsMarvel #actress #NationalSuperheroDay… https://t.co/JjOVrmByBq',\n",
              " 'The @disneyplus series #MsMarvel is coming and here is the first look at #ImanVellani as the title character! What… https://t.co/3I0t113hNs',\n",
              " 'RT @MultiverseMurph: First Look at Iman Vellani in Full #MsMarvel Costume on the set of the #DisneyPlus show\\n#Marvel #MCU #MarvelStudios ht…']"
            ]
          },
          "metadata": {
            "tags": []
          },
          "execution_count": 8
        }
      ]
    },
    {
      "cell_type": "markdown",
      "metadata": {
        "id": "8IBmIW_o7j9-"
      },
      "source": [
        "Para evitar los retweets, podemos hacer un filtro"
      ]
    },
    {
      "cell_type": "code",
      "metadata": {
        "id": "WT2O_hpz7pmC"
      },
      "source": [
        "search = search_words + '-filter:retweets'"
      ],
      "execution_count": null,
      "outputs": []
    },
    {
      "cell_type": "code",
      "metadata": {
        "id": "br85v6ha7z2J"
      },
      "source": [
        "tweets = tw.Cursor(api.search, q=search, lang='es', since=data_since).items(1000)"
      ],
      "execution_count": null,
      "outputs": []
    },
    {
      "cell_type": "markdown",
      "metadata": {
        "id": "s9TaCcEe_I0T"
      },
      "source": [
        "Esta línea es recomendable omitir antes de crear el dataframe, puesto que al ejecutarla, se resetea la variable"
      ]
    },
    {
      "cell_type": "code",
      "metadata": {
        "id": "BVxoTq3r8KHO"
      },
      "source": [
        "[tweet.text for tweet in tweets]"
      ],
      "execution_count": null,
      "outputs": []
    },
    {
      "cell_type": "markdown",
      "metadata": {
        "id": "cd6BmS3O-dpn"
      },
      "source": [
        "## Conversión en dataframe"
      ]
    },
    {
      "cell_type": "code",
      "metadata": {
        "id": "nBzq0AHa7FhW"
      },
      "source": [
        "data_frame = [[tweet.user.screen_name, tweet.user.location, tweet.text] for tweet in tweets]"
      ],
      "execution_count": null,
      "outputs": []
    },
    {
      "cell_type": "code",
      "metadata": {
        "id": "6nfPygKW-hJM"
      },
      "source": [
        "tw_df = pd.DataFrame(data=data_frame, columns=['user', 'location', 'text'])"
      ],
      "execution_count": null,
      "outputs": []
    },
    {
      "cell_type": "code",
      "metadata": {
        "colab": {
          "base_uri": "https://localhost:8080/"
        },
        "id": "36c21BQx-xXF",
        "outputId": "c0203efe-3acb-4101-f9db-fd18a0b1173a"
      },
      "source": [
        "tw_df.info()"
      ],
      "execution_count": null,
      "outputs": [
        {
          "output_type": "stream",
          "text": [
            "<class 'pandas.core.frame.DataFrame'>\n",
            "Index: 0 entries\n",
            "Data columns (total 3 columns):\n",
            " #   Column    Non-Null Count  Dtype \n",
            "---  ------    --------------  ----- \n",
            " 0   user      0 non-null      object\n",
            " 1   location  0 non-null      object\n",
            " 2   text      0 non-null      object\n",
            "dtypes: object(3)\n",
            "memory usage: 0.0+ bytes\n"
          ],
          "name": "stdout"
        }
      ]
    },
    {
      "cell_type": "markdown",
      "metadata": {
        "id": "nMgiqQAM_XjM"
      },
      "source": [
        "## Enviar los datos a un CSV"
      ]
    },
    {
      "cell_type": "code",
      "metadata": {
        "colab": {
          "base_uri": "https://localhost:8080/"
        },
        "id": "H_vi8rCPDGJ5",
        "outputId": "4e28e526-0563-4668-b801-94f281c8116c"
      },
      "source": [
        "from google.colab import drive\n",
        "drive.mount('/content/drive')"
      ],
      "execution_count": null,
      "outputs": [
        {
          "output_type": "stream",
          "text": [
            "Drive already mounted at /content/drive; to attempt to forcibly remount, call drive.mount(\"/content/drive\", force_remount=True).\n"
          ],
          "name": "stdout"
        }
      ]
    },
    {
      "cell_type": "code",
      "metadata": {
        "id": "4Z-dc14-_hjR"
      },
      "source": [
        "tw_df.to_csv('/content/drive/MyDrive/Colab Notebooks/marvel_studios_twitter_es.csv', index=False, encoding='utf-8')"
      ],
      "execution_count": null,
      "outputs": []
    }
  ]
}