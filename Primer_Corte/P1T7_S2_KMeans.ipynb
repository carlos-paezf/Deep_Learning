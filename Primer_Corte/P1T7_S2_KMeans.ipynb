{
  "nbformat": 4,
  "nbformat_minor": 0,
  "metadata": {
    "colab": {
      "name": "P1T7_S2_KMeans.ipynb",
      "provenance": [],
      "collapsed_sections": []
    },
    "kernelspec": {
      "name": "python3",
      "display_name": "Python 3"
    },
    "language_info": {
      "name": "python"
    }
  },
  "cells": [
    {
      "cell_type": "markdown",
      "metadata": {
        "id": "jMxIAW2Ak5iq"
      },
      "source": [
        "# K-Means"
      ]
    },
    {
      "cell_type": "markdown",
      "metadata": {
        "id": "GKXDPO9sk9QV"
      },
      "source": [
        "## Ejercicio 1: Datos Bancarios"
      ]
    },
    {
      "cell_type": "markdown",
      "metadata": {
        "id": "3U0UKlnF-pgZ"
      },
      "source": [
        "### Importar Librerias"
      ]
    },
    {
      "cell_type": "code",
      "metadata": {
        "id": "GIv5v-eFkdAK"
      },
      "source": [
        "import numpy as np\n",
        "import pandas as pd\n",
        "import matplotlib.pyplot as plt\n",
        "import seaborn as sns\n",
        "%matplotlib inline"
      ],
      "execution_count": null,
      "outputs": []
    },
    {
      "cell_type": "code",
      "metadata": {
        "id": "BFdLscvum3cG"
      },
      "source": [
        "from sklearn.cluster import KMeans\n",
        "from sklearn.metrics import pairwise_distances_argmin_min\n",
        "\n",
        "from mpl_toolkits.mplot3d import Axes3D"
      ],
      "execution_count": null,
      "outputs": []
    },
    {
      "cell_type": "markdown",
      "metadata": {
        "id": "PuIKriWVntOy"
      },
      "source": [
        "### Conocer la Data"
      ]
    },
    {
      "cell_type": "code",
      "metadata": {
        "id": "BMCS8xErnwOm"
      },
      "source": [
        "prestamos = pd.read_csv(\"https://raw.githubusercontent.com/luisFernandoCastellanosG/Machine_learning/master/Databasets/k-means-prestamos.csv\", encoding='utf-8')"
      ],
      "execution_count": null,
      "outputs": []
    },
    {
      "cell_type": "code",
      "metadata": {
        "colab": {
          "base_uri": "https://localhost:8080/",
          "height": 297
        },
        "id": "h3wRCYnRoHrk",
        "outputId": "d3601e59-2fcc-4c02-a5e6-e4d76bd391d7"
      },
      "source": [
        "prestamos.describe()"
      ],
      "execution_count": null,
      "outputs": [
        {
          "output_type": "execute_result",
          "data": {
            "text/html": [
              "<div>\n",
              "<style scoped>\n",
              "    .dataframe tbody tr th:only-of-type {\n",
              "        vertical-align: middle;\n",
              "    }\n",
              "\n",
              "    .dataframe tbody tr th {\n",
              "        vertical-align: top;\n",
              "    }\n",
              "\n",
              "    .dataframe thead th {\n",
              "        text-align: right;\n",
              "    }\n",
              "</style>\n",
              "<table border=\"1\" class=\"dataframe\">\n",
              "  <thead>\n",
              "    <tr style=\"text-align: right;\">\n",
              "      <th></th>\n",
              "      <th>ApplicantIncome</th>\n",
              "      <th>CoapplicantIncome</th>\n",
              "      <th>LoanAmount</th>\n",
              "      <th>Loan_Amount_Term</th>\n",
              "      <th>Credit_History</th>\n",
              "    </tr>\n",
              "  </thead>\n",
              "  <tbody>\n",
              "    <tr>\n",
              "      <th>count</th>\n",
              "      <td>381.000000</td>\n",
              "      <td>381.000000</td>\n",
              "      <td>381.000000</td>\n",
              "      <td>370.000000</td>\n",
              "      <td>351.000000</td>\n",
              "    </tr>\n",
              "    <tr>\n",
              "      <th>mean</th>\n",
              "      <td>3579.845144</td>\n",
              "      <td>1277.275381</td>\n",
              "      <td>104.986877</td>\n",
              "      <td>340.864865</td>\n",
              "      <td>0.837607</td>\n",
              "    </tr>\n",
              "    <tr>\n",
              "      <th>std</th>\n",
              "      <td>1419.813818</td>\n",
              "      <td>2340.818114</td>\n",
              "      <td>28.358464</td>\n",
              "      <td>68.549257</td>\n",
              "      <td>0.369338</td>\n",
              "    </tr>\n",
              "    <tr>\n",
              "      <th>min</th>\n",
              "      <td>150.000000</td>\n",
              "      <td>0.000000</td>\n",
              "      <td>9.000000</td>\n",
              "      <td>12.000000</td>\n",
              "      <td>0.000000</td>\n",
              "    </tr>\n",
              "    <tr>\n",
              "      <th>25%</th>\n",
              "      <td>2600.000000</td>\n",
              "      <td>0.000000</td>\n",
              "      <td>90.000000</td>\n",
              "      <td>360.000000</td>\n",
              "      <td>1.000000</td>\n",
              "    </tr>\n",
              "    <tr>\n",
              "      <th>50%</th>\n",
              "      <td>3333.000000</td>\n",
              "      <td>983.000000</td>\n",
              "      <td>110.000000</td>\n",
              "      <td>360.000000</td>\n",
              "      <td>1.000000</td>\n",
              "    </tr>\n",
              "    <tr>\n",
              "      <th>75%</th>\n",
              "      <td>4288.000000</td>\n",
              "      <td>2016.000000</td>\n",
              "      <td>127.000000</td>\n",
              "      <td>360.000000</td>\n",
              "      <td>1.000000</td>\n",
              "    </tr>\n",
              "    <tr>\n",
              "      <th>max</th>\n",
              "      <td>9703.000000</td>\n",
              "      <td>33837.000000</td>\n",
              "      <td>150.000000</td>\n",
              "      <td>480.000000</td>\n",
              "      <td>1.000000</td>\n",
              "    </tr>\n",
              "  </tbody>\n",
              "</table>\n",
              "</div>"
            ],
            "text/plain": [
              "       ApplicantIncome  CoapplicantIncome  ...  Loan_Amount_Term  Credit_History\n",
              "count       381.000000         381.000000  ...        370.000000      351.000000\n",
              "mean       3579.845144        1277.275381  ...        340.864865        0.837607\n",
              "std        1419.813818        2340.818114  ...         68.549257        0.369338\n",
              "min         150.000000           0.000000  ...         12.000000        0.000000\n",
              "25%        2600.000000           0.000000  ...        360.000000        1.000000\n",
              "50%        3333.000000         983.000000  ...        360.000000        1.000000\n",
              "75%        4288.000000        2016.000000  ...        360.000000        1.000000\n",
              "max        9703.000000       33837.000000  ...        480.000000        1.000000\n",
              "\n",
              "[8 rows x 5 columns]"
            ]
          },
          "metadata": {
            "tags": []
          },
          "execution_count": 4
        }
      ]
    },
    {
      "cell_type": "code",
      "metadata": {
        "colab": {
          "base_uri": "https://localhost:8080/",
          "height": 373
        },
        "id": "YN3TLZjjoOPu",
        "outputId": "fd19644d-74fa-4b00-e4fb-d2c46f77ed5a"
      },
      "source": [
        "sns.heatmap(prestamos.isnull(), cbar=False, cmap='viridis')"
      ],
      "execution_count": null,
      "outputs": [
        {
          "output_type": "execute_result",
          "data": {
            "text/plain": [
              "<matplotlib.axes._subplots.AxesSubplot at 0x7f707682f710>"
            ]
          },
          "metadata": {
            "tags": []
          },
          "execution_count": 5
        },
        {
          "output_type": "display_data",
          "data": {
            "image/png": "[encoded data removed]",
            "text/plain": [
              "<Figure size 432x288 with 1 Axes>"
            ]
          },
          "metadata": {
            "tags": [],
            "needs_background": "light"
          }
        }
      ]
    },
    {
      "cell_type": "code",
      "metadata": {
        "colab": {
          "base_uri": "https://localhost:8080/",
          "height": 842
        },
        "id": "jGb5oUP29xVV",
        "outputId": "92a6e404-9346-49c6-c31a-e879c289d6fd"
      },
      "source": [
        "prestamos.head(20)"
      ],
      "execution_count": null,
      "outputs": [
        {
          "output_type": "execute_result",
          "data": {
            "text/html": [
              "<div>\n",
              "<style scoped>\n",
              "    .dataframe tbody tr th:only-of-type {\n",
              "        vertical-align: middle;\n",
              "    }\n",
              "\n",
              "    .dataframe tbody tr th {\n",
              "        vertical-align: top;\n",
              "    }\n",
              "\n",
              "    .dataframe thead th {\n",
              "        text-align: right;\n",
              "    }\n",
              "</style>\n",
              "<table border=\"1\" class=\"dataframe\">\n",
              "  <thead>\n",
              "    <tr style=\"text-align: right;\">\n",
              "      <th></th>\n",
              "      <th>Loan_ID</th>\n",
              "      <th>Gender</th>\n",
              "      <th>Married</th>\n",
              "      <th>Dependents</th>\n",
              "      <th>Education</th>\n",
              "      <th>Self_Employed</th>\n",
              "      <th>ApplicantIncome</th>\n",
              "      <th>CoapplicantIncome</th>\n",
              "      <th>LoanAmount</th>\n",
              "      <th>Loan_Amount_Term</th>\n",
              "      <th>Credit_History</th>\n",
              "      <th>Property_Area</th>\n",
              "      <th>Loan_Status</th>\n",
              "    </tr>\n",
              "  </thead>\n",
              "  <tbody>\n",
              "    <tr>\n",
              "      <th>0</th>\n",
              "      <td>LP001003</td>\n",
              "      <td>Male</td>\n",
              "      <td>Yes</td>\n",
              "      <td>1</td>\n",
              "      <td>Graduate</td>\n",
              "      <td>No</td>\n",
              "      <td>4583</td>\n",
              "      <td>1508.0</td>\n",
              "      <td>128.0</td>\n",
              "      <td>360.0</td>\n",
              "      <td>1.0</td>\n",
              "      <td>Rural</td>\n",
              "      <td>N</td>\n",
              "    </tr>\n",
              "    <tr>\n",
              "      <th>1</th>\n",
              "      <td>LP001005</td>\n",
              "      <td>Male</td>\n",
              "      <td>Yes</td>\n",
              "      <td>0</td>\n",
              "      <td>Graduate</td>\n",
              "      <td>Yes</td>\n",
              "      <td>3000</td>\n",
              "      <td>0.0</td>\n",
              "      <td>66.0</td>\n",
              "      <td>360.0</td>\n",
              "      <td>1.0</td>\n",
              "      <td>Urban</td>\n",
              "      <td>Y</td>\n",
              "    </tr>\n",
              "    <tr>\n",
              "      <th>2</th>\n",
              "      <td>LP001006</td>\n",
              "      <td>Male</td>\n",
              "      <td>Yes</td>\n",
              "      <td>0</td>\n",
              "      <td>Not Graduate</td>\n",
              "      <td>No</td>\n",
              "      <td>2583</td>\n",
              "      <td>2358.0</td>\n",
              "      <td>120.0</td>\n",
              "      <td>360.0</td>\n",
              "      <td>1.0</td>\n",
              "      <td>Urban</td>\n",
              "      <td>Y</td>\n",
              "    </tr>\n",
              "    <tr>\n",
              "      <th>3</th>\n",
              "      <td>LP001008</td>\n",
              "      <td>Male</td>\n",
              "      <td>No</td>\n",
              "      <td>0</td>\n",
              "      <td>Graduate</td>\n",
              "      <td>No</td>\n",
              "      <td>6000</td>\n",
              "      <td>0.0</td>\n",
              "      <td>141.0</td>\n",
              "      <td>360.0</td>\n",
              "      <td>1.0</td>\n",
              "      <td>Urban</td>\n",
              "      <td>Y</td>\n",
              "    </tr>\n",
              "    <tr>\n",
              "      <th>4</th>\n",
              "      <td>LP001013</td>\n",
              "      <td>Male</td>\n",
              "      <td>Yes</td>\n",
              "      <td>0</td>\n",
              "      <td>Not Graduate</td>\n",
              "      <td>No</td>\n",
              "      <td>2333</td>\n",
              "      <td>1516.0</td>\n",
              "      <td>95.0</td>\n",
              "      <td>360.0</td>\n",
              "      <td>1.0</td>\n",
              "      <td>Urban</td>\n",
              "      <td>Y</td>\n",
              "    </tr>\n",
              "    <tr>\n",
              "      <th>5</th>\n",
              "      <td>LP001024</td>\n",
              "      <td>Male</td>\n",
              "      <td>Yes</td>\n",
              "      <td>2</td>\n",
              "      <td>Graduate</td>\n",
              "      <td>No</td>\n",
              "      <td>3200</td>\n",
              "      <td>700.0</td>\n",
              "      <td>70.0</td>\n",
              "      <td>360.0</td>\n",
              "      <td>1.0</td>\n",
              "      <td>Urban</td>\n",
              "      <td>Y</td>\n",
              "    </tr>\n",
              "    <tr>\n",
              "      <th>6</th>\n",
              "      <td>LP001027</td>\n",
              "      <td>Male</td>\n",
              "      <td>Yes</td>\n",
              "      <td>2</td>\n",
              "      <td>Graduate</td>\n",
              "      <td>NaN</td>\n",
              "      <td>2500</td>\n",
              "      <td>1840.0</td>\n",
              "      <td>109.0</td>\n",
              "      <td>360.0</td>\n",
              "      <td>1.0</td>\n",
              "      <td>Urban</td>\n",
              "      <td>Y</td>\n",
              "    </tr>\n",
              "    <tr>\n",
              "      <th>7</th>\n",
              "      <td>LP001029</td>\n",
              "      <td>Male</td>\n",
              "      <td>No</td>\n",
              "      <td>0</td>\n",
              "      <td>Graduate</td>\n",
              "      <td>No</td>\n",
              "      <td>1853</td>\n",
              "      <td>2840.0</td>\n",
              "      <td>114.0</td>\n",
              "      <td>360.0</td>\n",
              "      <td>1.0</td>\n",
              "      <td>Rural</td>\n",
              "      <td>N</td>\n",
              "    </tr>\n",
              "    <tr>\n",
              "      <th>8</th>\n",
              "      <td>LP001030</td>\n",
              "      <td>Male</td>\n",
              "      <td>Yes</td>\n",
              "      <td>2</td>\n",
              "      <td>Graduate</td>\n",
              "      <td>No</td>\n",
              "      <td>1299</td>\n",
              "      <td>1086.0</td>\n",
              "      <td>17.0</td>\n",
              "      <td>120.0</td>\n",
              "      <td>1.0</td>\n",
              "      <td>Urban</td>\n",
              "      <td>Y</td>\n",
              "    </tr>\n",
              "    <tr>\n",
              "      <th>9</th>\n",
              "      <td>LP001032</td>\n",
              "      <td>Male</td>\n",
              "      <td>No</td>\n",
              "      <td>0</td>\n",
              "      <td>Graduate</td>\n",
              "      <td>No</td>\n",
              "      <td>4950</td>\n",
              "      <td>0.0</td>\n",
              "      <td>125.0</td>\n",
              "      <td>360.0</td>\n",
              "      <td>1.0</td>\n",
              "      <td>Urban</td>\n",
              "      <td>Y</td>\n",
              "    </tr>\n",
              "    <tr>\n",
              "      <th>10</th>\n",
              "      <td>LP001034</td>\n",
              "      <td>Male</td>\n",
              "      <td>No</td>\n",
              "      <td>1</td>\n",
              "      <td>Not Graduate</td>\n",
              "      <td>No</td>\n",
              "      <td>3596</td>\n",
              "      <td>0.0</td>\n",
              "      <td>100.0</td>\n",
              "      <td>240.0</td>\n",
              "      <td>NaN</td>\n",
              "      <td>Urban</td>\n",
              "      <td>Y</td>\n",
              "    </tr>\n",
              "    <tr>\n",
              "      <th>11</th>\n",
              "      <td>LP001036</td>\n",
              "      <td>Female</td>\n",
              "      <td>No</td>\n",
              "      <td>0</td>\n",
              "      <td>Graduate</td>\n",
              "      <td>No</td>\n",
              "      <td>3510</td>\n",
              "      <td>0.0</td>\n",
              "      <td>76.0</td>\n",
              "      <td>360.0</td>\n",
              "      <td>0.0</td>\n",
              "      <td>Urban</td>\n",
              "      <td>N</td>\n",
              "    </tr>\n",
              "    <tr>\n",
              "      <th>12</th>\n",
              "      <td>LP001038</td>\n",
              "      <td>Male</td>\n",
              "      <td>Yes</td>\n",
              "      <td>0</td>\n",
              "      <td>Not Graduate</td>\n",
              "      <td>No</td>\n",
              "      <td>4887</td>\n",
              "      <td>0.0</td>\n",
              "      <td>133.0</td>\n",
              "      <td>360.0</td>\n",
              "      <td>1.0</td>\n",
              "      <td>Rural</td>\n",
              "      <td>N</td>\n",
              "    </tr>\n",
              "    <tr>\n",
              "      <th>13</th>\n",
              "      <td>LP001041</td>\n",
              "      <td>Male</td>\n",
              "      <td>Yes</td>\n",
              "      <td>0</td>\n",
              "      <td>Graduate</td>\n",
              "      <td>NaN</td>\n",
              "      <td>2600</td>\n",
              "      <td>3500.0</td>\n",
              "      <td>115.0</td>\n",
              "      <td>NaN</td>\n",
              "      <td>1.0</td>\n",
              "      <td>Urban</td>\n",
              "      <td>Y</td>\n",
              "    </tr>\n",
              "    <tr>\n",
              "      <th>14</th>\n",
              "      <td>LP001043</td>\n",
              "      <td>Male</td>\n",
              "      <td>Yes</td>\n",
              "      <td>0</td>\n",
              "      <td>Not Graduate</td>\n",
              "      <td>No</td>\n",
              "      <td>7660</td>\n",
              "      <td>0.0</td>\n",
              "      <td>104.0</td>\n",
              "      <td>360.0</td>\n",
              "      <td>0.0</td>\n",
              "      <td>Urban</td>\n",
              "      <td>N</td>\n",
              "    </tr>\n",
              "    <tr>\n",
              "      <th>15</th>\n",
              "      <td>LP001047</td>\n",
              "      <td>Male</td>\n",
              "      <td>Yes</td>\n",
              "      <td>0</td>\n",
              "      <td>Not Graduate</td>\n",
              "      <td>No</td>\n",
              "      <td>2600</td>\n",
              "      <td>1911.0</td>\n",
              "      <td>116.0</td>\n",
              "      <td>360.0</td>\n",
              "      <td>0.0</td>\n",
              "      <td>Semiurban</td>\n",
              "      <td>N</td>\n",
              "    </tr>\n",
              "    <tr>\n",
              "      <th>16</th>\n",
              "      <td>LP001050</td>\n",
              "      <td>NaN</td>\n",
              "      <td>Yes</td>\n",
              "      <td>2</td>\n",
              "      <td>Not Graduate</td>\n",
              "      <td>No</td>\n",
              "      <td>3365</td>\n",
              "      <td>1917.0</td>\n",
              "      <td>112.0</td>\n",
              "      <td>360.0</td>\n",
              "      <td>0.0</td>\n",
              "      <td>Rural</td>\n",
              "      <td>N</td>\n",
              "    </tr>\n",
              "    <tr>\n",
              "      <th>17</th>\n",
              "      <td>LP001068</td>\n",
              "      <td>Male</td>\n",
              "      <td>Yes</td>\n",
              "      <td>0</td>\n",
              "      <td>Graduate</td>\n",
              "      <td>No</td>\n",
              "      <td>2799</td>\n",
              "      <td>2253.0</td>\n",
              "      <td>122.0</td>\n",
              "      <td>360.0</td>\n",
              "      <td>1.0</td>\n",
              "      <td>Semiurban</td>\n",
              "      <td>Y</td>\n",
              "    </tr>\n",
              "    <tr>\n",
              "      <th>18</th>\n",
              "      <td>LP001073</td>\n",
              "      <td>Male</td>\n",
              "      <td>Yes</td>\n",
              "      <td>2</td>\n",
              "      <td>Not Graduate</td>\n",
              "      <td>No</td>\n",
              "      <td>4226</td>\n",
              "      <td>1040.0</td>\n",
              "      <td>110.0</td>\n",
              "      <td>360.0</td>\n",
              "      <td>1.0</td>\n",
              "      <td>Urban</td>\n",
              "      <td>Y</td>\n",
              "    </tr>\n",
              "    <tr>\n",
              "      <th>19</th>\n",
              "      <td>LP001086</td>\n",
              "      <td>Male</td>\n",
              "      <td>No</td>\n",
              "      <td>0</td>\n",
              "      <td>Not Graduate</td>\n",
              "      <td>No</td>\n",
              "      <td>1442</td>\n",
              "      <td>0.0</td>\n",
              "      <td>35.0</td>\n",
              "      <td>360.0</td>\n",
              "      <td>1.0</td>\n",
              "      <td>Urban</td>\n",
              "      <td>N</td>\n",
              "    </tr>\n",
              "  </tbody>\n",
              "</table>\n",
              "</div>"
            ],
            "text/plain": [
              "     Loan_ID  Gender Married  ... Credit_History Property_Area Loan_Status\n",
              "0   LP001003    Male     Yes  ...            1.0         Rural           N\n",
              "1   LP001005    Male     Yes  ...            1.0         Urban           Y\n",
              "2   LP001006    Male     Yes  ...            1.0         Urban           Y\n",
              "3   LP001008    Male      No  ...            1.0         Urban           Y\n",
              "4   LP001013    Male     Yes  ...            1.0         Urban           Y\n",
              "5   LP001024    Male     Yes  ...            1.0         Urban           Y\n",
              "6   LP001027    Male     Yes  ...            1.0         Urban           Y\n",
              "7   LP001029    Male      No  ...            1.0         Rural           N\n",
              "8   LP001030    Male     Yes  ...            1.0         Urban           Y\n",
              "9   LP001032    Male      No  ...            1.0         Urban           Y\n",
              "10  LP001034    Male      No  ...            NaN         Urban           Y\n",
              "11  LP001036  Female      No  ...            0.0         Urban           N\n",
              "12  LP001038    Male     Yes  ...            1.0         Rural           N\n",
              "13  LP001041    Male     Yes  ...            1.0         Urban           Y\n",
              "14  LP001043    Male     Yes  ...            0.0         Urban           N\n",
              "15  LP001047    Male     Yes  ...            0.0     Semiurban           N\n",
              "16  LP001050     NaN     Yes  ...            0.0         Rural           N\n",
              "17  LP001068    Male     Yes  ...            1.0     Semiurban           Y\n",
              "18  LP001073    Male     Yes  ...            1.0         Urban           Y\n",
              "19  LP001086    Male      No  ...            1.0         Urban           N\n",
              "\n",
              "[20 rows x 13 columns]"
            ]
          },
          "metadata": {
            "tags": []
          },
          "execution_count": 6
        }
      ]
    },
    {
      "cell_type": "code",
      "metadata": {
        "colab": {
          "base_uri": "https://localhost:8080/"
        },
        "id": "W_fs83Xyqaq4",
        "outputId": "702ecfd7-af90-4a0c-b8b2-12f225fa13fc"
      },
      "source": [
        "prestamos.isnull().sum()"
      ],
      "execution_count": null,
      "outputs": [
        {
          "output_type": "execute_result",
          "data": {
            "text/plain": [
              "Loan_ID               0\n",
              "Gender                5\n",
              "Married               0\n",
              "Dependents            8\n",
              "Education             0\n",
              "Self_Employed        21\n",
              "ApplicantIncome       0\n",
              "CoapplicantIncome     0\n",
              "LoanAmount            0\n",
              "Loan_Amount_Term     11\n",
              "Credit_History       30\n",
              "Property_Area         0\n",
              "Loan_Status           0\n",
              "dtype: int64"
            ]
          },
          "metadata": {
            "tags": []
          },
          "execution_count": 7
        }
      ]
    },
    {
      "cell_type": "code",
      "metadata": {
        "colab": {
          "base_uri": "https://localhost:8080/"
        },
        "id": "rhDuI4cSoEza",
        "outputId": "a5198e93-d3f7-436d-e5e9-f170fb753040"
      },
      "source": [
        "prestamos.info()"
      ],
      "execution_count": null,
      "outputs": [
        {
          "output_type": "stream",
          "text": [
            "<class 'pandas.core.frame.DataFrame'>\n",
            "RangeIndex: 381 entries, 0 to 380\n",
            "Data columns (total 13 columns):\n",
            " #   Column             Non-Null Count  Dtype  \n",
            "---  ------             --------------  -----  \n",
            " 0   Loan_ID            381 non-null    object \n",
            " 1   Gender             376 non-null    object \n",
            " 2   Married            381 non-null    object \n",
            " 3   Dependents         373 non-null    object \n",
            " 4   Education          381 non-null    object \n",
            " 5   Self_Employed      360 non-null    object \n",
            " 6   ApplicantIncome    381 non-null    int64  \n",
            " 7   CoapplicantIncome  381 non-null    float64\n",
            " 8   LoanAmount         381 non-null    float64\n",
            " 9   Loan_Amount_Term   370 non-null    float64\n",
            " 10  Credit_History     351 non-null    float64\n",
            " 11  Property_Area      381 non-null    object \n",
            " 12  Loan_Status        381 non-null    object \n",
            "dtypes: float64(4), int64(1), object(8)\n",
            "memory usage: 38.8+ KB\n"
          ],
          "name": "stdout"
        }
      ]
    },
    {
      "cell_type": "markdown",
      "metadata": {
        "id": "gV2IUi1AqJ-u"
      },
      "source": [
        "En este caso encontramos que existen datos nulos en diversos casos, por lo que se debe hacer un inputación en dichos campos."
      ]
    },
    {
      "cell_type": "markdown",
      "metadata": {
        "id": "TzoY8Kb74mat"
      },
      "source": [
        "### Imputación a columnas tipo Float"
      ]
    },
    {
      "cell_type": "markdown",
      "metadata": {
        "id": "K4t-7ONc4vvP"
      },
      "source": [
        "Los campos Loan_Amount_Term, y Credit_History, tienen campos nulos, pero si primero les aplico el LabelEncoder, prodrían llegar a distorcionar los datos, por lo cual primero imputare sus datos nulos. "
      ]
    },
    {
      "cell_type": "markdown",
      "metadata": {
        "id": "VxcArgEJ-5Kp"
      },
      "source": [
        "He decido que para rellenar los datos nulos de las 2 columnas, tomare el promedio de cada una. En el caso de Loan_Amount_Term, los valores son 60, 120, 180, 240, 300, 360, y 480. Y en caso de Credit_History los valores son 0 y 1."
      ]
    },
    {
      "cell_type": "code",
      "metadata": {
        "id": "nQIxbPqY5dK1"
      },
      "source": [
        "def imp_Loan_Amount_Term(col):\n",
        "  loan_amount_term = col[0]\n",
        "\n",
        "  if pd.isnull(loan_amount_term):\n",
        "    return prestamos['Loan_Amount_Term'].mean()\n",
        "  return loan_amount_term"
      ],
      "execution_count": null,
      "outputs": []
    },
    {
      "cell_type": "code",
      "metadata": {
        "id": "iiyINOBV6DDw"
      },
      "source": [
        "prestamos['Loan_Amount_Term'] = prestamos[['Loan_Amount_Term']].apply(imp_Loan_Amount_Term, axis=1)"
      ],
      "execution_count": null,
      "outputs": []
    },
    {
      "cell_type": "code",
      "metadata": {
        "id": "z5_zqO3qAQI9"
      },
      "source": [
        "prestamos['Loan_Amount_Term'] = prestamos['Loan_Amount_Term'].astype('int')"
      ],
      "execution_count": null,
      "outputs": []
    },
    {
      "cell_type": "code",
      "metadata": {
        "id": "jJm_xU_P9Hyv"
      },
      "source": [
        "def imp_Credit_History(col):\n",
        "  credit_history = col[0]\n",
        "\n",
        "  if pd.isnull(credit_history):\n",
        "    return prestamos['Credit_History'].mean()\n",
        "  return credit_history"
      ],
      "execution_count": null,
      "outputs": []
    },
    {
      "cell_type": "code",
      "metadata": {
        "id": "LrlJRYg99di0"
      },
      "source": [
        "prestamos['Credit_History'] = prestamos[['Credit_History']].apply(imp_Credit_History, axis=1)"
      ],
      "execution_count": null,
      "outputs": []
    },
    {
      "cell_type": "code",
      "metadata": {
        "id": "d8MpjzshAbxY"
      },
      "source": [
        "prestamos['Credit_History'] = prestamos['Credit_History'].astype('int')"
      ],
      "execution_count": null,
      "outputs": []
    },
    {
      "cell_type": "code",
      "metadata": {
        "colab": {
          "base_uri": "https://localhost:8080/",
          "height": 373
        },
        "id": "3ZsrDM5N9nHv",
        "outputId": "7ee18f87-affb-4b6a-dfed-59e72496d0cc"
      },
      "source": [
        "sns.heatmap(prestamos.isnull(), cbar=False, cmap='viridis')"
      ],
      "execution_count": null,
      "outputs": [
        {
          "output_type": "execute_result",
          "data": {
            "text/plain": [
              "<matplotlib.axes._subplots.AxesSubplot at 0x7f706da52a50>"
            ]
          },
          "metadata": {
            "tags": []
          },
          "execution_count": 15
        },
        {
          "output_type": "display_data",
          "data": {
            "image/png": "[encoded data removed]",
            "text/plain": [
              "<Figure size 432x288 with 1 Axes>"
            ]
          },
          "metadata": {
            "tags": [],
            "needs_background": "light"
          }
        }
      ]
    },
    {
      "cell_type": "markdown",
      "metadata": {
        "id": "yta6H_0Fq4SN"
      },
      "source": [
        "### Normalización - Imputación de datos"
      ]
    },
    {
      "cell_type": "markdown",
      "metadata": {
        "id": "erByy9dxAoqY"
      },
      "source": [
        "Los campos Gender, Dependents y Self_Employed son campos de tipo Object, ya sea porque son textos, o algunos campos poseen simbolos. A estos campos, les aplico LabelEncoder, pero para imputar los datos debo tener en cuenta algunos aspectos."
      ]
    },
    {
      "cell_type": "code",
      "metadata": {
        "id": "Y3b7xk5Tsy-y"
      },
      "source": [
        "from sklearn import preprocessing\n",
        "label_encoder = preprocessing.LabelEncoder()"
      ],
      "execution_count": null,
      "outputs": []
    },
    {
      "cell_type": "code",
      "metadata": {
        "id": "dCCiu93EuEsW"
      },
      "source": [
        "captura_caracteristicas = [x for x in prestamos.columns if prestamos[x].dtype=='object']"
      ],
      "execution_count": null,
      "outputs": []
    },
    {
      "cell_type": "code",
      "metadata": {
        "id": "l0XVWgf6udgL"
      },
      "source": [
        "for col in captura_caracteristicas:\n",
        "  if col in prestamos.columns:\n",
        "    i = prestamos.columns.get_loc(col)\n",
        "    prestamos.iloc[: , i] = prestamos.apply(lambda i:label_encoder.fit_transform(i.astype(str)), axis=0, result_type='expand')"
      ],
      "execution_count": null,
      "outputs": []
    },
    {
      "cell_type": "code",
      "metadata": {
        "colab": {
          "base_uri": "https://localhost:8080/"
        },
        "id": "ohECLTnDvEub",
        "outputId": "a056b5e6-4b45-4cef-c906-c037dfb25c77"
      },
      "source": [
        "prestamos.info()"
      ],
      "execution_count": null,
      "outputs": [
        {
          "output_type": "stream",
          "text": [
            "<class 'pandas.core.frame.DataFrame'>\n",
            "RangeIndex: 381 entries, 0 to 380\n",
            "Data columns (total 13 columns):\n",
            " #   Column             Non-Null Count  Dtype  \n",
            "---  ------             --------------  -----  \n",
            " 0   Loan_ID            381 non-null    int64  \n",
            " 1   Gender             381 non-null    int64  \n",
            " 2   Married            381 non-null    int64  \n",
            " 3   Dependents         381 non-null    int64  \n",
            " 4   Education          381 non-null    int64  \n",
            " 5   Self_Employed      381 non-null    int64  \n",
            " 6   ApplicantIncome    381 non-null    int64  \n",
            " 7   CoapplicantIncome  381 non-null    float64\n",
            " 8   LoanAmount         381 non-null    float64\n",
            " 9   Loan_Amount_Term   381 non-null    int64  \n",
            " 10  Credit_History     381 non-null    int64  \n",
            " 11  Property_Area      381 non-null    int64  \n",
            " 12  Loan_Status        381 non-null    int64  \n",
            "dtypes: float64(2), int64(11)\n",
            "memory usage: 38.8 KB\n"
          ],
          "name": "stdout"
        }
      ]
    },
    {
      "cell_type": "markdown",
      "metadata": {
        "id": "_Jr0BHmFBvwO"
      },
      "source": [
        "Luego de aplicar el LabelEncoder, los datos nulos de las 3 columnas mencionadas anteriormente, desaparecen, debido a que son asumidas por la función como datos que debe convertir tambien a númerico."
      ]
    },
    {
      "cell_type": "markdown",
      "metadata": {
        "id": "ED6RegoBCAoF"
      },
      "source": [
        "La columna Gender, solo presenta 2 valores Female y Male. Luego de convertise en número, quedan de la siguiente manera:\n",
        "\n",
        "|Valor del Campo|Asignación|\n",
        "|---------------|----------|\n",
        "|Female|0|\n",
        "|Male|1|\n",
        "|NA|2|\n",
        "\n",
        "Es por esta razón que a los campos asignados con el número 2, les aplico la imputación de datos. En este caso, decido imputarlos en base a si tienen un historial crediticio o no."
      ]
    },
    {
      "cell_type": "code",
      "metadata": {
        "id": "tp68jw_wq6rj"
      },
      "source": [
        "def imp_gender(cols):\n",
        "  gender = cols[0]\n",
        "  credit_history = cols[1]\n",
        "\n",
        "  if gender == 2:\n",
        "    return prestamos['Credit_History'].mean()\n",
        "  return gender"
      ],
      "execution_count": null,
      "outputs": []
    },
    {
      "cell_type": "code",
      "metadata": {
        "id": "NPdNjUqiwgJL"
      },
      "source": [
        "prestamos['Gender'] = prestamos[['Gender', 'Credit_History']].apply(imp_gender, axis=1)"
      ],
      "execution_count": null,
      "outputs": []
    },
    {
      "cell_type": "code",
      "metadata": {
        "id": "Mecn6Swr3Q5r"
      },
      "source": [
        "prestamos['Gender'] = prestamos['Gender'].astype('int')"
      ],
      "execution_count": null,
      "outputs": []
    },
    {
      "cell_type": "markdown",
      "metadata": {
        "id": "9uo5OI_XswT1"
      },
      "source": [
        "La columna Dependents queda con la siguiente asignación:\n",
        "\n",
        "|Valor del Campo|Asignación|\n",
        "|---------------|----------|\n",
        "|0|0|\n",
        "|1|1|\n",
        "|2|2|\n",
        "|3+|3|\n",
        "|NA|4|\n",
        "\n",
        "Por tal motivo la imputación la aplico a los campos con un valor de 4, comparandolos con los campos de Married"
      ]
    },
    {
      "cell_type": "code",
      "metadata": {
        "id": "UC80-hArDvP7"
      },
      "source": [
        "def imp_dependents(cols):\n",
        "  dependents = cols[0]\n",
        "  married = cols[1]\n",
        "\n",
        "  if dependents == 4:\n",
        "    if married == 0:\n",
        "      return prestamos[prestamos['Married']==0]['Dependents'].mean()\n",
        "    elif married == 1:\n",
        "      return prestamos[prestamos['Married']==1]['Dependents'].mean()\n",
        "  return dependents"
      ],
      "execution_count": null,
      "outputs": []
    },
    {
      "cell_type": "code",
      "metadata": {
        "id": "n3OuY7iyEg62"
      },
      "source": [
        "prestamos['Dependents'] = prestamos[['Dependents','Married']].apply(imp_dependents, axis=1)"
      ],
      "execution_count": null,
      "outputs": []
    },
    {
      "cell_type": "code",
      "metadata": {
        "id": "gZqDYlwdE28P"
      },
      "source": [
        "prestamos['Dependents'] = prestamos['Dependents'].astype('int')"
      ],
      "execution_count": null,
      "outputs": []
    },
    {
      "cell_type": "markdown",
      "metadata": {
        "id": "XDHR7AUDEt_a"
      },
      "source": [
        "La columna Self_Employed presenta la siguiente asignación:\n",
        "\n",
        "|Valor del Campo|Asignación|\n",
        "|---------------|----------|\n",
        "|No|0|\n",
        "|Yes|1|\n",
        "|NA|2|\n",
        "\n",
        "Los campos nulos los imputo comparando con el género."
      ]
    },
    {
      "cell_type": "code",
      "metadata": {
        "id": "IfhwBxkqE3_E"
      },
      "source": [
        "def imp_Self_Employed(cols):\n",
        "  self_employed = cols[0]\n",
        "  gender = cols[1]\n",
        "\n",
        "  if self_employed == 2:\n",
        "    if gender == 0:\n",
        "      return prestamos[prestamos['Gender']==0]['Self_Employed'].mean()\n",
        "    elif gender == 1:\n",
        "      return prestamos[prestamos['Gender']==1]['Self_Employed'].mean()\n",
        "  return self_employed"
      ],
      "execution_count": null,
      "outputs": []
    },
    {
      "cell_type": "code",
      "metadata": {
        "id": "XKC0ke0CF4nT"
      },
      "source": [
        "prestamos['Self_Employed'] = prestamos[['Self_Employed', 'Gender']].apply(imp_Self_Employed, axis=1)"
      ],
      "execution_count": null,
      "outputs": []
    },
    {
      "cell_type": "code",
      "metadata": {
        "id": "Ej1YY6ZYGB2H"
      },
      "source": [
        "prestamos['Self_Employed'] = prestamos['Self_Employed'].astype('int')"
      ],
      "execution_count": null,
      "outputs": []
    },
    {
      "cell_type": "code",
      "metadata": {
        "colab": {
          "base_uri": "https://localhost:8080/",
          "height": 373
        },
        "id": "fIvFTIhtGI5o",
        "outputId": "4fe3a03d-c92b-4651-a4d3-deef2ec58fcd"
      },
      "source": [
        "sns.heatmap(prestamos.isnull(), cbar=False, cmap='viridis')"
      ],
      "execution_count": null,
      "outputs": [
        {
          "output_type": "execute_result",
          "data": {
            "text/plain": [
              "<matplotlib.axes._subplots.AxesSubplot at 0x7f706d9eed50>"
            ]
          },
          "metadata": {
            "tags": []
          },
          "execution_count": 29
        },
        {
          "output_type": "display_data",
          "data": {
            "image/png": "[encoded data removed]",
            "text/plain": [
              "<Figure size 432x288 with 1 Axes>"
            ]
          },
          "metadata": {
            "tags": [],
            "needs_background": "light"
          }
        }
      ]
    },
    {
      "cell_type": "code",
      "metadata": {
        "colab": {
          "base_uri": "https://localhost:8080/"
        },
        "id": "vcX_I7wyGp_a",
        "outputId": "1c68f32e-3340-45e4-c88a-fc19f8b87d8a"
      },
      "source": [
        "prestamos.info()"
      ],
      "execution_count": null,
      "outputs": [
        {
          "output_type": "stream",
          "text": [
            "<class 'pandas.core.frame.DataFrame'>\n",
            "RangeIndex: 381 entries, 0 to 380\n",
            "Data columns (total 13 columns):\n",
            " #   Column             Non-Null Count  Dtype  \n",
            "---  ------             --------------  -----  \n",
            " 0   Loan_ID            381 non-null    int64  \n",
            " 1   Gender             381 non-null    int64  \n",
            " 2   Married            381 non-null    int64  \n",
            " 3   Dependents         381 non-null    int64  \n",
            " 4   Education          381 non-null    int64  \n",
            " 5   Self_Employed      381 non-null    int64  \n",
            " 6   ApplicantIncome    381 non-null    int64  \n",
            " 7   CoapplicantIncome  381 non-null    float64\n",
            " 8   LoanAmount         381 non-null    float64\n",
            " 9   Loan_Amount_Term   381 non-null    int64  \n",
            " 10  Credit_History     381 non-null    int64  \n",
            " 11  Property_Area      381 non-null    int64  \n",
            " 12  Loan_Status        381 non-null    int64  \n",
            "dtypes: float64(2), int64(11)\n",
            "memory usage: 38.8 KB\n"
          ],
          "name": "stdout"
        }
      ]
    },
    {
      "cell_type": "markdown",
      "metadata": {
        "id": "Ci0BoJMOHAin"
      },
      "source": [
        "A las columnas de CoapplicantIncome y LoanAmount, decido convertirlas a tipo entero. La primera columna presenta muy pocos datos flotantes, por lo que su conversión no representa un gran riesgo a la estadística final. La segunda columna no presenta decimales, los datos solo estan acompoñados por un .0"
      ]
    },
    {
      "cell_type": "code",
      "metadata": {
        "id": "BctyZPlSHf4w"
      },
      "source": [
        "prestamos['CoapplicantIncome'] = prestamos['CoapplicantIncome'].astype('int')\n",
        "prestamos['LoanAmount'] = prestamos['LoanAmount'].astype('int')"
      ],
      "execution_count": null,
      "outputs": []
    },
    {
      "cell_type": "code",
      "metadata": {
        "colab": {
          "base_uri": "https://localhost:8080/"
        },
        "id": "xrzLVrrqHwa_",
        "outputId": "8ad7b24e-ed6d-4f19-bbc8-ff2e0c974756"
      },
      "source": [
        "prestamos.info()"
      ],
      "execution_count": null,
      "outputs": [
        {
          "output_type": "stream",
          "text": [
            "<class 'pandas.core.frame.DataFrame'>\n",
            "RangeIndex: 381 entries, 0 to 380\n",
            "Data columns (total 13 columns):\n",
            " #   Column             Non-Null Count  Dtype\n",
            "---  ------             --------------  -----\n",
            " 0   Loan_ID            381 non-null    int64\n",
            " 1   Gender             381 non-null    int64\n",
            " 2   Married            381 non-null    int64\n",
            " 3   Dependents         381 non-null    int64\n",
            " 4   Education          381 non-null    int64\n",
            " 5   Self_Employed      381 non-null    int64\n",
            " 6   ApplicantIncome    381 non-null    int64\n",
            " 7   CoapplicantIncome  381 non-null    int64\n",
            " 8   LoanAmount         381 non-null    int64\n",
            " 9   Loan_Amount_Term   381 non-null    int64\n",
            " 10  Credit_History     381 non-null    int64\n",
            " 11  Property_Area      381 non-null    int64\n",
            " 12  Loan_Status        381 non-null    int64\n",
            "dtypes: int64(13)\n",
            "memory usage: 38.8 KB\n"
          ],
          "name": "stdout"
        }
      ]
    },
    {
      "cell_type": "markdown",
      "metadata": {
        "id": "opWzEakbIAnV"
      },
      "source": [
        "### Graficar la Data"
      ]
    },
    {
      "cell_type": "code",
      "metadata": {
        "colab": {
          "base_uri": "https://localhost:8080/",
          "height": 317
        },
        "id": "Ci1XHI04u5kt",
        "outputId": "257fa592-cad7-40a9-9ae0-5822e73ad4f1"
      },
      "source": [
        "prestamos.describe()"
      ],
      "execution_count": null,
      "outputs": [
        {
          "output_type": "execute_result",
          "data": {
            "text/html": [
              "<div>\n",
              "<style scoped>\n",
              "    .dataframe tbody tr th:only-of-type {\n",
              "        vertical-align: middle;\n",
              "    }\n",
              "\n",
              "    .dataframe tbody tr th {\n",
              "        vertical-align: top;\n",
              "    }\n",
              "\n",
              "    .dataframe thead th {\n",
              "        text-align: right;\n",
              "    }\n",
              "</style>\n",
              "<table border=\"1\" class=\"dataframe\">\n",
              "  <thead>\n",
              "    <tr style=\"text-align: right;\">\n",
              "      <th></th>\n",
              "      <th>Loan_ID</th>\n",
              "      <th>Gender</th>\n",
              "      <th>Married</th>\n",
              "      <th>Dependents</th>\n",
              "      <th>Education</th>\n",
              "      <th>Self_Employed</th>\n",
              "      <th>ApplicantIncome</th>\n",
              "      <th>CoapplicantIncome</th>\n",
              "      <th>LoanAmount</th>\n",
              "      <th>Loan_Amount_Term</th>\n",
              "      <th>Credit_History</th>\n",
              "      <th>Property_Area</th>\n",
              "      <th>Loan_Status</th>\n",
              "    </tr>\n",
              "  </thead>\n",
              "  <tbody>\n",
              "    <tr>\n",
              "      <th>count</th>\n",
              "      <td>381.000000</td>\n",
              "      <td>381.000000</td>\n",
              "      <td>381.000000</td>\n",
              "      <td>381.000000</td>\n",
              "      <td>381.000000</td>\n",
              "      <td>381.000000</td>\n",
              "      <td>381.000000</td>\n",
              "      <td>381.000000</td>\n",
              "      <td>381.000000</td>\n",
              "      <td>381.000000</td>\n",
              "      <td>381.000000</td>\n",
              "      <td>381.000000</td>\n",
              "      <td>381.000000</td>\n",
              "    </tr>\n",
              "    <tr>\n",
              "      <th>mean</th>\n",
              "      <td>190.000000</td>\n",
              "      <td>0.763780</td>\n",
              "      <td>0.598425</td>\n",
              "      <td>0.677165</td>\n",
              "      <td>0.270341</td>\n",
              "      <td>0.091864</td>\n",
              "      <td>3579.845144</td>\n",
              "      <td>1277.272966</td>\n",
              "      <td>104.986877</td>\n",
              "      <td>340.839895</td>\n",
              "      <td>0.771654</td>\n",
              "      <td>1.052493</td>\n",
              "      <td>0.711286</td>\n",
              "    </tr>\n",
              "    <tr>\n",
              "      <th>std</th>\n",
              "      <td>110.129469</td>\n",
              "      <td>0.425318</td>\n",
              "      <td>0.490861</td>\n",
              "      <td>0.985809</td>\n",
              "      <td>0.444720</td>\n",
              "      <td>0.289213</td>\n",
              "      <td>1419.813818</td>\n",
              "      <td>2340.818546</td>\n",
              "      <td>28.358464</td>\n",
              "      <td>67.549967</td>\n",
              "      <td>0.420319</td>\n",
              "      <td>0.779592</td>\n",
              "      <td>0.453761</td>\n",
              "    </tr>\n",
              "    <tr>\n",
              "      <th>min</th>\n",
              "      <td>0.000000</td>\n",
              "      <td>0.000000</td>\n",
              "      <td>0.000000</td>\n",
              "      <td>0.000000</td>\n",
              "      <td>0.000000</td>\n",
              "      <td>0.000000</td>\n",
              "      <td>150.000000</td>\n",
              "      <td>0.000000</td>\n",
              "      <td>9.000000</td>\n",
              "      <td>12.000000</td>\n",
              "      <td>0.000000</td>\n",
              "      <td>0.000000</td>\n",
              "      <td>0.000000</td>\n",
              "    </tr>\n",
              "    <tr>\n",
              "      <th>25%</th>\n",
              "      <td>95.000000</td>\n",
              "      <td>1.000000</td>\n",
              "      <td>0.000000</td>\n",
              "      <td>0.000000</td>\n",
              "      <td>0.000000</td>\n",
              "      <td>0.000000</td>\n",
              "      <td>2600.000000</td>\n",
              "      <td>0.000000</td>\n",
              "      <td>90.000000</td>\n",
              "      <td>360.000000</td>\n",
              "      <td>1.000000</td>\n",
              "      <td>0.000000</td>\n",
              "      <td>0.000000</td>\n",
              "    </tr>\n",
              "    <tr>\n",
              "      <th>50%</th>\n",
              "      <td>190.000000</td>\n",
              "      <td>1.000000</td>\n",
              "      <td>1.000000</td>\n",
              "      <td>0.000000</td>\n",
              "      <td>0.000000</td>\n",
              "      <td>0.000000</td>\n",
              "      <td>3333.000000</td>\n",
              "      <td>983.000000</td>\n",
              "      <td>110.000000</td>\n",
              "      <td>360.000000</td>\n",
              "      <td>1.000000</td>\n",
              "      <td>1.000000</td>\n",
              "      <td>1.000000</td>\n",
              "    </tr>\n",
              "    <tr>\n",
              "      <th>75%</th>\n",
              "      <td>285.000000</td>\n",
              "      <td>1.000000</td>\n",
              "      <td>1.000000</td>\n",
              "      <td>1.000000</td>\n",
              "      <td>1.000000</td>\n",
              "      <td>0.000000</td>\n",
              "      <td>4288.000000</td>\n",
              "      <td>2016.000000</td>\n",
              "      <td>127.000000</td>\n",
              "      <td>360.000000</td>\n",
              "      <td>1.000000</td>\n",
              "      <td>2.000000</td>\n",
              "      <td>1.000000</td>\n",
              "    </tr>\n",
              "    <tr>\n",
              "      <th>max</th>\n",
              "      <td>380.000000</td>\n",
              "      <td>1.000000</td>\n",
              "      <td>1.000000</td>\n",
              "      <td>3.000000</td>\n",
              "      <td>1.000000</td>\n",
              "      <td>1.000000</td>\n",
              "      <td>9703.000000</td>\n",
              "      <td>33837.000000</td>\n",
              "      <td>150.000000</td>\n",
              "      <td>480.000000</td>\n",
              "      <td>1.000000</td>\n",
              "      <td>2.000000</td>\n",
              "      <td>1.000000</td>\n",
              "    </tr>\n",
              "  </tbody>\n",
              "</table>\n",
              "</div>"
            ],
            "text/plain": [
              "          Loan_ID      Gender  ...  Property_Area  Loan_Status\n",
              "count  381.000000  381.000000  ...     381.000000   381.000000\n",
              "mean   190.000000    0.763780  ...       1.052493     0.711286\n",
              "std    110.129469    0.425318  ...       0.779592     0.453761\n",
              "min      0.000000    0.000000  ...       0.000000     0.000000\n",
              "25%     95.000000    1.000000  ...       0.000000     0.000000\n",
              "50%    190.000000    1.000000  ...       1.000000     1.000000\n",
              "75%    285.000000    1.000000  ...       2.000000     1.000000\n",
              "max    380.000000    1.000000  ...       2.000000     1.000000\n",
              "\n",
              "[8 rows x 13 columns]"
            ]
          },
          "metadata": {
            "tags": []
          },
          "execution_count": 33
        }
      ]
    },
    {
      "cell_type": "code",
      "metadata": {
        "colab": {
          "base_uri": "https://localhost:8080/",
          "height": 373
        },
        "id": "nMsd-LALvwyX",
        "outputId": "b5214008-6f5c-4dfa-e2b9-72a860d31637"
      },
      "source": [
        "corr_matrix = prestamos.corr().round(2)\n",
        "sns.heatmap(corr_matrix, annot=True, annot_kws={'size': 12})"
      ],
      "execution_count": null,
      "outputs": [
        {
          "output_type": "execute_result",
          "data": {
            "text/plain": [
              "<matplotlib.axes._subplots.AxesSubplot at 0x7f706ab99f90>"
            ]
          },
          "metadata": {
            "tags": []
          },
          "execution_count": 37
        },
        {
          "output_type": "display_data",
          "data": {
            "image/png": "[encoded data removed]",
            "text/plain": [
              "<Figure size 432x288 with 2 Axes>"
            ]
          },
          "metadata": {
            "tags": [],
            "needs_background": "light"
          }
        }
      ]
    },
    {
      "cell_type": "markdown",
      "metadata": {
        "id": "qpyD6Fv1x_u4"
      },
      "source": [
        "El ejercicio quiere evaluar si es apto o no hacerle el préstamo a una persona, para ello, los campos \"mas importantes\" son LoanAmount y ApplicantIncome"
      ]
    },
    {
      "cell_type": "code",
      "metadata": {
        "colab": {
          "base_uri": "https://localhost:8080/",
          "height": 279
        },
        "id": "_U8vMRDexwck",
        "outputId": "d5e3f914-d0df-49cc-e6ea-f2a9cc082fa0"
      },
      "source": [
        "X = prestamos[[\"LoanAmount\",\"ApplicantIncome\"]]\n",
        "\n",
        "plt.scatter(X[\"ApplicantIncome\"], X[\"LoanAmount\"], c='black')\n",
        "plt.xlabel('Ingresos de cliente')\n",
        "plt.ylabel('Monto del prestamo (en miles)')\n",
        "plt.show()"
      ],
      "execution_count": 38,
      "outputs": [
        {
          "output_type": "display_data",
          "data": {
            "image/png": "[encoded data removed]",
            "text/plain": [
              "<Figure size 432x288 with 1 Axes>"
            ]
          },
          "metadata": {
            "tags": [],
            "needs_background": "light"
          }
        }
      ]
    },
    {
      "cell_type": "markdown",
      "metadata": {
        "id": "msdk26nbyd8h"
      },
      "source": [
        "### Buscar los Centroides"
      ]
    },
    {
      "cell_type": "markdown",
      "metadata": {
        "id": "AYF66niLylBM"
      },
      "source": [
        "La sigla WCSS se refiere a la Suma de Cuadrados de las Distancias"
      ]
    },
    {
      "cell_type": "code",
      "metadata": {
        "colab": {
          "base_uri": "https://localhost:8080/",
          "height": 295
        },
        "id": "STp9nr80ydR_",
        "outputId": "ade50a6d-68be-481f-e583-20b6d338b313"
      },
      "source": [
        "wcss = []\n",
        "for i in range(1, 30):\n",
        "    kmeans = KMeans(n_clusters=i, init='k-means++', max_iter=300, n_init=10, random_state=0)\n",
        "    kmeans.fit(X)\n",
        "    wcss.append(kmeans.inertia_)\n",
        "\n",
        "plt.plot(range(1, 30), wcss)\n",
        "plt.title('Método de codo')\n",
        "plt.xlabel('Numero de clusters')\n",
        "plt.ylabel('WCSS')\n",
        "plt.show()"
      ],
      "execution_count": 39,
      "outputs": [
        {
          "output_type": "display_data",
          "data": {
            "image/png": "[encoded data removed]",
            "text/plain": [
              "<Figure size 432x288 with 1 Axes>"
            ]
          },
          "metadata": {
            "tags": [],
            "needs_background": "light"
          }
        }
      ]
    },
    {
      "cell_type": "code",
      "metadata": {
        "colab": {
          "base_uri": "https://localhost:8080/"
        },
        "id": "F8TnxDKay-IU",
        "outputId": "efcc1c65-86bd-49d6-d03d-19d9a01d5f9f"
      },
      "source": [
        "kmeans = KMeans(n_clusters=5).fit(X)\n",
        "centroids = kmeans.cluster_centers_\n",
        "labels = kmeans.predict(X)\n",
        "\n",
        "print(centroids)\n",
        "print(labels)"
      ],
      "execution_count": 40,
      "outputs": [
        {
          "output_type": "stream",
          "text": [
            "[[ 112.94805195 4482.49350649]\n",
            " [  95.96581197 2196.5042735 ]\n",
            " [ 117.23076923 7852.07692308]\n",
            " [ 103.7972028  3332.02097902]\n",
            " [ 119.61290323 5910.38709677]]\n",
            "[0 3 1 4 1 3 1 1 1 0 3 3 0 1 2 1 3 3 0 1 3 3 0 3 1 3 3 3 1 1 0 0 3 4 4 1 0\n",
            " 1 3 0 0 1 1 3 3 1 3 0 3 2 0 1 3 0 3 1 3 3 0 1 3 1 3 3 0 3 1 1 0 1 0 3 2 1\n",
            " 4 3 0 1 0 1 3 3 1 1 3 0 0 3 0 1 1 1 0 4 1 3 3 1 3 2 0 1 1 1 3 0 3 1 3 1 1\n",
            " 0 3 1 1 0 3 0 1 3 1 3 0 0 3 0 1 3 3 4 3 3 1 3 0 0 1 0 3 4 0 1 3 3 3 3 3 3\n",
            " 4 1 4 3 4 2 4 3 1 3 1 4 4 0 1 2 0 0 3 3 3 3 1 3 1 3 0 0 1 1 3 1 3 0 3 0 3\n",
            " 4 0 0 1 1 3 0 1 0 3 1 3 3 1 4 3 3 1 3 1 0 3 0 0 1 0 3 3 4 0 1 3 1 3 1 4 1\n",
            " 3 3 3 0 0 3 4 4 1 0 3 1 0 2 0 3 4 3 2 0 3 1 1 4 1 1 3 3 3 3 3 1 3 1 1 1 0\n",
            " 1 1 3 1 3 1 3 4 1 1 2 1 0 4 3 1 2 4 1 3 1 2 0 3 0 3 3 1 1 0 1 2 3 0 0 2 0\n",
            " 0 4 3 1 0 1 0 1 3 3 1 1 3 1 1 3 3 3 1 0 3 1 3 0 3 3 3 3 1 3 1 3 3 1 1 4 3\n",
            " 1 4 0 3 1 3 3 0 1 3 1 3 3 1 0 3 3 4 1 3 4 0 3 3 1 3 4 3 3 3 1 1 3 1 3 1 1\n",
            " 0 1 3 3 3 3 4 3 3 0 0]\n"
          ],
          "name": "stdout"
        }
      ]
    },
    {
      "cell_type": "code",
      "metadata": {
        "colab": {
          "base_uri": "https://localhost:8080/"
        },
        "id": "RxtIm1L0zGWP",
        "outputId": "f9e9e31e-49b8-4323-ff9a-9b9e56b99cf9"
      },
      "source": [
        "colores=['blue','red','green','yellow','cyan']\n",
        "asignar=[]\n",
        "for row in labels:\n",
        "    asignar.append(colores[row])\n",
        "print(centroids[:, 0])"
      ],
      "execution_count": 41,
      "outputs": [
        {
          "output_type": "stream",
          "text": [
            "[112.94805195  95.96581197 117.23076923 103.7972028  119.61290323]\n"
          ],
          "name": "stdout"
        }
      ]
    },
    {
      "cell_type": "markdown",
      "metadata": {
        "id": "6uUWJY85zSpT"
      },
      "source": [
        "A continuacíon se muestran los grupos según el aplicante y los ingresos del mismo"
      ]
    },
    {
      "cell_type": "code",
      "metadata": {
        "colab": {
          "base_uri": "https://localhost:8080/",
          "height": 265
        },
        "id": "3ZpwDFjJzOK2",
        "outputId": "83328724-c5c9-4b4c-8437-f36c85c1b2cc"
      },
      "source": [
        "f1 = prestamos['ApplicantIncome'].values\n",
        "f2 = prestamos['LoanAmount'].values\n",
        " \n",
        "plt.scatter(f1, f2, c=asignar)\n",
        "plt.scatter(centroids[:, 1], centroids[:, 0], marker='*', c='black', s=100)\n",
        "plt.show()"
      ],
      "execution_count": 43,
      "outputs": [
        {
          "output_type": "display_data",
          "data": {
            "image/png": "[encoded data removed]",
            "text/plain": [
              "<Figure size 432x288 with 1 Axes>"
            ]
          },
          "metadata": {
            "tags": [],
            "needs_background": "light"
          }
        }
      ]
    },
    {
      "cell_type": "markdown",
      "metadata": {
        "id": "Z_WdFq0ozvCY"
      },
      "source": [
        "### Análisis en Tablas"
      ]
    },
    {
      "cell_type": "markdown",
      "metadata": {
        "id": "7SxrBzJZ0Pw8"
      },
      "source": [
        "Luego de hacer la normalización de datos, los valores de Education quedaron de la siguiente manera:\n",
        "\n",
        "|Valor original|Asignado|\n",
        "|--------------|--------|\n",
        "|Graduate|0|\n",
        "|Not Graduate|1|"
      ]
    },
    {
      "cell_type": "code",
      "metadata": {
        "colab": {
          "base_uri": "https://localhost:8080/",
          "height": 204
        },
        "id": "YGfyLNGkzytz",
        "outputId": "cc939347-7590-4aa3-faac-76f199a30479"
      },
      "source": [
        "df_cluster = pd.DataFrame()\n",
        "\n",
        "df_cluster['data_index'] = prestamos.index.values\n",
        "df_cluster['data_index'] = prestamos.Education\n",
        "df_cluster['cluster'] = kmeans.labels_\n",
        "df_cluster.head()"
      ],
      "execution_count": 44,
      "outputs": [
        {
          "output_type": "execute_result",
          "data": {
            "text/html": [
              "<div>\n",
              "<style scoped>\n",
              "    .dataframe tbody tr th:only-of-type {\n",
              "        vertical-align: middle;\n",
              "    }\n",
              "\n",
              "    .dataframe tbody tr th {\n",
              "        vertical-align: top;\n",
              "    }\n",
              "\n",
              "    .dataframe thead th {\n",
              "        text-align: right;\n",
              "    }\n",
              "</style>\n",
              "<table border=\"1\" class=\"dataframe\">\n",
              "  <thead>\n",
              "    <tr style=\"text-align: right;\">\n",
              "      <th></th>\n",
              "      <th>data_index</th>\n",
              "      <th>cluster</th>\n",
              "    </tr>\n",
              "  </thead>\n",
              "  <tbody>\n",
              "    <tr>\n",
              "      <th>0</th>\n",
              "      <td>0</td>\n",
              "      <td>0</td>\n",
              "    </tr>\n",
              "    <tr>\n",
              "      <th>1</th>\n",
              "      <td>0</td>\n",
              "      <td>3</td>\n",
              "    </tr>\n",
              "    <tr>\n",
              "      <th>2</th>\n",
              "      <td>1</td>\n",
              "      <td>1</td>\n",
              "    </tr>\n",
              "    <tr>\n",
              "      <th>3</th>\n",
              "      <td>0</td>\n",
              "      <td>4</td>\n",
              "    </tr>\n",
              "    <tr>\n",
              "      <th>4</th>\n",
              "      <td>1</td>\n",
              "      <td>1</td>\n",
              "    </tr>\n",
              "  </tbody>\n",
              "</table>\n",
              "</div>"
            ],
            "text/plain": [
              "   data_index  cluster\n",
              "0           0        0\n",
              "1           0        3\n",
              "2           1        1\n",
              "3           0        4\n",
              "4           1        1"
            ]
          },
          "metadata": {
            "tags": []
          },
          "execution_count": 44
        }
      ]
    },
    {
      "cell_type": "code",
      "metadata": {
        "colab": {
          "base_uri": "https://localhost:8080/",
          "height": 1000
        },
        "id": "2bprxqmF0KUC",
        "outputId": "c743cc5e-cd09-4095-859a-54da4c46d6f4"
      },
      "source": [
        "df_cluster[df_cluster.cluster == 4]"
      ],
      "execution_count": 47,
      "outputs": [
        {
          "output_type": "execute_result",
          "data": {
            "text/html": [
              "<div>\n",
              "<style scoped>\n",
              "    .dataframe tbody tr th:only-of-type {\n",
              "        vertical-align: middle;\n",
              "    }\n",
              "\n",
              "    .dataframe tbody tr th {\n",
              "        vertical-align: top;\n",
              "    }\n",
              "\n",
              "    .dataframe thead th {\n",
              "        text-align: right;\n",
              "    }\n",
              "</style>\n",
              "<table border=\"1\" class=\"dataframe\">\n",
              "  <thead>\n",
              "    <tr style=\"text-align: right;\">\n",
              "      <th></th>\n",
              "      <th>data_index</th>\n",
              "      <th>cluster</th>\n",
              "    </tr>\n",
              "  </thead>\n",
              "  <tbody>\n",
              "    <tr>\n",
              "      <th>3</th>\n",
              "      <td>0</td>\n",
              "      <td>4</td>\n",
              "    </tr>\n",
              "    <tr>\n",
              "      <th>33</th>\n",
              "      <td>0</td>\n",
              "      <td>4</td>\n",
              "    </tr>\n",
              "    <tr>\n",
              "      <th>34</th>\n",
              "      <td>0</td>\n",
              "      <td>4</td>\n",
              "    </tr>\n",
              "    <tr>\n",
              "      <th>74</th>\n",
              "      <td>0</td>\n",
              "      <td>4</td>\n",
              "    </tr>\n",
              "    <tr>\n",
              "      <th>93</th>\n",
              "      <td>0</td>\n",
              "      <td>4</td>\n",
              "    </tr>\n",
              "    <tr>\n",
              "      <th>129</th>\n",
              "      <td>1</td>\n",
              "      <td>4</td>\n",
              "    </tr>\n",
              "    <tr>\n",
              "      <th>139</th>\n",
              "      <td>0</td>\n",
              "      <td>4</td>\n",
              "    </tr>\n",
              "    <tr>\n",
              "      <th>148</th>\n",
              "      <td>0</td>\n",
              "      <td>4</td>\n",
              "    </tr>\n",
              "    <tr>\n",
              "      <th>150</th>\n",
              "      <td>0</td>\n",
              "      <td>4</td>\n",
              "    </tr>\n",
              "    <tr>\n",
              "      <th>152</th>\n",
              "      <td>0</td>\n",
              "      <td>4</td>\n",
              "    </tr>\n",
              "    <tr>\n",
              "      <th>154</th>\n",
              "      <td>1</td>\n",
              "      <td>4</td>\n",
              "    </tr>\n",
              "    <tr>\n",
              "      <th>159</th>\n",
              "      <td>1</td>\n",
              "      <td>4</td>\n",
              "    </tr>\n",
              "    <tr>\n",
              "      <th>160</th>\n",
              "      <td>0</td>\n",
              "      <td>4</td>\n",
              "    </tr>\n",
              "    <tr>\n",
              "      <th>185</th>\n",
              "      <td>0</td>\n",
              "      <td>4</td>\n",
              "    </tr>\n",
              "    <tr>\n",
              "      <th>199</th>\n",
              "      <td>0</td>\n",
              "      <td>4</td>\n",
              "    </tr>\n",
              "    <tr>\n",
              "      <th>213</th>\n",
              "      <td>0</td>\n",
              "      <td>4</td>\n",
              "    </tr>\n",
              "    <tr>\n",
              "      <th>220</th>\n",
              "      <td>0</td>\n",
              "      <td>4</td>\n",
              "    </tr>\n",
              "    <tr>\n",
              "      <th>228</th>\n",
              "      <td>0</td>\n",
              "      <td>4</td>\n",
              "    </tr>\n",
              "    <tr>\n",
              "      <th>229</th>\n",
              "      <td>1</td>\n",
              "      <td>4</td>\n",
              "    </tr>\n",
              "    <tr>\n",
              "      <th>238</th>\n",
              "      <td>0</td>\n",
              "      <td>4</td>\n",
              "    </tr>\n",
              "    <tr>\n",
              "      <th>245</th>\n",
              "      <td>0</td>\n",
              "      <td>4</td>\n",
              "    </tr>\n",
              "    <tr>\n",
              "      <th>266</th>\n",
              "      <td>0</td>\n",
              "      <td>4</td>\n",
              "    </tr>\n",
              "    <tr>\n",
              "      <th>272</th>\n",
              "      <td>0</td>\n",
              "      <td>4</td>\n",
              "    </tr>\n",
              "    <tr>\n",
              "      <th>276</th>\n",
              "      <td>0</td>\n",
              "      <td>4</td>\n",
              "    </tr>\n",
              "    <tr>\n",
              "      <th>297</th>\n",
              "      <td>0</td>\n",
              "      <td>4</td>\n",
              "    </tr>\n",
              "    <tr>\n",
              "      <th>331</th>\n",
              "      <td>0</td>\n",
              "      <td>4</td>\n",
              "    </tr>\n",
              "    <tr>\n",
              "      <th>334</th>\n",
              "      <td>1</td>\n",
              "      <td>4</td>\n",
              "    </tr>\n",
              "    <tr>\n",
              "      <th>350</th>\n",
              "      <td>0</td>\n",
              "      <td>4</td>\n",
              "    </tr>\n",
              "    <tr>\n",
              "      <th>353</th>\n",
              "      <td>1</td>\n",
              "      <td>4</td>\n",
              "    </tr>\n",
              "    <tr>\n",
              "      <th>359</th>\n",
              "      <td>0</td>\n",
              "      <td>4</td>\n",
              "    </tr>\n",
              "    <tr>\n",
              "      <th>376</th>\n",
              "      <td>0</td>\n",
              "      <td>4</td>\n",
              "    </tr>\n",
              "  </tbody>\n",
              "</table>\n",
              "</div>"
            ],
            "text/plain": [
              "     data_index  cluster\n",
              "3             0        4\n",
              "33            0        4\n",
              "34            0        4\n",
              "74            0        4\n",
              "93            0        4\n",
              "129           1        4\n",
              "139           0        4\n",
              "148           0        4\n",
              "150           0        4\n",
              "152           0        4\n",
              "154           1        4\n",
              "159           1        4\n",
              "160           0        4\n",
              "185           0        4\n",
              "199           0        4\n",
              "213           0        4\n",
              "220           0        4\n",
              "228           0        4\n",
              "229           1        4\n",
              "238           0        4\n",
              "245           0        4\n",
              "266           0        4\n",
              "272           0        4\n",
              "276           0        4\n",
              "297           0        4\n",
              "331           0        4\n",
              "334           1        4\n",
              "350           0        4\n",
              "353           1        4\n",
              "359           0        4\n",
              "376           0        4"
            ]
          },
          "metadata": {
            "tags": []
          },
          "execution_count": 47
        }
      ]
    }
  ]
}